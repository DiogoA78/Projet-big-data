{
 "cells": [
  {
   "cell_type": "markdown",
   "metadata": {},
   "source": [
    "# Traitement des données"
   ]
  },
  {
   "cell_type": "code",
   "execution_count": 13,
   "metadata": {},
   "outputs": [],
   "source": [
    "import pyspark"
   ]
  },
  {
   "cell_type": "code",
   "execution_count": 14,
   "metadata": {},
   "outputs": [],
   "source": [
    "from pyspark.sql import SparkSession"
   ]
  },
  {
   "cell_type": "code",
   "execution_count": 3,
   "metadata": {},
   "outputs": [],
   "source": [
    "spark = SparkSession \\\n",
    "    .builder \\\n",
    "    .appName(\"Traitement\") \\\n",
    "    .config(\"spark.mongodb.read.connection.uri\", \"mongodb://localhost:27017/SpankFoot.ucl_clubs_attack\") \\\n",
    "    .config(\"spark.mongodb.write.connection.uri\", \"mongodb://localhost:27017/SpankFoot.ucl_clubs_attack\") \\\n",
    "    .getOrCreate()"
   ]
  },
  {
   "cell_type": "code",
   "execution_count": 744,
   "metadata": {},
   "outputs": [],
   "source": [
    "spark = SparkSession.builder.appName(\"Traitement\") \\\n",
    "    .config(\"spark.mongodb.input.uri\", \"mongodb://localhost:27017/SpankFoot.ucl_clubs_attack\") \\\n",
    "    .config(\"spark.mongodb.output.uri\", \"mongodb://localhost:27017/SpankFoot.ucl_clubs_attack\") \\\n",
    "    .config('spark.jars.packages', 'org.mongodb.spark:mongo-spark-connector_2.12:3.3.1') \\\n",
    "    .getOrCreate()"
   ]
  },
  {
   "cell_type": "code",
   "execution_count": 149,
   "metadata": {},
   "outputs": [],
   "source": [
    "from pyspark.sql import SparkSession\n",
    "from pyspark.sql.types import *\n",
    "from pyspark.sql import functions as F\n",
    "from pyspark.sql.types import *\n",
    "from pyspark.sql.functions import udf\n",
    "from pyspark.sql.window import Window\n",
    "from pyspark.sql.functions import col\n",
    "from pyspark.sql.functions import split\n",
    "import pandas as pd \n",
    "from pyspark.sql.functions import lit"
   ]
  },
  {
   "cell_type": "markdown",
   "metadata": {
    "jp-MarkdownHeadingCollapsed": true,
    "tags": []
   },
   "source": [
    "## UCL"
   ]
  },
  {
   "cell_type": "markdown",
   "metadata": {
    "jp-MarkdownHeadingCollapsed": true,
    "tags": []
   },
   "source": [
    "### Attack\n",
    " "
   ]
  },
  {
   "cell_type": "code",
   "execution_count": 19,
   "metadata": {},
   "outputs": [
    {
     "data": {
      "text/plain": [
       "[('_c0', 'string'), ('team', 'string')]"
      ]
     },
     "execution_count": 19,
     "metadata": {},
     "output_type": "execute_result"
    }
   ],
   "source": [
    "path = \"./data/LDC/ucl_clubs_attack.csv\"\n",
    "df1 = spark.read.option(\"delimiter\",\",\").options(header=True).csv(path)\n",
    "df1.dtypes"
   ]
  },
  {
   "cell_type": "code",
   "execution_count": 20,
   "metadata": {},
   "outputs": [
    {
     "name": "stdout",
     "output_type": "stream",
     "text": [
      "+---+--------------------+\n",
      "|_c0|                team|\n",
      "+---+--------------------+\n",
      "|  0|01 Man_City Engla...|\n",
      "|  1|02 Barcelona Spai...|\n",
      "|  2|03 Real_Madrid Sp...|\n",
      "|  3|04 Liverpool Engl...|\n",
      "|  4|05 Marseille Fran...|\n",
      "|  5|06 Chelsea Englan...|\n",
      "|  6|07 Paris France 3...|\n",
      "|  7|08 Atlético Spain...|\n",
      "|  8|09 Bayern Germany...|\n",
      "|  9|10 Juventus Italy...|\n",
      "| 10|11 Leverkusen Ger...|\n",
      "| 11|12 Benfica Portug...|\n",
      "| 12|13 Napoli Italy 2...|\n",
      "| 13|14 Milan Italy 25...|\n",
      "| 14|15 Salzburg Austr...|\n",
      "+---+--------------------+\n",
      "\n"
     ]
    }
   ],
   "source": [
    "df1.show()"
   ]
  },
  {
   "cell_type": "code",
   "execution_count": 21,
   "metadata": {},
   "outputs": [
    {
     "name": "stdout",
     "output_type": "stream",
     "text": [
      "+----+-----------+--------+------+------+------------+-------+-------+------------+\n",
      "|Rank|Equipe     |Country |Attack|Assist|Corner_taken|Offside|Dribble|Match_played|\n",
      "+----+-----------+--------+------+------+------------+-------+-------+------------+\n",
      "|01  |Man_City   |England |415   |12    |38          |6      |8      |82          |\n",
      "|02  |Barcelona  |Spain   |398   |11    |40          |6      |8      |107         |\n",
      "|03  |Real_Madrid|Spain   |372   |11    |40          |6      |6      |99          |\n",
      "|04  |Liverpool  |England |349   |14    |46          |6      |12     |83          |\n",
      "|05  |Marseille  |France  |336   |6     |30          |6      |26     |89          |\n",
      "|06  |Chelsea    |England |333   |7     |27          |6      |16     |73          |\n",
      "|07  |Paris      |France  |317   |13    |29          |6      |14     |127         |\n",
      "|08  |Atlético   |Spain   |309   |5     |39          |6      |20     |83          |\n",
      "|09  |Bayern     |Germany |305   |17    |19          |6      |17     |91          |\n",
      "|10  |Juventus   |Italy   |283   |8     |27          |6      |17     |80          |\n",
      "|11  |Leverkusen |Germany |278   |4     |31          |6      |13     |82          |\n",
      "|12  |Benfica    |Portugal|273   |11    |30          |6      |5      |88          |\n",
      "|13  |Napoli     |Italy   |259   |15    |19          |6      |15     |88          |\n",
      "|14  |Milan      |Italy   |257   |7     |24          |6      |13     |82          |\n",
      "|15  |Salzburg   |Austria |249   |3     |24          |6      |8      |58          |\n",
      "+----+-----------+--------+------+------+------------+-------+-------+------------+\n",
      "\n"
     ]
    }
   ],
   "source": [
    "df1 = df1.drop(col(\"_c0\"))\n",
    "df1 = df1.withColumn('Rank', split(df1['team'], ' ').getItem(0)) \\\n",
    "       .withColumn('Equipe', split(df1['team'], ' ').getItem(1)) \\\n",
    "       .withColumn('Country', split(df1['team'], ' ').getItem(2)) \\\n",
    "       .withColumn('Attack', split(df1['team'], ' ').getItem(3)) \\\n",
    "       .withColumn('Assist', split(df1['team'], ' ').getItem(4)) \\\n",
    "       .withColumn('Corner_taken', split(df1['team'], ' ').getItem(5)) \\\n",
    "       .withColumn('Offside', split(df1['team'], ' ').getItem(8)) \\\n",
    "       .withColumn('Dribble', split(df1['team'], ' ').getItem(6)) \\\n",
    "       .withColumn('Match_played', split(df1['team'], ' ').getItem(7))\n",
    "\n",
    "df1 = df1.drop(col(\"team\"))\n",
    "df1 = df1.na.drop()\n",
    "df1.show(truncate=False)"
   ]
  },
  {
   "cell_type": "code",
   "execution_count": 22,
   "metadata": {},
   "outputs": [],
   "source": [
    "df1.toPandas().to_csv(\"./data/LDC/ucl_clubs_attack.csv\")"
   ]
  },
  {
   "cell_type": "markdown",
   "metadata": {
    "jp-MarkdownHeadingCollapsed": true,
    "tags": []
   },
   "source": [
    "### Games "
   ]
  },
  {
   "cell_type": "code",
   "execution_count": 23,
   "metadata": {},
   "outputs": [],
   "source": [
    "path = \"./data/LDC/ucl_games.csv\"\n",
    "df2 = spark.read.option(\"delimiter\",\",\").options(header=True).csv(path)\n",
    "df2 = df2.drop(col(\"_c0\"))"
   ]
  },
  {
   "cell_type": "code",
   "execution_count": 24,
   "metadata": {},
   "outputs": [
    {
     "name": "stdout",
     "output_type": "stream",
     "text": [
      "+------------+-------------------+---------+---------+-------------------+\n",
      "|        date|         equipe_dom|score_dom|score_ext|         equipe_ext|\n",
      "+------------+-------------------+---------+---------+-------------------+\n",
      "|02.11. 21:00|           AC Milan|        4|        0|           Salzburg|\n",
      "|02.11. 21:00|            Chelsea|        2|        1|          D. Zagreb|\n",
      "|02.11. 21:00|      FC Copenhagen|        1|        1|           Dortmund|\n",
      "|02.11. 21:00|           Juventus|        1|        2|           Paris SG|\n",
      "|02.11. 21:00|      Maccabi Haifa|        1|        6|            Benfica|\n",
      "|02.11. 21:00|    Manchester City|        3|        1|            Sevilla|\n",
      "|02.11. 18:45|        Real Madrid|        5|        1|             Celtic|\n",
      "|02.11. 18:45|   Shakhtar Donetsk|        0|        4|         RB Leipzig|\n",
      "|01.11. 21:00|      Bayern Munich|        2|        0|              Inter|\n",
      "|01.11. 21:00|          Liverpool|        2|        0|             Napoli|\n",
      "|01.11. 21:00|          Marseille|        1|        2|          Tottenham|\n",
      "|01.11. 21:00|              Plzen|        2|        4|          Barcelona|\n",
      "|01.11. 21:00|            Rangers|        1|        3|               Ajax|\n",
      "|01.11. 21:00|        Sporting CP|        1|        2|Eintracht Frankfurt|\n",
      "|01.11. 18:45|   Bayer Leverkusen|        0|        0|     Club Brugge KV|\n",
      "|01.11. 18:45|           FC Porto|        2|        1|        Atl. Madrid|\n",
      "|26.10. 21:00|               Ajax|        0|        3|          Liverpool|\n",
      "|26.10. 21:00|        Atl. Madrid|        2|        2|   Bayer Leverkusen|\n",
      "|26.10. 21:00|          Barcelona|        0|        3|      Bayern Munich|\n",
      "|26.10. 21:00|Eintracht Frankfurt|        2|        1|          Marseille|\n",
      "+------------+-------------------+---------+---------+-------------------+\n",
      "only showing top 20 rows\n",
      "\n"
     ]
    }
   ],
   "source": [
    "df2.show()"
   ]
  },
  {
   "cell_type": "code",
   "execution_count": 25,
   "metadata": {},
   "outputs": [],
   "source": [
    "#df2.write.option(\"header\",True).csv(\"./data/LDC/ucl_games\")\n",
    "df2.toPandas().to_csv(\"./data/LDC/ucl_games.csv\")"
   ]
  },
  {
   "cell_type": "markdown",
   "metadata": {
    "jp-MarkdownHeadingCollapsed": true,
    "tags": []
   },
   "source": [
    "### Group"
   ]
  },
  {
   "cell_type": "code",
   "execution_count": 173,
   "metadata": {},
   "outputs": [
    {
     "name": "stdout",
     "output_type": "stream",
     "text": [
      "+----------------+--------+---+----+----+---+---+---+---+\n",
      "|            team|nb_match|win|draw|lose| GF| GA| GD|pts|\n",
      "+----------------+--------+---+----+----+---+---+---+---+\n",
      "|          Napoli|       6|  5|   0|   1| 20|  6| 14| 15|\n",
      "|       Liverpool|       6|  5|   0|   1| 17|  6| 11| 15|\n",
      "|            Ajax|       6|  2|   0|   4| 11| 16| -5|  6|\n",
      "|         Rangers|       6|  0|   0|   6|  2| 22|-20|  0|\n",
      "|           Porto|       6|  4|   0|   2| 12|  7|  5| 12|\n",
      "|     Club Brugge|       6|  3|   2|   1|  7|  4|  3| 11|\n",
      "|      Leverkusen|       6|  1|   2|   3|  4|  8| -4|  5|\n",
      "|        Atlético|       6|  1|   2|   3|  5|  9| -4|  5|\n",
      "|          Bayern|       6|  6|   0|   0| 18|  2| 16| 18|\n",
      "|           Inter|       6|  3|   1|   2| 10|  7|  3| 10|\n",
      "|       Barcelona|       6|  2|   1|   3| 12| 12|  0|  7|\n",
      "|           Plzeň|       6|  0|   0|   6|  5| 24|-19|  0|\n",
      "|       Tottenham|       6|  3|   2|   1|  8|  6|  2| 11|\n",
      "|       Frankfurt|       6|  3|   1|   2|  7|  8| -1| 10|\n",
      "|     Sporting CP|       6|  2|   1|   3|  8|  9| -1|  7|\n",
      "|       Marseille|       6|  2|   0|   4|  8|  8|  0|  6|\n",
      "|         Chelsea|       6|  4|   1|   1| 10|  4|  6| 13|\n",
      "|           Milan|       6|  3|   1|   2| 12|  7|  5| 10|\n",
      "|        Salzburg|       6|  1|   3|   2|  5|  9| -4|  6|\n",
      "|   Dinamo Zagreb|       6|  1|   1|   4|  4| 11| -7|  4|\n",
      "|     Real Madrid|       6|  4|   1|   1| 15|  6|  9| 13|\n",
      "|         Leipzig|       6|  4|   0|   2| 13|  9|  4| 12|\n",
      "|Shakhtar Donetsk|       6|  1|   3|   2|  8| 10| -2|  6|\n",
      "|          Celtic|       6|  0|   2|   4|  4| 15|-11|  2|\n",
      "|        Man City|       6|  4|   2|   0| 14|  2| 12| 14|\n",
      "|        Dortmund|       6|  2|   3|   1| 10|  5|  5|  9|\n",
      "|         Sevilla|       6|  1|   2|   3|  6| 12| -6|  5|\n",
      "|      Copenhagen|       6|  0|   3|   3|  1| 12|-11|  3|\n",
      "|         Benfica|       6|  4|   2|   0| 16|  7|  9| 14|\n",
      "|           Paris|       6|  4|   2|   0| 16|  7|  9| 14|\n",
      "|        Juventus|       6|  1|   0|   5|  9| 13| -4|  3|\n",
      "|        M. Haifa|       6|  1|   0|   5|  7| 21|-14|  3|\n",
      "+----------------+--------+---+----+----+---+---+---+---+\n",
      "\n"
     ]
    }
   ],
   "source": [
    "path = \"./data/LDC/ucl_group.csv\"\n",
    "df3 = spark.read.option(\"delimiter\",\",\").options(header=True).csv(path)\n",
    "df3 = df3.drop(col(\"_c0\"))\n",
    "df3.show(50)"
   ]
  },
  {
   "cell_type": "code",
   "execution_count": 180,
   "metadata": {},
   "outputs": [
    {
     "name": "stdout",
     "output_type": "stream",
     "text": [
      "+----------------+--------+---+----+----+---+---+---+---+------+\n",
      "|            team|nb_match|win|draw|lose| GF| GA| GD|pts|Groupe|\n",
      "+----------------+--------+---+----+----+---+---+---+---+------+\n",
      "|          Napoli|       6|  5|   0|   1| 20|  6| 14| 15|     A|\n",
      "|       Liverpool|       6|  5|   0|   1| 17|  6| 11| 15|     A|\n",
      "|            Ajax|       6|  2|   0|   4| 11| 16| -5|  6|     A|\n",
      "|         Rangers|       6|  0|   0|   6|  2| 22|-20|  0|     A|\n",
      "|           Porto|       6|  4|   0|   2| 12|  7|  5| 12|     B|\n",
      "|     Club Brugge|       6|  3|   2|   1|  7|  4|  3| 11|     B|\n",
      "|      Leverkusen|       6|  1|   2|   3|  4|  8| -4|  5|     B|\n",
      "|        Atlético|       6|  1|   2|   3|  5|  9| -4|  5|     B|\n",
      "|          Bayern|       6|  6|   0|   0| 18|  2| 16| 18|     C|\n",
      "|           Inter|       6|  3|   1|   2| 10|  7|  3| 10|     C|\n",
      "|       Barcelona|       6|  2|   1|   3| 12| 12|  0|  7|     C|\n",
      "|           Plzeň|       6|  0|   0|   6|  5| 24|-19|  0|     C|\n",
      "|       Tottenham|       6|  3|   2|   1|  8|  6|  2| 11|     D|\n",
      "|       Frankfurt|       6|  3|   1|   2|  7|  8| -1| 10|     D|\n",
      "|     Sporting CP|       6|  2|   1|   3|  8|  9| -1|  7|     D|\n",
      "|       Marseille|       6|  2|   0|   4|  8|  8|  0|  6|     D|\n",
      "|         Chelsea|       6|  4|   1|   1| 10|  4|  6| 13|     E|\n",
      "|           Milan|       6|  3|   1|   2| 12|  7|  5| 10|     E|\n",
      "|        Salzburg|       6|  1|   3|   2|  5|  9| -4|  6|     E|\n",
      "|   Dinamo Zagreb|       6|  1|   1|   4|  4| 11| -7|  4|     E|\n",
      "|     Real Madrid|       6|  4|   1|   1| 15|  6|  9| 13|     F|\n",
      "|         Leipzig|       6|  4|   0|   2| 13|  9|  4| 12|     F|\n",
      "|Shakhtar Donetsk|       6|  1|   3|   2|  8| 10| -2|  6|     F|\n",
      "|          Celtic|       6|  0|   2|   4|  4| 15|-11|  2|     F|\n",
      "|        Man City|       6|  4|   2|   0| 14|  2| 12| 14|     G|\n",
      "|        Dortmund|       6|  2|   3|   1| 10|  5|  5|  9|     G|\n",
      "|         Sevilla|       6|  1|   2|   3|  6| 12| -6|  5|     G|\n",
      "|      Copenhagen|       6|  0|   3|   3|  1| 12|-11|  3|     G|\n",
      "|         Benfica|       6|  4|   2|   0| 16|  7|  9| 14|     H|\n",
      "|           Paris|       6|  4|   2|   0| 16|  7|  9| 14|     H|\n",
      "|        Juventus|       6|  1|   0|   5|  9| 13| -4|  3|     H|\n",
      "|        M. Haifa|       6|  1|   0|   5|  7| 21|-14|  3|     H|\n",
      "+----------------+--------+---+----+----+---+---+---+---+------+\n",
      "\n"
     ]
    }
   ],
   "source": [
    "from pyspark.sql.functions import when\n",
    "df3 = df3.withColumn(\"Groupe\", \\\n",
    "   when((df3.team == \"Napoli\"), lit(\"A\")) \\\n",
    "     .when((df3.team == \"Liverpool\"), lit(\"A\")) \\\n",
    "     .when((df3.team == \"Ajax\") , lit(\"A\")) \\\n",
    "     .when((df3.team == \"Rangers\") , lit(\"A\")) \\\n",
    "     .when((df3.team == \"Porto\"), lit(\"B\")) \\\n",
    "     .when((df3.team == \"Club Brugge\") , lit(\"B\")) \\\n",
    "     .when((df3.team == \"Leverkusen\") , lit(\"B\")) \\\n",
    "     .when((df3.team == \"Atlético\") , lit(\"B\")) \\\n",
    "     .when((df3.team == \"Bayern\"), lit(\"C\")) \\\n",
    "     .when((df3.team == \"Inter\") , lit(\"C\")) \\\n",
    "     .when((df3.team == \"Barcelona\") , lit(\"C\")) \\\n",
    "     .when((df3.team == \"Plzeň\") , lit(\"C\")) \\\n",
    "     .when((df3.team == \"Tottenham\") , lit(\"D\")) \\\n",
    "     .when((df3.team == \"Frankfurt\") , lit(\"D\")) \\\n",
    "     .when((df3.team == \"Sporting CP\") , lit(\"D\")) \\\n",
    "     .when((df3.team == \"Marseille\") , lit(\"D\")) \\\n",
    "     .when((df3.team == \"Chelsea\") , lit(\"E\")) \\\n",
    "     .when((df3.team == \"Milan\") , lit(\"E\")) \\\n",
    "     .when((df3.team == \"Salzburg\") , lit(\"E\")) \\\n",
    "     .when((df3.team == \"Dinamo Zagreb\") , lit(\"E\")) \\\n",
    "     .when((df3.team == \"Real Madrid\") , lit(\"F\")) \\\n",
    "     .when((df3.team == \"Leipzig\") , lit(\"F\")) \\\n",
    "     .when((df3.team == \"Shakhtar Donetsk\") , lit(\"F\")) \\\n",
    "     .when((df3.team == \"Celtic\") , lit(\"F\")) \\\n",
    "     .when((df3.team == \"Man City\") , lit(\"G\")) \\\n",
    "     .when((df3.team == \"Dortmund\") , lit(\"G\")) \\\n",
    "     .when((df3.team == \"Sevilla\") , lit(\"G\")) \\\n",
    "     .when((df3.team == \"Copenhagen\") , lit(\"G\")) \\\n",
    "     .when((df3.team == \"Benfica\") , lit(\"H\")) \\\n",
    "     .when((df3.team == \"Paris\") , lit(\"H\")) \\\n",
    "     .when((df3.team == \"Juventus\") , lit(\"H\")) \\\n",
    "     .when((df3.team == \"M. Haifa\" ) , lit(\"H\")))\n",
    "df3.show(32)     "
   ]
  },
  {
   "cell_type": "code",
   "execution_count": 181,
   "metadata": {},
   "outputs": [],
   "source": [
    "df3.toPandas().to_csv(\"./data/LDC/ucl_group.csv\")"
   ]
  },
  {
   "cell_type": "markdown",
   "metadata": {
    "tags": []
   },
   "source": [
    "### DEF"
   ]
  },
  {
   "cell_type": "code",
   "execution_count": 28,
   "metadata": {},
   "outputs": [],
   "source": [
    "path = \"./data/LDC/ucl_clubs_def.csv\"\n",
    "df4 = spark.read.option(\"delimiter\",\",\").options(header=True).csv(path)"
   ]
  },
  {
   "cell_type": "code",
   "execution_count": 29,
   "metadata": {},
   "outputs": [
    {
     "name": "stdout",
     "output_type": "stream",
     "text": [
      "+----+----------+-----------+------------+-------+-----------+------------+-----------------+------------+\n",
      "|Rank|Equipe    |Country    |Ball_recover|Tackles|Tackles_Won|Tackles_Lost|Clearence_attempt|Match_played|\n",
      "+----+----------+-----------+------------+-------+-----------+------------+-----------------+------------+\n",
      "|01  |Frankfurt |Germany    |296         |67     |23         |44          |88               |6           |\n",
      "|02  |Chelsea   |England    |278         |66     |25         |41          |82               |6           |\n",
      "|03  |Salzburg  |Austria    |272         |101    |46         |55          |125              |6           |\n",
      "|04  |Leverkusen|Germany    |266         |78     |27         |51          |127              |6           |\n",
      "|05  |Bayern    |Germany    |255         |85     |32         |53          |78               |6           |\n",
      "|05  |Napoli    |Italy      |255         |66     |25         |41          |112              |6           |\n",
      "|07  |Benfica   |Portugal   |252         |93     |35         |58          |111              |6           |\n",
      "|07  |Dortmund  |Germany    |252         |68     |26         |42          |100              |6           |\n",
      "|09  |Ajax      |Netherlands|246         |93     |42         |51          |102              |6           |\n",
      "|10  |Leipzig   |Germany    |245         |51     |26         |25          |72               |6           |\n",
      "|11  |M._Haifa  |Israel     |244         |84     |20         |64          |130              |6           |\n",
      "|12  |Liverpool |England    |243         |81     |34         |47          |58               |6           |\n",
      "|12  |Marseille |France     |243         |55     |11         |44          |63               |6           |\n",
      "|14  |Porto     |Portugal   |242         |76     |25         |51          |113              |6           |\n",
      "|15  |Tottenham |England    |241         |73     |11         |62          |110              |6           |\n",
      "+----+----------+-----------+------------+-------+-----------+------------+-----------------+------------+\n",
      "\n"
     ]
    }
   ],
   "source": [
    "df4 = df4.drop(col(\"_c0\"))\n",
    "df4 = df4.withColumn('Rank', split(df4['team'], ' ').getItem(0)) \\\n",
    "       .withColumn('Equipe', split(df4['team'], ' ').getItem(1)) \\\n",
    "       .withColumn('Country', split(df4['team'], ' ').getItem(2)) \\\n",
    "       .withColumn('Ball_recover', split(df4['team'], ' ').getItem(3)) \\\n",
    "       .withColumn('Tackles', split(df4['team'], ' ').getItem(4)) \\\n",
    "       .withColumn('Tackles_Won', split(df4['team'], ' ').getItem(5)) \\\n",
    "       .withColumn('Tackles_Lost', split(df4['team'], ' ').getItem(8)) \\\n",
    "       .withColumn('Clearence_attempt', split(df4['team'], ' ').getItem(6)) \\\n",
    "       .withColumn('Match_played', split(df4['team'], ' ').getItem(7))\n",
    "\n",
    "df4 = df4.drop(col(\"team\"))\n",
    "df4 = df4.na.drop()\n",
    "df4.show(truncate=False)"
   ]
  },
  {
   "cell_type": "code",
   "execution_count": 30,
   "metadata": {},
   "outputs": [],
   "source": [
    "df4.toPandas().to_csv(\"./data/LDC/ucl_clubs_def.csv\")"
   ]
  },
  {
   "cell_type": "markdown",
   "metadata": {
    "tags": []
   },
   "source": [
    "### GK"
   ]
  },
  {
   "cell_type": "code",
   "execution_count": 31,
   "metadata": {},
   "outputs": [],
   "source": [
    "path = \"./data/LDC/ucl_clubs_gk.csv\"\n",
    "df5 = spark.read.option(\"delimiter\",\",\").options(header=True).csv(path)"
   ]
  },
  {
   "cell_type": "code",
   "execution_count": 32,
   "metadata": {},
   "outputs": [
    {
     "name": "stdout",
     "output_type": "stream",
     "text": [
      "+----+----------------+-----------+--------+-------------+------------------+------------------+------------+------------+\n",
      "|Rank|Equipe          |Country    |Save    |Goal_conceded|Own_goals_conceded|Saves_from_penalty|Punches_made|Match_played|\n",
      "+----+----------------+-----------+--------+-------------+------------------+------------------+------------+------------+\n",
      "|01  |Plzeň           |Czech      |Republic|32           |24                |0                 |0           |2           |\n",
      "|02  |Shakhtar_Donetsk|Ukraine    |31      |10           |2                 |0                 |10          |6           |\n",
      "|02  |Club_Brugge     |Belgium    |31      |4            |0                 |5                 |5           |6           |\n",
      "|04  |Rangers         |Scotland   |29      |22           |0                 |0                 |0           |6           |\n",
      "|04  |Inter           |Italy      |29      |7            |1                 |3                 |4           |6           |\n",
      "|06  |Copenhagen      |Denmark    |27      |12           |1                 |2                 |0           |6           |\n",
      "|07  |Dinamo_Zagreb   |Croatia    |25      |11           |1                 |1                 |2           |6           |\n",
      "|08  |Porto           |Portugal   |23      |7            |1                 |3                 |4           |6           |\n",
      "|09  |Ajax            |Netherlands|22      |16           |0                 |1                 |1           |6           |\n",
      "|09  |Sporting        |CP         |Portugal|22           |9                 |0                 |2           |2           |\n",
      "|09  |Salzburg        |Austria    |22      |9            |0                 |1                 |3           |6           |\n",
      "|12  |M._Haifa        |Israel     |21      |21           |1                 |1                 |2           |6           |\n",
      "|13  |Juventus        |Italy      |20      |13           |0                 |0                 |1           |6           |\n",
      "|13  |Milan           |Italy      |20      |7            |0                 |2                 |2           |6           |\n",
      "|13  |Real_Madrid     |Spain      |20      |6            |0                 |2                 |4           |6           |\n",
      "+----+----------------+-----------+--------+-------------+------------------+------------------+------------+------------+\n",
      "\n"
     ]
    }
   ],
   "source": [
    "df5 = df5.drop(col(\"_c0\"))\n",
    "df5 = df5.withColumn('Rank', split(df5['team'], ' ').getItem(0)) \\\n",
    "       .withColumn('Equipe', split(df5['team'], ' ').getItem(1)) \\\n",
    "       .withColumn('Country', split(df5['team'], ' ').getItem(2)) \\\n",
    "       .withColumn('Save', split(df5['team'], ' ').getItem(3)) \\\n",
    "       .withColumn('Goal_conceded', split(df5['team'], ' ').getItem(4)) \\\n",
    "       .withColumn('Own_goals_conceded', split(df5['team'], ' ').getItem(5)) \\\n",
    "       .withColumn('Saves_from_penalty', split(df5['team'], ' ').getItem(6)) \\\n",
    "       .withColumn('Punches_made', split(df5['team'], ' ').getItem(7)) \\\n",
    "       .withColumn('Match_played', split(df5['team'], ' ').getItem(8))\n",
    "\n",
    "df5 = df5.drop(col(\"team\"))\n",
    "df5 = df5.na.drop()\n",
    "df5.show(truncate=False)"
   ]
  },
  {
   "cell_type": "code",
   "execution_count": 33,
   "metadata": {},
   "outputs": [],
   "source": [
    "df5.toPandas().to_csv(\"./data/LDC/ucl_clubs_gk.csv\")"
   ]
  },
  {
   "cell_type": "markdown",
   "metadata": {
    "tags": []
   },
   "source": [
    "### Attempt"
   ]
  },
  {
   "cell_type": "code",
   "execution_count": 34,
   "metadata": {},
   "outputs": [],
   "source": [
    "path = \"./data/LDC/ucl_clubs_attempt.csv\"\n",
    "df6 = spark.read.option(\"delimiter\",\",\").options(header=True).csv(path)\n"
   ]
  },
  {
   "cell_type": "code",
   "execution_count": 35,
   "metadata": {},
   "outputs": [
    {
     "name": "stdout",
     "output_type": "stream",
     "text": [
      "+----+-----------+--------+-------------+-----------------+------------------+-------+------------+\n",
      "|Rank|Equipe     |Country |Total_attempt|Attempt_on_target|Attempt_off_target|Blocked|Match_played|\n",
      "+----+-----------+--------+-------------+-----------------+------------------+-------+------------+\n",
      "|01  |Real_Madrid|Spain   |114          |42               |49                |23     |6           |\n",
      "|02  |Liverpool  |England |110          |47               |39                |24     |6           |\n",
      "|03  |Man_City   |England |109          |42               |36                |31     |6           |\n",
      "|04  |Bayern     |Germany |106          |51               |34                |21     |6           |\n",
      "|04  |Napoli     |Italy   |106          |44               |43                |19     |6           |\n",
      "|06  |Atlético   |Spain   |94           |35               |33                |26     |6           |\n",
      "|07  |Barcelona  |Spain   |92           |34               |33                |25     |6           |\n",
      "|07  |Chelsea    |England |92           |33               |33                |26     |6           |\n",
      "|09  |Benfica    |Portugal|83           |34               |29                |20     |6           |\n",
      "|09  |Porto      |Portugal|83           |31               |31                |21     |6           |\n",
      "|09  |Leverkusen |Germany |83           |29               |33                |21     |6           |\n",
      "|12  |Celtic     |Scotland|82           |29               |34                |19     |6           |\n",
      "|12  |Salzburg   |Austria |82           |26               |36                |20     |6           |\n",
      "|12  |Marseille  |France  |82           |24               |37                |21     |6           |\n",
      "|15  |Paris      |France  |80           |36               |28                |16     |6           |\n",
      "+----+-----------+--------+-------------+-----------------+------------------+-------+------------+\n",
      "\n"
     ]
    }
   ],
   "source": [
    "df6 = df6.drop(col(\"_c0\"))\n",
    "df6 = df6.withColumn('Rank', split(df6['team'], ' ').getItem(0)) \\\n",
    "       .withColumn('Equipe', split(df6['team'], ' ').getItem(1)) \\\n",
    "       .withColumn('Country', split(df6['team'], ' ').getItem(2)) \\\n",
    "       .withColumn('Total_attempt', split(df6['team'], ' ').getItem(3)) \\\n",
    "       .withColumn('Attempt_on_target', split(df6['team'], ' ').getItem(4)) \\\n",
    "       .withColumn('Attempt_off_target', split(df6['team'], ' ').getItem(5)) \\\n",
    "       .withColumn('Blocked', split(df6['team'], ' ').getItem(7)) \\\n",
    "       .withColumn('Match_played', split(df6['team'], ' ').getItem(6)) \n",
    "\n",
    "df6 = df6.drop(col(\"team\"))\n",
    "df6 = df6.na.drop()\n",
    "df6.show(truncate=False)"
   ]
  },
  {
   "cell_type": "code",
   "execution_count": 36,
   "metadata": {},
   "outputs": [],
   "source": [
    "df6.toPandas().to_csv(\"./data/LDC/ucl_clubs_attempt.csv\")"
   ]
  },
  {
   "cell_type": "markdown",
   "metadata": {
    "tags": []
   },
   "source": [
    "### Goals"
   ]
  },
  {
   "cell_type": "code",
   "execution_count": 37,
   "metadata": {},
   "outputs": [],
   "source": [
    "path = \"./data/LDC/ucl_clubs_goals.csv\"\n",
    "df7 = spark.read.option(\"delimiter\",\",\").options(header=True).csv(path)"
   ]
  },
  {
   "cell_type": "code",
   "execution_count": 38,
   "metadata": {},
   "outputs": [
    {
     "name": "stdout",
     "output_type": "stream",
     "text": [
      "+----+----------------+-----------+--------+----------+---------+----+------+-----------------+------------+-------+------------+\n",
      "|Rank|Equipe          |Country    |Goals   |Right_foot|Left_foot|Head|Others|Goals_inside_area|Goal_outside|Penalty|Match_Played|\n",
      "+----+----------------+-----------+--------+----------+---------+----+------+-----------------+------------+-------+------------+\n",
      "|01  |Napoli          |Italy      |20      |8         |7        |5   |0     |19               |1           |3      |6           |\n",
      "|02  |Bayern          |Germany    |18      |12        |3        |2   |0     |15               |2           |0      |6           |\n",
      "|03  |Liverpool       |England    |17      |5         |9        |3   |0     |15               |2           |1      |6           |\n",
      "|04  |Paris           |France     |16      |8         |7        |0   |0     |11               |4           |1      |6           |\n",
      "|04  |Benfica         |Portugal   |16      |7         |4        |3   |0     |12               |3           |3      |6           |\n",
      "|06  |Real_Madrid     |Spain      |15      |9         |4        |2   |0     |13               |2           |3      |6           |\n",
      "|07  |Man_City        |England    |14      |5         |8        |0   |0     |12               |1           |1      |6           |\n",
      "|08  |Leipzig         |Germany    |13      |7         |3        |1   |1     |12               |0           |0      |6           |\n",
      "|09  |Porto           |Portugal   |12      |9         |2        |1   |0     |11               |1           |3      |6           |\n",
      "|09  |Barcelona       |Spain      |12      |4         |5        |3   |0     |11               |1           |0      |6           |\n",
      "|09  |Milan           |Italy      |12      |1         |6        |4   |0     |11               |0           |2      |6           |\n",
      "|12  |Ajax            |Netherlands|11      |3         |6        |2   |0     |11               |0           |1      |6           |\n",
      "|13  |Chelsea         |England    |10      |6         |4        |0   |0     |8                |2           |1      |6           |\n",
      "|13  |Inter           |Italy      |10      |5         |4        |1   |0     |9                |1           |0      |6           |\n",
      "|13  |Dortmund        |Germany    |10      |4         |4        |2   |0     |10               |0           |0      |6           |\n",
      "|16  |Juventus        |Italy      |9       |1         |5        |3   |0     |8                |1           |0      |6           |\n",
      "|17  |Marseille       |France     |8       |5         |0        |3   |0     |8                |0           |1      |6           |\n",
      "|17  |Shakhtar_Donetsk|Ukraine    |8       |3         |4        |1   |0     |6                |2           |0      |6           |\n",
      "|17  |Tottenham       |England    |8       |3         |1        |4   |0     |7                |1           |1      |6           |\n",
      "|17  |Sporting        |CP         |Portugal|8         |2        |6   |5     |0                |7           |1      |0           |\n",
      "+----+----------------+-----------+--------+----------+---------+----+------+-----------------+------------+-------+------------+\n",
      "only showing top 20 rows\n",
      "\n"
     ]
    }
   ],
   "source": [
    "df7 = df7.drop(col(\"_c0\"))\n",
    "df7 = df7.withColumn('Rank', split(df7['team'], ' ').getItem(0)) \\\n",
    "       .withColumn('Equipe', split(df7['team'], ' ').getItem(1)) \\\n",
    "       .withColumn('Country', split(df7['team'], ' ').getItem(2)) \\\n",
    "       .withColumn('Goals', split(df7['team'], ' ').getItem(3)) \\\n",
    "       .withColumn('Right_foot', split(df7['team'], ' ').getItem(4)) \\\n",
    "       .withColumn('Left_foot', split(df7['team'], ' ').getItem(5)) \\\n",
    "       .withColumn('Head', split(df7['team'], ' ').getItem(11)) \\\n",
    "       .withColumn('Others', split(df7['team'], ' ').getItem(6)) \\\n",
    "       .withColumn('Goals_inside_area', split(df7['team'], ' ').getItem(7)) \\\n",
    "       .withColumn('Goal_outside', split(df7['team'], ' ').getItem(8)) \\\n",
    "       .withColumn('Penalty', split(df7['team'], ' ').getItem(9)) \\\n",
    "       .withColumn('Match_Played', split(df7['team'], ' ').getItem(10)) \n",
    "\n",
    "df7= df7.drop(col(\"team\"))\n",
    "df7 = df7.na.drop()\n",
    "df7.show(truncate=False)"
   ]
  },
  {
   "cell_type": "code",
   "execution_count": 39,
   "metadata": {},
   "outputs": [],
   "source": [
    "df7.toPandas().to_csv(\"./data/LDC/ucl_clubs_goals.csv\")"
   ]
  },
  {
   "cell_type": "markdown",
   "metadata": {
    "tags": []
   },
   "source": [
    "### Key"
   ]
  },
  {
   "cell_type": "code",
   "execution_count": 40,
   "metadata": {},
   "outputs": [],
   "source": [
    "path = \"./data/LDC/ucl_clubs_key.csv\"\n",
    "df8 = spark.read.option(\"delimiter\",\",\").options(header=True).csv(path)\n"
   ]
  },
  {
   "cell_type": "code",
   "execution_count": 41,
   "metadata": {},
   "outputs": [
    {
     "name": "stdout",
     "output_type": "stream",
     "text": [
      "+----+-----------+--------+------------+---+-----+----+\n",
      "|Rank|Equipe     |Country |Match_Played|Won|Drawn|Lost|\n",
      "+----+-----------+--------+------------+---+-----+----+\n",
      "|01  |Bayern     |Germany |6           |6  |0    |0   |\n",
      "|01  |Liverpool  |England |6           |5  |0    |1   |\n",
      "|01  |Napoli     |Italy   |6           |5  |0    |1   |\n",
      "|01  |Man_City   |England |6           |4  |2    |0   |\n",
      "|01  |Paris      |France  |6           |4  |2    |0   |\n",
      "|01  |Benfica    |Portugal|6           |4  |2    |0   |\n",
      "|01  |Chelsea    |England |6           |4  |1    |1   |\n",
      "|01  |Real_Madrid|Spain   |6           |4  |1    |1   |\n",
      "|01  |Porto      |Portugal|6           |4  |0    |2   |\n",
      "|01  |Leipzig    |Germany |6           |4  |0    |2   |\n",
      "|01  |Club_Brugge|Belgium |6           |3  |2    |1   |\n",
      "|01  |Tottenham  |England |6           |3  |2    |1   |\n",
      "|01  |Inter      |Italy   |6           |3  |1    |2   |\n",
      "|01  |Frankfurt  |Germany |6           |3  |1    |2   |\n",
      "|01  |Milan      |Italy   |6           |3  |1    |2   |\n",
      "+----+-----------+--------+------------+---+-----+----+\n",
      "\n"
     ]
    }
   ],
   "source": [
    "df8 = df8.drop(col(\"_c0\"))\n",
    "df8 = df8.withColumn('Rank', split(df8['team'], ' ').getItem(0)) \\\n",
    "       .withColumn('Equipe', split(df8['team'], ' ').getItem(1)) \\\n",
    "       .withColumn('Country', split(df8['team'], ' ').getItem(2)) \\\n",
    "       .withColumn('Match_Played', split(df8['team'], ' ').getItem(3)) \\\n",
    "       .withColumn('Won', split(df8['team'], ' ').getItem(4)) \\\n",
    "       .withColumn('Drawn', split(df8['team'], ' ').getItem(5)) \\\n",
    "       .withColumn('Lost', split(df8['team'], ' ').getItem(6)) \n",
    "\n",
    "df8 = df8.drop(col(\"team\"))\n",
    "df8 = df8.na.drop()\n",
    "df8.show(truncate=False)"
   ]
  },
  {
   "cell_type": "code",
   "execution_count": 42,
   "metadata": {},
   "outputs": [],
   "source": [
    "df8.toPandas().to_csv(\"./data/LDC/ucl_clubs_key.csv\")"
   ]
  },
  {
   "cell_type": "markdown",
   "metadata": {
    "tags": []
   },
   "source": [
    "### Discip "
   ]
  },
  {
   "cell_type": "code",
   "execution_count": 43,
   "metadata": {},
   "outputs": [],
   "source": [
    "path = \"./data/LDC/ucl_clubs_discip.csv\"\n",
    "df9 = spark.read.option(\"delimiter\",\",\").options(header=True).csv(path)"
   ]
  },
  {
   "cell_type": "code",
   "execution_count": 44,
   "metadata": {},
   "outputs": [
    {
     "name": "stdout",
     "output_type": "stream",
     "text": [
      "+----+----------+-----------+--------------+--------------+-----------+--------+------------+\n",
      "|Rank|Equipe    |Country    |Fouls_Commited|Fouls_Suffered|Yellow_card|Red_card|Match_Played|\n",
      "+----+----------+-----------+--------------+--------------+-----------+--------+------------+\n",
      "|01  |Chelsea   |England    |82            |83            |12         |0       |6           |\n",
      "|01  |Frankfurt |Germany    |82            |63            |14         |1       |6           |\n",
      "|03  |Leverkusen|Germany    |80            |50            |19         |1       |6           |\n",
      "|04  |Ajax      |Netherlands|78            |48            |15         |1       |6           |\n",
      "|05  |Salzburg  |Austria    |77            |50            |11         |0       |6           |\n",
      "|05  |M._Haifa  |Israel     |77            |46            |14         |0       |6           |\n",
      "|07  |Milan     |Italy      |74            |62            |15         |1       |6           |\n",
      "|07  |Bayern    |Germany    |74            |61            |11         |0       |6           |\n",
      "|09  |Tottenham |England    |71            |57            |15         |1       |6           |\n",
      "|09  |Benfica   |Portugal   |71            |51            |13         |0       |6           |\n",
      "|09  |Copenhagen|Denmark    |71            |42            |12         |1       |6           |\n",
      "|12  |Juventus  |Italy      |68            |67            |14         |0       |6           |\n",
      "|13  |Sporting  |CP         |Portugal      |67            |73         |6       |17          |\n",
      "|13  |Liverpool |England    |67            |47            |8          |0       |6           |\n",
      "|15  |Marseille |France     |66            |81            |11         |1       |6           |\n",
      "+----+----------+-----------+--------------+--------------+-----------+--------+------------+\n",
      "\n"
     ]
    }
   ],
   "source": [
    "df9 = df9.drop(col(\"_c0\"))\n",
    "df9 = df9.withColumn('Rank', split(df9['team'], ' ').getItem(0)) \\\n",
    "       .withColumn('Equipe', split(df9['team'], ' ').getItem(1)) \\\n",
    "       .withColumn('Country', split(df9['team'], ' ').getItem(2)) \\\n",
    "       .withColumn('Fouls_Commited', split(df9['team'], ' ').getItem(3)) \\\n",
    "       .withColumn('Fouls_Suffered', split(df9['team'], ' ').getItem(4)) \\\n",
    "       .withColumn('Yellow_card', split(df9['team'], ' ').getItem(5)) \\\n",
    "       .withColumn('Red_card', split(df9['team'], ' ').getItem(7)) \\\n",
    "       .withColumn('Match_Played', split(df9['team'], ' ').getItem(6)) \n",
    "\n",
    "\n",
    "df9 = df9.drop(col(\"team\"))\n",
    "df9 = df9.na.drop()\n",
    "df9.show(truncate=False)"
   ]
  },
  {
   "cell_type": "code",
   "execution_count": 45,
   "metadata": {},
   "outputs": [],
   "source": [
    "df9.toPandas().to_csv(\"./data/LDC/ucl_clubs_discip.csv\")"
   ]
  },
  {
   "cell_type": "markdown",
   "metadata": {
    "tags": []
   },
   "source": [
    "### Distrib"
   ]
  },
  {
   "cell_type": "code",
   "execution_count": 46,
   "metadata": {},
   "outputs": [],
   "source": [
    "path = \"./data/LDC/ucl_clubs_distrib.csv\"\n",
    "df10 = spark.read.option(\"delimiter\",\",\").options(header=True).csv(path)"
   ]
  },
  {
   "cell_type": "code",
   "execution_count": 47,
   "metadata": {},
   "outputs": [
    {
     "name": "stdout",
     "output_type": "stream",
     "text": [
      "+----+----------------+-----------+-------------+--------------+--------------+--------------+---------------+---------------+--------+------------+---------+\n",
      "|Rank|Equipe          |Country    |Pass_accuracy|Pass_attempted|Pass_completed|Cross_accuracy|Cross_attempted|Cross_completed|Freekick|Match_Played|Possesion|\n",
      "+----+----------------+-----------+-------------+--------------+--------------+--------------+---------------+---------------+--------+------------+---------+\n",
      "|01  |Real_Madrid     |Spain      |91.8         |4121          |3782          |23            |105            |25             |60      |6           |57.8     |\n",
      "|02  |Man_City        |England    |91.5         |4403          |4030          |23            |132            |31             |51      |6           |64.2     |\n",
      "|03  |Paris           |France     |90.5         |3821          |3466          |19            |68             |13             |109     |6           |55.5     |\n",
      "|04  |Barcelona       |Spain      |88.8         |3800          |3390          |25            |156            |40             |95      |6           |62.5     |\n",
      "|05  |Chelsea         |England    |88.5         |3753          |3328          |35            |114            |41             |96      |6           |60.8     |\n",
      "|06  |Bayern          |Germany    |88.3         |3520          |3118          |22            |57             |13             |73      |6           |55.7     |\n",
      "|07  |Leipzig         |Germany    |87.7         |3392          |2982          |26            |103            |27             |68      |6           |53.5     |\n",
      "|08  |Celtic          |Scotland   |87.5         |2946          |2583          |22            |114            |26             |48      |6           |44.2     |\n",
      "|09  |Marseille       |France     |87           |3384          |2957          |14            |116            |17             |92      |6           |59       |\n",
      "|10  |Atlético        |Spain      |86.5         |3368          |2928          |19            |152            |29             |66      |6           |54       |\n",
      "|10  |Shakhtar_Donetsk|Ukraine    |86.5         |2815          |2443          |20            |45             |9              |60      |6           |44.5     |\n",
      "|12  |Juventus        |Italy      |86.3         |2848          |2471          |23            |142            |34             |74      |6           |49.2     |\n",
      "|13  |Benfica         |Portugal   |86           |2904          |2506          |23            |88             |21             |65      |6           |49.7     |\n",
      "|14  |Napoli          |Italy      |85.8         |3054          |2644          |34            |79             |27             |93      |6           |50.7     |\n",
      "|15  |Liverpool       |England    |85.5         |3265          |2792          |27            |140            |39             |72      |6           |55       |\n",
      "|15  |Tottenham       |England    |85.5         |3011          |2577          |20            |120            |24             |66      |6           |48.3     |\n",
      "|17  |Sevilla         |Spain      |85.3         |2977          |2549          |29            |97             |29             |82      |6           |50.5     |\n",
      "|18  |Ajax            |Netherlands|85           |3184          |2753          |26            |61             |16             |64      |6           |53.7     |\n",
      "|19  |Leverkusen      |Germany    |84.7         |3041          |2583          |22            |97             |22             |61      |6           |52.3     |\n",
      "|20  |M._Haifa        |Israel     |84.5         |2524          |2133          |25            |86             |22             |60      |6           |45.7     |\n",
      "+----+----------------+-----------+-------------+--------------+--------------+--------------+---------------+---------------+--------+------------+---------+\n",
      "only showing top 20 rows\n",
      "\n"
     ]
    }
   ],
   "source": [
    "df10 = df10.drop(col(\"_c0\"))\n",
    "df10 = df10.withColumn('Rank', split(df10['team'], ' ').getItem(0)) \\\n",
    "       .withColumn('Equipe', split(df10['team'], ' ').getItem(1)) \\\n",
    "       .withColumn('Country', split(df10['team'], ' ').getItem(2)) \\\n",
    "       .withColumn('Pass_accuracy', split(df10['team'], ' ').getItem(3)) \\\n",
    "       .withColumn('Pass_attempted', split(df10['team'], ' ').getItem(4)) \\\n",
    "       .withColumn('Pass_completed', split(df10['team'], ' ').getItem(5)) \\\n",
    "       .withColumn('Cross_accuracy', split(df10['team'], ' ').getItem(6)) \\\n",
    "       .withColumn('Cross_attempted', split(df10['team'], ' ').getItem(7)) \\\n",
    "       .withColumn('Cross_completed', split(df10['team'], ' ').getItem(8)) \\\n",
    "       .withColumn('Freekick', split(df10['team'], ' ').getItem(9)) \\\n",
    "       .withColumn('Match_Played', split(df10['team'], ' ').getItem(10)) \\\n",
    "       .withColumn('Possesion', split(df10['team'], ' ').getItem(11)) \n",
    "\n",
    "\n",
    "df10 = df10.drop(col(\"team\"))\n",
    "df10 = df10.na.drop()\n",
    "df10.show(truncate=False)"
   ]
  },
  {
   "cell_type": "code",
   "execution_count": 48,
   "metadata": {},
   "outputs": [],
   "source": [
    "df10.toPandas().to_csv(\"./data/LDC/ucl_clubs_distrib.csv\")"
   ]
  },
  {
   "cell_type": "markdown",
   "metadata": {
    "tags": []
   },
   "source": [
    "### Players GK "
   ]
  },
  {
   "cell_type": "code",
   "execution_count": 49,
   "metadata": {},
   "outputs": [],
   "source": [
    "path = \"./data/LDC/ucl_players_gk.csv\"\n",
    "df11 = spark.read.option(\"delimiter\",\",\").options(header=True).csv(path)"
   ]
  },
  {
   "cell_type": "code",
   "execution_count": 50,
   "metadata": {},
   "outputs": [
    {
     "name": "stdout",
     "output_type": "stream",
     "text": [
      "+----+----------+----------------+----------+----------+-------------+------------------+------------+------------+\n",
      "|Rank|Nom       |Equipe          |Poste     |Save      |Goal_conceded|Saves_from_penalty|Punches_made|Match_played|\n",
      "+----+----------+----------------+----------+----------+-------------+------------------+------------+------------+\n",
      "|01  |Trubin    |Shakhtar_Donetsk|Goalkeeper|31        |10           |0                 |10          |6           |\n",
      "|01  |Mignolet  |Club_Brugge     |Goalkeeper|31        |4            |0                 |5           |6           |\n",
      "|03  |Onana     |Inter           |Goalkeeper|29        |7            |0                 |4           |6           |\n",
      "|04  |Livaković |Dinamo_Zagreb   |Goalkeeper|25        |11           |0                 |2           |6           |\n",
      "|05  |Staněk    |Plzeň           |Goalkeeper|24        |19           |0                 |2           |5           |\n",
      "|05  |McGregor  |Rangers         |Goalkeeper|24        |18           |1                 |0           |5           |\n",
      "|05  |Grabara   |Copenhagen      |Goalkeeper|24        |9            |1                 |0           |4           |\n",
      "|08  |Diogo     |Costa           |-         |Goalkeeper|23           |7                 |3           |4           |\n",
      "|09  |Pasveer   |Ajax            |Goalkeeper|22        |16           |0                 |1           |6           |\n",
      "|09  |Köhn      |Salzburg        |Goalkeeper|22        |9            |0                 |3           |6           |\n",
      "|11  |Cohen     |M._Haifa        |Goalkeeper|21        |21           |0                 |2           |6           |\n",
      "|12  |Hradecky  |Leverkusen      |Goalkeeper|18        |8            |1                 |0           |6           |\n",
      "|12  |Adán      |Sporting        |-         |Goalkeeper|18           |5                 |0           |2           |\n",
      "|14  |Donnarumma|Paris           |Goalkeeper|17        |7            |0                 |2           |6           |\n",
      "|14  |Meret     |Napoli          |Goalkeeper|17        |6            |0                 |7           |6           |\n",
      "+----+----------+----------------+----------+----------+-------------+------------------+------------+------------+\n",
      "\n"
     ]
    }
   ],
   "source": [
    "df11 = df11.drop(col(\"_c0\"))\n",
    "df11 = df11.withColumn('Rank', split(df11['team'], ' ').getItem(0)) \\\n",
    "        .withColumn('Nom', split(df11['team'], ' ').getItem(1)) \\\n",
    "       .withColumn('Equipe', split(df11['team'], ' ').getItem(2)) \\\n",
    "       .withColumn('Tiret', split(df11['team'], ' ').getItem(3)) \\\n",
    "       .withColumn('Poste', split(df11['team'], ' ').getItem(4)) \\\n",
    "       .withColumn('Save', split(df11['team'], ' ').getItem(5)) \\\n",
    "       .withColumn('Goal_conceded', split(df11['team'], ' ').getItem(6)) \\\n",
    "       .withColumn('Saves_from_penalty', split(df11['team'], ' ').getItem(7)) \\\n",
    "       .withColumn('Punches_made', split(df11['team'], ' ').getItem(8)) \\\n",
    "       .withColumn('Match_played', split(df11['team'], ' ').getItem(9))\n",
    "\n",
    "df11 = df11.drop(col(\"team\"))\n",
    "df11 = df11.na.drop()\n",
    "df11 = df11.drop(col(\"Tiret\"))\n",
    "df11.show(truncate=False)"
   ]
  },
  {
   "cell_type": "code",
   "execution_count": 51,
   "metadata": {},
   "outputs": [],
   "source": [
    "df11.toPandas().to_csv(\"./data/LDC/ucl_players_gk.csv\")"
   ]
  },
  {
   "cell_type": "markdown",
   "metadata": {
    "tags": []
   },
   "source": [
    "### Players Attack"
   ]
  },
  {
   "cell_type": "code",
   "execution_count": 52,
   "metadata": {},
   "outputs": [],
   "source": [
    "path = \"./data/LDC/ucl_players_attack.csv\"\n",
    "df12 = spark.read.option(\"delimiter\",\",\").options(header=True).csv(path)"
   ]
  },
  {
   "cell_type": "code",
   "execution_count": 53,
   "metadata": {},
   "outputs": [
    {
     "name": "stdout",
     "output_type": "stream",
     "text": [
      "+----+-------------+---------+----------+----------+------------+-------+--------+------------+\n",
      "|Rank|Nom          |Equipe   |Poste     |Assist    |Corner_taken|Offside|Dribbles|Match_played|\n",
      "+----+-------------+---------+----------+----------+------------+-------+--------+------------+\n",
      "|01  |Messi        |Paris    |Forward   |4         |8           |0      |17      |5           |\n",
      "|01  |João         |Cancelo  |-         |Defender  |4           |0      |6       |2           |\n",
      "|01  |Diogo        |Jota     |-         |Forward   |4           |0      |4       |0           |\n",
      "|04  |Kimmich      |Bayern   |Midfielder|3         |16          |0      |3       |5           |\n",
      "|04  |Neymar       |Paris    |Forward   |3         |14          |0      |27      |5           |\n",
      "|04  |Perišić      |Tottenham|Midfielder|3         |11          |1      |6       |5           |\n",
      "|04  |De           |Bruyne   |-         |Midfielder|3           |9      |4       |0           |\n",
      "|04  |Di           |María    |-         |Forward   |3           |8      |3       |0           |\n",
      "|04  |Mbappé       |Paris    |Forward   |3         |1           |8      |39      |6           |\n",
      "|04  |Gnabry       |Bayern   |Forward   |3         |1           |4      |6       |5           |\n",
      "|04  |André        |Silva    |-         |Forward   |3           |0      |6       |3           |\n",
      "|04  |Kvaratskhelia|Napoli   |Forward   |3         |0           |0      |29      |5           |\n",
      "|04  |Zambo        |Anguissa |-         |Midfielder|3           |0      |5       |0           |\n",
      "|04  |Simakan      |Leipzig  |Defender  |3         |0           |0      |8       |6           |\n",
      "|04  |Goretzka     |Bayern   |Midfielder|3         |0           |0      |1       |5           |\n",
      "+----+-------------+---------+----------+----------+------------+-------+--------+------------+\n",
      "\n"
     ]
    }
   ],
   "source": [
    "df12 = df12.drop(col(\"_c0\"))\n",
    "df12 = df12.withColumn('Rank', split(df12['team'], ' ').getItem(0)) \\\n",
    "        .withColumn('Nom', split(df12['team'], ' ').getItem(1)) \\\n",
    "       .withColumn('Equipe', split(df12['team'], ' ').getItem(2)) \\\n",
    "       .withColumn('Tiret', split(df12['team'], ' ').getItem(3)) \\\n",
    "       .withColumn('Poste', split(df12['team'], ' ').getItem(4)) \\\n",
    "       .withColumn('Assist', split(df12['team'], ' ').getItem(5)) \\\n",
    "       .withColumn('Corner_taken', split(df12['team'], ' ').getItem(6)) \\\n",
    "       .withColumn('Offside', split(df12['team'], ' ').getItem(7)) \\\n",
    "       .withColumn('Dribbles', split(df12['team'], ' ').getItem(9)) \\\n",
    "       .withColumn('Match_played', split(df12['team'], ' ').getItem(8))\n",
    "\n",
    "df12 = df12.drop(col(\"team\"))\n",
    "df12 = df12.na.drop()\n",
    "df12 = df12.drop(col(\"Tiret\"))\n",
    "df12.show(truncate=False)"
   ]
  },
  {
   "cell_type": "code",
   "execution_count": 54,
   "metadata": {},
   "outputs": [],
   "source": [
    "df12.toPandas().to_csv(\"./data/LDC/ucl_players_attack.csv\")"
   ]
  },
  {
   "cell_type": "markdown",
   "metadata": {
    "tags": []
   },
   "source": [
    "### Players Attempt"
   ]
  },
  {
   "cell_type": "code",
   "execution_count": 55,
   "metadata": {},
   "outputs": [],
   "source": [
    "path = \"./data/LDC/ucl_players_attempt.csv\"\n",
    "df13 = spark.read.option(\"delimiter\",\",\").options(header=True).csv(path)\n"
   ]
  },
  {
   "cell_type": "code",
   "execution_count": 56,
   "metadata": {},
   "outputs": [
    {
     "name": "stdout",
     "output_type": "stream",
     "text": [
      "+----+-------------+-----------+-------+--------------+------------------+-------------------+-------+------------+\n",
      "|Rank|Nom          |Equipe     |Poste  |Total_attempts|Attempts_on_target|Attempts_off_target|Blocked|Match_played|\n",
      "+----+-------------+-----------+-------+--------------+------------------+-------------------+-------+------------+\n",
      "|01  |Vinícius     |Júnior     |-      |Forward       |25                |12                 |6      |8           |\n",
      "|01  |Lewandowski  |Barcelona  |Forward|25            |11                |6                  |8      |5           |\n",
      "|03  |Kvaratskhelia|Napoli     |Forward|22            |6                 |10                 |6      |5           |\n",
      "|04  |Mbappé       |Paris      |Forward|21            |13                |7                  |1      |6           |\n",
      "|04  |Griezmann    |Atlético   |Forward|21            |11                |8                  |2      |6           |\n",
      "|04  |Rafa         |Silva      |-      |Forward       |21                |9                  |6      |8           |\n",
      "|07  |Salah        |Liverpool  |Forward|20            |12                |4                  |4      |6           |\n",
      "|07  |Chery        |M._Haifa   |Forward|20            |5                 |8                  |7      |6           |\n",
      "|09  |Taremi       |Porto      |Forward|19            |9                 |5                  |5      |5           |\n",
      "|10  |Rodrygo      |Real_Madrid|Forward|18            |8                 |7                  |3      |6           |\n",
      "|10  |Messi        |Paris      |Forward|18            |8                 |5                  |5      |5           |\n",
      "|12  |Alexis       |Sánchez    |-      |Forward       |17                |6                  |5      |8           |\n",
      "|12  |Kane         |Tottenham  |Forward|17            |4                 |7                  |6      |6           |\n",
      "|14  |Giroud       |Milan      |Forward|16            |12                |4                  |0      |6           |\n",
      "|14  |Vlahović     |Juventus   |Forward|16            |8                 |7                  |1      |5           |\n",
      "+----+-------------+-----------+-------+--------------+------------------+-------------------+-------+------------+\n",
      "\n"
     ]
    }
   ],
   "source": [
    "df13 = df13.drop(col(\"_c0\"))\n",
    "df13 = df13.withColumn('Rank', split(df13['team'], ' ').getItem(0)) \\\n",
    "        .withColumn('Nom', split(df13['team'], ' ').getItem(1)) \\\n",
    "       .withColumn('Equipe', split(df13['team'], ' ').getItem(2)) \\\n",
    "       .withColumn('Tiret', split(df13['team'], ' ').getItem(3)) \\\n",
    "       .withColumn('Poste', split(df13['team'], ' ').getItem(4)) \\\n",
    "       .withColumn('Total_attempts', split(df13['team'], ' ').getItem(5)) \\\n",
    "       .withColumn('Attempts_on_target', split(df13['team'], ' ').getItem(6)) \\\n",
    "       .withColumn('Attempts_off_target', split(df13['team'], ' ').getItem(7)) \\\n",
    "       .withColumn('Blocked', split(df13['team'], ' ').getItem(9)) \\\n",
    "       .withColumn('Match_played', split(df13['team'], ' ').getItem(8))\n",
    "\n",
    "df13 = df13.drop(col(\"team\"))\n",
    "df13 = df13.na.drop()\n",
    "df13 = df13.drop(col(\"Tiret\"))\n",
    "df13.show(truncate=False)"
   ]
  },
  {
   "cell_type": "code",
   "execution_count": 57,
   "metadata": {},
   "outputs": [],
   "source": [
    "df13.toPandas().to_csv(\"./data/LDC/ucl_players_attempt.csv\")"
   ]
  },
  {
   "cell_type": "markdown",
   "metadata": {
    "tags": []
   },
   "source": [
    "### Players Goals"
   ]
  },
  {
   "cell_type": "code",
   "execution_count": 58,
   "metadata": {},
   "outputs": [],
   "source": [
    "path = \"./data/LDC/ucl_players_goals.csv\"\n",
    "df14 = spark.read.option(\"delimiter\",\",\").options(header=True).csv(path)"
   ]
  },
  {
   "cell_type": "code",
   "execution_count": 59,
   "metadata": {},
   "outputs": [
    {
     "name": "stdout",
     "output_type": "stream",
     "text": [
      "+----+-------------+-----------+----------+----------+----------+---------+----+------+-----------------+-------------+-------+------------+\n",
      "|Rank|Nom          |Equipe     |Poste     |Goals     |Right_foot|Left_foot|Head|Others|Goals_inside_area|Goals_outside|Penalty|Match_played|\n",
      "+----+-------------+-----------+----------+----------+----------+---------+----+------+-----------------+-------------+-------+------------+\n",
      "|01  |Mbappé       |Paris      |Forward   |7         |7         |0        |0   |0     |6                |1            |1      |6           |\n",
      "|01  |Salah        |Liverpool  |Forward   |7         |0         |7        |0   |0     |7                |0            |1      |6           |\n",
      "|03  |Taremi       |Porto      |Forward   |5         |5         |0        |0   |0     |4                |1            |2      |5           |\n",
      "|03  |Lewandowski  |Barcelona  |Forward   |5         |2         |1        |2   |0     |4                |1            |0      |5           |\n",
      "|03  |Haaland      |Man_City   |Forward   |5         |1         |4        |0   |0     |5                |0            |0      |4           |\n",
      "|06  |João         |Mário      |-         |Midfielder|4         |4        |6   |0     |0                |3            |1      |3           |\n",
      "|06  |Vinícius     |Júnior     |-         |Forward   |4         |3        |6   |0     |0                |4            |0      |0           |\n",
      "|06  |Simeone      |Napoli     |Forward   |4         |3         |0        |1   |0     |4                |0            |0      |5           |\n",
      "|06  |Bellingham   |Dortmund   |Midfielder|4         |3         |0        |1   |0     |4                |0            |0      |5           |\n",
      "|06  |Kudus        |Ajax       |Midfielder|4         |2         |2        |0   |0     |4                |0            |0      |6           |\n",
      "|06  |Sané         |Bayern     |Midfielder|4         |2         |2        |0   |0     |3                |1            |0      |4           |\n",
      "|06  |Rafa         |Silva      |-         |Forward   |4         |2        |6   |1     |0                |4            |0      |0           |\n",
      "|06  |Raspadori    |Napoli     |Forward   |4         |1         |2        |1   |0     |4                |0            |0      |5           |\n",
      "|06  |Messi        |Paris      |Forward   |4         |0         |4        |0   |0     |2                |2            |0      |5           |\n",
      "|06  |Giroud       |Milan      |Forward   |4         |0         |3        |1   |0     |4                |0            |2      |6           |\n",
      "|16  |Kamada       |Frankfurt  |Midfielder|3         |3         |0        |0   |0     |3                |0            |1      |6           |\n",
      "|16  |Okafor       |Salzburg   |Midfielder|3         |3         |0        |0   |0     |3                |0            |1      |6           |\n",
      "|16  |André        |Silva      |-         |Forward   |3         |3        |6   |0     |0                |3            |0      |0           |\n",
      "|16  |Rodrygo      |Real_Madrid|Forward   |3         |3         |0        |0   |0     |2                |1            |2      |6           |\n",
      "|16  |Choupo-Moting|Bayern     |Midfielder|3         |3         |0        |0   |0     |2                |1            |0      |4           |\n",
      "+----+-------------+-----------+----------+----------+----------+---------+----+------+-----------------+-------------+-------+------------+\n",
      "only showing top 20 rows\n",
      "\n"
     ]
    }
   ],
   "source": [
    "df14 = df14.drop(col(\"_c0\"))\n",
    "df14 = df14.withColumn('Rank', split(df14['team'], ' ').getItem(0)) \\\n",
    "        .withColumn('Nom', split(df14['team'], ' ').getItem(1)) \\\n",
    "       .withColumn('Equipe', split(df14['team'], ' ').getItem(2)) \\\n",
    "       .withColumn('Tiret', split(df14['team'], ' ').getItem(3)) \\\n",
    "       .withColumn('Poste', split(df14['team'], ' ').getItem(4)) \\\n",
    "       .withColumn('Goals', split(df14['team'], ' ').getItem(5)) \\\n",
    "       .withColumn('Right_foot', split(df14['team'], ' ').getItem(6)) \\\n",
    "       .withColumn('Left_foot', split(df14['team'], ' ').getItem(7)) \\\n",
    "       .withColumn('Head', split(df14['team'], ' ').getItem(13)) \\\n",
    "       .withColumn('Others', split(df14['team'], ' ').getItem(8)) \\\n",
    "       .withColumn('Goals_inside_area', split(df14['team'], ' ').getItem(9)) \\\n",
    "       .withColumn('Goals_outside', split(df14['team'], ' ').getItem(10)) \\\n",
    "       .withColumn('Penalty', split(df14['team'], ' ').getItem(11)) \\\n",
    "       .withColumn('Match_played', split(df14['team'], ' ').getItem(12))\n",
    "\n",
    "df14 = df14.drop(col(\"team\"))\n",
    "df14 = df14.na.drop()\n",
    "df14 = df14.drop(col(\"Tiret\"))\n",
    "df14.show(truncate=False)"
   ]
  },
  {
   "cell_type": "code",
   "execution_count": 60,
   "metadata": {},
   "outputs": [],
   "source": [
    "df14.toPandas().to_csv(\"./data/LDC/ucl_players_goals.csv\")"
   ]
  },
  {
   "cell_type": "markdown",
   "metadata": {
    "tags": []
   },
   "source": [
    "### Players Def"
   ]
  },
  {
   "cell_type": "code",
   "execution_count": 61,
   "metadata": {},
   "outputs": [],
   "source": [
    "path = \"./data/LDC/ucl_players_def.csv\"\n",
    "df15 = spark.read.option(\"delimiter\",\",\").options(header=True).csv(path)"
   ]
  },
  {
   "cell_type": "code",
   "execution_count": 62,
   "metadata": {},
   "outputs": [
    {
     "name": "stdout",
     "output_type": "stream",
     "text": [
      "+----+----------+----------------+----------+------------+-------+-----------+------------+------------------+------------+\n",
      "|Rank|Nom       |Equipe          |Poste     |Ball_recover|Tackles|Tackles_Won|Tackles_Lost|Clearance_Attempts|Match_played|\n",
      "+----+----------+----------------+----------+------------+-------+-----------+------------+------------------+------------+\n",
      "|01  |Otamendi  |Benfica         |Defender  |46          |12     |7          |5           |30                |6           |\n",
      "|01  |Balerdi   |Marseille       |Defender  |46          |3      |1          |2           |17                |6           |\n",
      "|03  |Hincapie  |Leverkusen      |Defender  |45          |11     |5          |6           |15                |5           |\n",
      "|03  |Mechele   |Club_Brugge     |Defender  |45          |7      |4          |3           |29                |6           |\n",
      "|05  |Perić     |Dinamo_Zagreb   |Defender  |43          |9      |7          |2           |41                |6           |\n",
      "|05  |Šutalo    |Dinamo_Zagreb   |Defender  |43          |4      |3          |1           |32                |6           |\n",
      "|05  |Di        |Lorenzo         |-         |Defender    |43     |4          |6           |1                 |9           |\n",
      "|08  |Álvarez   |Ajax            |Midfielder|42          |18     |6          |12          |18                |6           |\n",
      "|08  |Pavlović  |Salzburg        |Defender  |42          |15     |7          |8           |33                |6           |\n",
      "|08  |Ramos     |Paris           |Defender  |42          |4      |0          |4           |15                |6           |\n",
      "|11  |Bondar    |Shakhtar_Donetsk|Defender  |40          |10     |7          |3           |36                |6           |\n",
      "|12  |António   |Silva           |-         |Defender    |39     |6          |6           |2                 |27          |\n",
      "|13  |Florentino|Benfica         |Midfielder|38          |18     |6          |12          |7                 |6           |\n",
      "|13  |Seiwald   |Salzburg        |Midfielder|38          |10     |5          |5           |7                 |6           |\n",
      "|13  |Tuta      |Frankfurt       |Defender  |38          |7      |2          |5           |15                |5           |\n",
      "|13  |Sow       |Frankfurt       |Midfielder|38          |6      |5          |1           |4                 |6           |\n",
      "|13  |N'Dicka   |Frankfurt       |Defender  |38          |6      |2          |4           |19                |6           |\n",
      "|13  |Süle      |Dortmund        |Defender  |38          |3      |2          |1           |21                |6           |\n",
      "|19  |Kalulu    |Milan           |Defender  |37          |15     |12         |3           |9                 |6           |\n",
      "|19  |Kalvach   |Plzeň           |Midfielder|37          |12     |3          |9           |5                 |6           |\n",
      "+----+----------+----------------+----------+------------+-------+-----------+------------+------------------+------------+\n",
      "only showing top 20 rows\n",
      "\n"
     ]
    }
   ],
   "source": [
    "df15 = df15.drop(col(\"_c0\"))\n",
    "df15 = df15.withColumn('Rank', split(df15['team'], ' ').getItem(0)) \\\n",
    "        .withColumn('Nom', split(df15['team'], ' ').getItem(1)) \\\n",
    "       .withColumn('Equipe', split(df15['team'], ' ').getItem(2)) \\\n",
    "       .withColumn('Tiret', split(df15['team'], ' ').getItem(3)) \\\n",
    "       .withColumn('Poste', split(df15['team'], ' ').getItem(4)) \\\n",
    "       .withColumn('Ball_recover', split(df15['team'], ' ').getItem(5)) \\\n",
    "       .withColumn('Tackles', split(df15['team'], ' ').getItem(6)) \\\n",
    "       .withColumn('Tackles_Won', split(df15['team'], ' ').getItem(7)) \\\n",
    "       .withColumn('Tackles_Lost', split(df15['team'], ' ').getItem(10)) \\\n",
    "       .withColumn('Clearance_Attempts', split(df15['team'], ' ').getItem(8)) \\\n",
    "       .withColumn('Match_played', split(df15['team'], ' ').getItem(9))\n",
    "\n",
    "df15 = df15.drop(col(\"team\"))\n",
    "df15 = df15.na.drop()\n",
    "df15 = df15.drop(col(\"Tiret\"))\n",
    "df15.show(truncate=False)"
   ]
  },
  {
   "cell_type": "code",
   "execution_count": 63,
   "metadata": {},
   "outputs": [],
   "source": [
    "df15.toPandas().to_csv(\"./data/LDC/ucl_players_def.csv\")"
   ]
  },
  {
   "cell_type": "markdown",
   "metadata": {
    "tags": []
   },
   "source": [
    "### Players Discip"
   ]
  },
  {
   "cell_type": "code",
   "execution_count": 64,
   "metadata": {},
   "outputs": [],
   "source": [
    "path = \"./data/LDC/ucl_players_discip.csv\"\n",
    "df16 = spark.read.option(\"delimiter\",\",\").options(header=True).csv(path)"
   ]
  },
  {
   "cell_type": "code",
   "execution_count": 65,
   "metadata": {},
   "outputs": [
    {
     "name": "stdout",
     "output_type": "stream",
     "text": [
      "+----+---------+-------------+----------+--------------+--------------+-----------+--------+--------------+------------+\n",
      "|Rank|Nom      |Equipe       |Poste     |Fouls_Commited|Fouls_Suffered|Yellow_card|Red_card|Minutes_played|Match_played|\n",
      "+----+---------+-------------+----------+--------------+--------------+-----------+--------+--------------+------------+\n",
      "|01  |Ugarte   |Sporting     |-         |Midfielder    |16            |10         |6       |2             |468         |\n",
      "|01  |Fernandez|Benfica      |Midfielder|16            |4             |3          |0       |429           |5           |\n",
      "|03  |Andrich  |Leverkusen   |Midfielder|15            |2             |4          |0       |409           |5           |\n",
      "|04  |Sterling |Chelsea      |Midfielder|14            |5             |1          |0       |467           |6           |\n",
      "|04  |Rongier  |Marseille    |Midfielder|14            |4             |0          |0       |471           |6           |\n",
      "|06  |Abu      |Fani         |-         |Midfielder    |13            |12         |6       |1             |400         |\n",
      "|06  |Álvarez  |Ajax         |Midfielder|13            |4             |2          |0       |533           |6           |\n",
      "|06  |Mišić    |Dinamo_Zagreb|Midfielder|13            |4             |1          |0       |521           |6           |\n",
      "|06  |Jakić    |Frankfurt    |Midfielder|13            |3             |2          |0       |513           |6           |\n",
      "|06  |Uribe    |Porto        |Midfielder|13            |1             |3          |0       |438           |5           |\n",
      "|11  |Kudus    |Ajax         |Midfielder|12            |4             |1          |0       |451           |6           |\n",
      "|12  |Mané     |Bayern       |Forward   |11            |9             |0          |0       |495           |6           |\n",
      "|12  |Pedro    |Gonçalves    |CP        |-             |Midfielder    |11         |364     |4             |2           |\n",
      "|14  |Petković |Dinamo_Zagreb|Forward   |10            |18            |1          |0       |493           |6           |\n",
      "|14  |Verratti |Paris        |Midfielder|10            |12            |4          |0       |445           |5           |\n",
      "+----+---------+-------------+----------+--------------+--------------+-----------+--------+--------------+------------+\n",
      "\n"
     ]
    }
   ],
   "source": [
    "df16 = df16.drop(col(\"_c0\"))\n",
    "df16 = df16.withColumn('Rank', split(df16['team'], ' ').getItem(0)) \\\n",
    "        .withColumn('Nom', split(df16['team'], ' ').getItem(1)) \\\n",
    "       .withColumn('Equipe', split(df16['team'], ' ').getItem(2)) \\\n",
    "       .withColumn('Tiret', split(df16['team'], ' ').getItem(3)) \\\n",
    "       .withColumn('Poste', split(df16['team'], ' ').getItem(4)) \\\n",
    "       .withColumn('Fouls_Commited', split(df16['team'], ' ').getItem(5)) \\\n",
    "       .withColumn('Fouls_Suffered', split(df16['team'], ' ').getItem(6)) \\\n",
    "       .withColumn('Yellow_card', split(df16['team'], ' ').getItem(7)) \\\n",
    "       .withColumn('Red_card', split(df16['team'], ' ').getItem(10)) \\\n",
    "       .withColumn('Minutes_played', split(df16['team'], ' ').getItem(8)) \\\n",
    "       .withColumn('Match_played', split(df16['team'], ' ').getItem(9))\n",
    "\n",
    "df16 = df16.drop(col(\"team\"))\n",
    "df16 = df16.na.drop()\n",
    "df16 = df16.drop(col(\"Tiret\"))\n",
    "df16.show(truncate=False)"
   ]
  },
  {
   "cell_type": "code",
   "execution_count": 66,
   "metadata": {},
   "outputs": [],
   "source": [
    "df16.toPandas().to_csv(\"./data/LDC/ucl_players_discip.csv\")"
   ]
  },
  {
   "cell_type": "markdown",
   "metadata": {
    "tags": []
   },
   "source": [
    "### Players Distrib"
   ]
  },
  {
   "cell_type": "code",
   "execution_count": 67,
   "metadata": {},
   "outputs": [],
   "source": [
    "path = \"./data/LDC/ucl_players_distrib.csv\"\n",
    "df17 = spark.read.option(\"delimiter\",\",\").options(header=True).csv(path)"
   ]
  },
  {
   "cell_type": "code",
   "execution_count": 68,
   "metadata": {},
   "outputs": [
    {
     "name": "stdout",
     "output_type": "stream",
     "text": [
      "+----+--------------+-----------+----------+-------------+--------------+--------------+--------------+---------------+---------------+--------+------------+\n",
      "|Rank|Nom           |Equipe     |Poste     |Pass_accuracy|Pass_attempted|Pass_completed|Cross_accuracy|Cross_attempted|Cross_completed|Freekick|Match_played|\n",
      "+----+--------------+-----------+----------+-------------+--------------+--------------+--------------+---------------+---------------+--------+------------+\n",
      "|01  |Kampl         |Leipzig    |Midfielder|98.8         |150           |146           |0             |0              |0              |3       |4           |\n",
      "|02  |Eric          |García     |-         |Defender     |98.5          |184           |4             |1              |180            |1       |1           |\n",
      "|03  |Aké           |Man_City   |Defender  |98           |247           |239           |0             |0              |0              |1       |3           |\n",
      "|03  |A.            |Christensen|-         |Defender     |98            |219           |3             |0              |215            |0       |7           |\n",
      "|03  |Kimpembe      |Paris      |Defender  |98           |61            |59            |0             |0              |0              |3       |2           |\n",
      "|03  |Starfelt      |Celtic     |Defender  |98           |48            |47            |0             |0              |0              |0       |1           |\n",
      "|03  |Kamara        |Rangers    |Midfielder|98           |39            |38            |0             |0              |0              |3       |4           |\n",
      "|08  |Boilesen      |Copenhagen |Defender  |97.5         |87            |83            |0             |0              |0              |2       |2           |\n",
      "|09  |Danilo        |Paris      |Midfielder|97.2         |207           |198           |0             |0              |0              |5       |5           |\n",
      "|10  |Rúben         |Dias       |-         |Defender     |97            |451           |5             |2              |437            |0       |6           |\n",
      "|10  |Fernando      |Sevilla    |Midfielder|97           |76            |74            |0             |0              |0              |1       |1           |\n",
      "|10  |Iñaki         |Peña       |-         |Goalkeeper   |97            |37            |1             |0              |36             |0       |1           |\n",
      "|10  |Rekik         |Sevilla    |Defender  |97           |34            |33            |0             |0              |1              |1       |1           |\n",
      "|14  |Stanišić      |Bayern     |Defender  |96.8         |189           |179           |100           |1              |1              |4       |5           |\n",
      "|15  |Lunin         |Real_Madrid|Goalkeeper|96.5         |42            |41            |0             |0              |0              |0       |2           |\n",
      "|16  |Carter-Vickers|Celtic     |Defender  |96           |287           |277           |0             |0              |0              |2       |4           |\n",
      "|16  |Laporte       |Man_City   |Defender  |96           |249           |240           |0             |0              |0              |1       |3           |\n",
      "|16  |Welsh         |Celtic     |Defender  |96           |52            |50            |0             |0              |0              |2       |1           |\n",
      "|16  |Ortega        |Man_City   |Goalkeeper|96           |51            |49            |0             |0              |0              |1       |2           |\n",
      "|16  |Mendy         |Chelsea    |Goalkeeper|96           |24            |23            |0             |0              |0              |1       |1           |\n",
      "+----+--------------+-----------+----------+-------------+--------------+--------------+--------------+---------------+---------------+--------+------------+\n",
      "only showing top 20 rows\n",
      "\n"
     ]
    }
   ],
   "source": [
    "df17 = df17.drop(col(\"_c0\"))\n",
    "df17 = df17.withColumn('Rank', split(df17['team'], ' ').getItem(0)) \\\n",
    "        .withColumn('Nom', split(df17['team'], ' ').getItem(1)) \\\n",
    "       .withColumn('Equipe', split(df17['team'], ' ').getItem(2)) \\\n",
    "       .withColumn('Tiret', split(df17['team'], ' ').getItem(3)) \\\n",
    "       .withColumn('Poste', split(df17['team'], ' ').getItem(4)) \\\n",
    "       .withColumn('Pass_accuracy', split(df17['team'], ' ').getItem(5)) \\\n",
    "       .withColumn('Pass_attempted', split(df17['team'], ' ').getItem(6)) \\\n",
    "       .withColumn('Pass_completed', split(df17['team'], ' ').getItem(7)) \\\n",
    "       .withColumn('Cross_accuracy', split(df17['team'], ' ').getItem(12)) \\\n",
    "       .withColumn('Cross_attempted', split(df17['team'], ' ').getItem(9)) \\\n",
    "       .withColumn('Cross_completed', split(df17['team'], ' ').getItem(8)) \\\n",
    "       .withColumn('Freekick', split(df17['team'], ' ').getItem(10)) \\\n",
    "       .withColumn('Match_played', split(df17['team'], ' ').getItem(11))\n",
    "\n",
    "df17 = df17.drop(col(\"team\"))\n",
    "df17 = df17.na.drop()\n",
    "df17 = df17.drop(col(\"Tiret\"))\n",
    "df17.show(truncate=False)"
   ]
  },
  {
   "cell_type": "code",
   "execution_count": 69,
   "metadata": {},
   "outputs": [],
   "source": [
    "df17.toPandas().to_csv(\"./data/LDC/ucl_players_distrib.csv\")"
   ]
  },
  {
   "cell_type": "markdown",
   "metadata": {
    "tags": []
   },
   "source": [
    "### Players Key"
   ]
  },
  {
   "cell_type": "code",
   "execution_count": 70,
   "metadata": {},
   "outputs": [],
   "source": [
    "path = \"./data/LDC/ucl_players_key.csv\"\n",
    "df18 = spark.read.option(\"delimiter\",\",\").options(header=True).csv(path)"
   ]
  },
  {
   "cell_type": "code",
   "execution_count": 71,
   "metadata": {},
   "outputs": [
    {
     "name": "stdout",
     "output_type": "stream",
     "text": [
      "+----+----------+----------------+----------+-------------+------------+-----+------+----------------+---------+\n",
      "|Rank|Nom       |Equipe          |Poste     |Minute_played|Match_played|Goals|Assist|Distance_covered|Top_speed|\n",
      "+----+----------+----------------+----------+-------------+------------+-----+------+----------------+---------+\n",
      "|01  |Grimaldo  |Benfica         |Defender  |540          |6           |2    |2     |67.2            |32.2     |\n",
      "|01  |Chery     |M._Haifa        |Forward   |540          |6           |2    |1     |67.6            |30.3     |\n",
      "|01  |Kane      |Tottenham       |Forward   |540          |6           |1    |2     |66.8            |31.5     |\n",
      "|01  |Seiwald   |Salzburg        |Midfielder|540          |6           |1    |0     |70.3            |34.1     |\n",
      "|01  |Ljubičić  |Dinamo_Zagreb   |Midfielder|540          |6           |1    |0     |63.9            |31.7     |\n",
      "|01  |N'Dicka   |Frankfurt       |Defender  |540          |6           |0    |1     |66.8            |33.7     |\n",
      "|01  |Bassey    |Ajax            |Defender  |540          |6           |0    |1     |61.9            |34.9     |\n",
      "|01  |Otamendi  |Benfica         |Defender  |540          |6           |0    |1     |59.2            |30.6     |\n",
      "|01  |Van       |Dijk            |-         |Defender     |540         |6    |0     |1               |56.2     |\n",
      "|01  |Diogo     |Costa           |-         |Goalkeeper   |540         |6    |0     |1               |30.8     |\n",
      "|01  |Sow       |Frankfurt       |Midfielder|540          |6           |0    |0     |74              |31.3     |\n",
      "|01  |Taylor    |Celtic          |Defender  |540          |6           |0    |0     |69.8            |31.2     |\n",
      "|01  |Nuno      |Tavares         |-         |Defender     |540         |6    |0     |0               |64.6     |\n",
      "|01  |Pavlović  |Salzburg        |Defender  |540          |6           |0    |0     |64.3            |34.1     |\n",
      "|01  |Vanaken   |Club_Brugge     |Midfielder|540          |6           |0    |0     |64.3            |30.4     |\n",
      "|01  |Matviyenko|Shakhtar_Donetsk|Defender  |540          |6           |0    |0     |62.5            |32.7     |\n",
      "|01  |Orbán     |Leipzig         |Defender  |540          |6           |0    |0     |62.2            |31.7     |\n",
      "|01  |Kim       |Napoli          |Defender  |540          |6           |0    |0     |61.2            |34.2     |\n",
      "|01  |Dedić     |Salzburg        |Defender  |540          |6           |0    |0     |61.2            |32.9     |\n",
      "|01  |Ramos     |Paris           |Defender  |540          |6           |0    |0     |61.1            |31.3     |\n",
      "+----+----------+----------------+----------+-------------+------------+-----+------+----------------+---------+\n",
      "only showing top 20 rows\n",
      "\n"
     ]
    }
   ],
   "source": [
    "df18 = df18.drop(col(\"_c0\"))\n",
    "df18 = df18.withColumn('Rank', split(df18['team'], ' ').getItem(0)) \\\n",
    "       .withColumn('Nom', split(df18['team'], ' ').getItem(1)) \\\n",
    "       .withColumn('Equipe', split(df18['team'], ' ').getItem(2)) \\\n",
    "       .withColumn('Tiret', split(df18['team'], ' ').getItem(3)) \\\n",
    "       .withColumn('Poste', split(df18['team'], ' ').getItem(4)) \\\n",
    "       .withColumn('Minute_played', split(df18['team'], ' ').getItem(5)) \\\n",
    "       .withColumn('Match_played', split(df18['team'], ' ').getItem(6)) \\\n",
    "       .withColumn('Goals', split(df18['team'], ' ').getItem(7)) \\\n",
    "       .withColumn('Assist', split(df18['team'], ' ').getItem(8)) \\\n",
    "       .withColumn('Distance_covered', split(df18['team'], ' ').getItem(9)) \\\n",
    "       .withColumn('Top_speed', split(df18['team'], ' ').getItem(10)) \n",
    "\n",
    "df18 = df18.drop(col(\"team\"))\n",
    "df18 = df18.drop(col(\"Tiret\"))\n",
    "df18 = df18.na.drop()\n",
    "df18.show(truncate=False)"
   ]
  },
  {
   "cell_type": "code",
   "execution_count": 72,
   "metadata": {},
   "outputs": [],
   "source": [
    "df18.toPandas().to_csv(\"./data/LDC/ucl_players_key.csv\")"
   ]
  },
  {
   "cell_type": "markdown",
   "metadata": {
    "tags": []
   },
   "source": [
    "## EL"
   ]
  },
  {
   "cell_type": "markdown",
   "metadata": {
    "tags": []
   },
   "source": [
    "### Games "
   ]
  },
  {
   "cell_type": "code",
   "execution_count": 126,
   "metadata": {},
   "outputs": [
    {
     "name": "stdout",
     "output_type": "stream",
     "text": [
      "+------------+------------------+---------+---------+------------------+\n",
      "|        date|        equipe_dom|score_dom|score_ext|        equipe_ext|\n",
      "+------------+------------------+---------+---------+------------------+\n",
      "|03.11. 21:00|           Arsenal|        1|        0|            Zurich|\n",
      "|03.11. 21:00|           AS Roma|        3|        1|        Ludogorets|\n",
      "|03.11. 21:00|             Betis|        3|        0|               HJK|\n",
      "|03.11. 21:00|        Bodo/Glimt|        1|        2|               PSV|\n",
      "|03.11. 21:00|             Braga|        2|        1|          Malmo FF|\n",
      "|03.11. 21:00|         Dyn. Kyiv|        0|        2|        Fenerbahce|\n",
      "|03.11. 21:00|            Rennes|        1|        1|       AEK Larnaca|\n",
      "|03.11. 21:00|   Royale Union SG|        0|        1|      Union Berlin|\n",
      "|03.11. 18:45|         Feyenoord|        1|        0|             Lazio|\n",
      "|03.11. 18:45|       Midtjylland|        2|        0|        Sturm Graz|\n",
      "|03.11. 18:45|            Monaco|        4|        1|     Crvena zvezda|\n",
      "|03.11. 18:45|Olympiacos Piraeus|        0|        2|            Nantes|\n",
      "|03.11. 18:45|           Qarabag|        1|        1|          Freiburg|\n",
      "|03.11. 18:45|     Real Sociedad|        0|        1|    Manchester Utd|\n",
      "|03.11. 18:45|  Sheriff Tiraspol|        1|        0|            Omonia|\n",
      "|03.11. 18:45|       Trabzonspor|        1|        0|       Ferencvaros|\n",
      "|27.10. 21:00|     Crvena zvezda|        2|        1|       Trabzonspor|\n",
      "|27.10. 21:00|       Ferencvaros|        1|        1|            Monaco|\n",
      "|27.10. 21:00|          Freiburg|        1|        1|Olympiacos Piraeus|\n",
      "|27.10. 21:00|               HJK|        1|        2|           AS Roma|\n",
      "+------------+------------------+---------+---------+------------------+\n",
      "only showing top 20 rows\n",
      "\n"
     ]
    }
   ],
   "source": [
    "path = \"./data/EL/el_games.csv\"\n",
    "df19 = spark.read.option(\"delimiter\",\",\").options(header=True).csv(path)\n",
    "df19 = df19.drop(col(\"_c0\"))\n",
    "df19.show()"
   ]
  },
  {
   "cell_type": "code",
   "execution_count": 127,
   "metadata": {},
   "outputs": [],
   "source": [
    "df19.toPandas().to_csv(\"./data/EL/el_games.csv\")"
   ]
  },
  {
   "cell_type": "markdown",
   "metadata": {
    "tags": []
   },
   "source": [
    "### Group"
   ]
  },
  {
   "cell_type": "code",
   "execution_count": 182,
   "metadata": {},
   "outputs": [
    {
     "name": "stdout",
     "output_type": "stream",
     "text": [
      "+-------------+--------+---+----+----+---+---+---+---+\n",
      "|         team|nb_match|win|draw|lose| GF| GA| GD|pts|\n",
      "+-------------+--------+---+----+----+---+---+---+---+\n",
      "|      Arsenal|       6|  5|   0|   1|  8|  3|  5| 15|\n",
      "|          PSV|       6|  4|   1|   1| 15|  4| 11| 13|\n",
      "|   Bodø/Glimt|       6|  1|   1|   4|  5| 10| -5|  4|\n",
      "|       Zürich|       6|  1|   0|   5|  5| 16|-11|  3|\n",
      "|   Fenerbahçe|       6|  4|   2|   0| 13|  7|  6| 14|\n",
      "|       Rennes|       6|  3|   3|   0| 11|  8|  3| 12|\n",
      "|  AEK Larnaca|       6|  1|   2|   3|  7| 10| -3|  5|\n",
      "|  Dynamo Kyiv|       6|  0|   1|   5|  5| 11| -6|  1|\n",
      "|        Betis|       6|  5|   1|   0| 12|  4|  8| 16|\n",
      "|         Roma|       6|  3|   1|   2| 11|  7|  4| 10|\n",
      "|   Ludogorets|       6|  2|   1|   3|  8|  9| -1|  7|\n",
      "|          HJK|       6|  0|   1|   5|  2| 13|-11|  1|\n",
      "|     Union SG|       6|  4|   1|   1| 11|  7|  4| 13|\n",
      "| Union Berlin|       6|  4|   0|   2|  4|  2|  2| 12|\n",
      "|        Braga|       6|  3|   1|   2|  9|  7|  2| 10|\n",
      "|        Malmö|       6|  0|   0|   6|  3| 11| -8|  0|\n",
      "|Real Sociedad|       6|  5|   0|   1| 10|  2|  8| 15|\n",
      "|   Man United|       6|  5|   0|   1| 10|  3|  7| 15|\n",
      "|      Sheriff|       6|  2|   0|   4|  4| 10| -6|  6|\n",
      "|      Omonoia|       6|  0|   0|   6|  3| 12| -9|  0|\n",
      "|    Feyenoord|       6|  2|   2|   2| 13|  9|  4|  8|\n",
      "|  Midtjylland|       6|  2|   2|   2| 12|  8|  4|  8|\n",
      "|        Lazio|       6|  2|   2|   2|  9| 11| -2|  8|\n",
      "|        Sturm|       6|  2|   2|   2|  4| 10| -6|  8|\n",
      "|     Freiburg|       6|  4|   2|   0| 13|  3| 10| 14|\n",
      "|       Nantes|       6|  3|   0|   3|  6| 11| -5|  9|\n",
      "|      Qarabağ|       6|  2|   2|   2|  9|  5|  4|  8|\n",
      "|   Olympiacos|       6|  0|   2|   4|  2| 11| -9|  2|\n",
      "|  Ferencváros|       6|  3|   1|   2|  8|  9| -1| 10|\n",
      "|       Monaco|       6|  3|   1|   2|  9|  8|  1| 10|\n",
      "|  Trabzonspor|       6|  3|   0|   3| 11|  9|  2|  9|\n",
      "|Crvena zvezda|       6|  2|   0|   4|  9| 11| -2|  6|\n",
      "+-------------+--------+---+----+----+---+---+---+---+\n",
      "\n"
     ]
    }
   ],
   "source": [
    "path = \"./data/EL/el_group.csv\"\n",
    "df20 = spark.read.option(\"delimiter\",\",\").options(header=True).csv(path)\n",
    "df20 = df20.drop(col(\"_c0\"))\n",
    "df20.show(32)"
   ]
  },
  {
   "cell_type": "code",
   "execution_count": 184,
   "metadata": {},
   "outputs": [
    {
     "name": "stdout",
     "output_type": "stream",
     "text": [
      "+-------------+--------+---+----+----+---+---+---+---+-----+\n",
      "|         team|nb_match|win|draw|lose| GF| GA| GD|pts|Group|\n",
      "+-------------+--------+---+----+----+---+---+---+---+-----+\n",
      "|      Arsenal|       6|  5|   0|   1|  8|  3|  5| 15|    A|\n",
      "|          PSV|       6|  4|   1|   1| 15|  4| 11| 13|    A|\n",
      "|   Bodø/Glimt|       6|  1|   1|   4|  5| 10| -5|  4|    A|\n",
      "|       Zürich|       6|  1|   0|   5|  5| 16|-11|  3|    A|\n",
      "|   Fenerbahçe|       6|  4|   2|   0| 13|  7|  6| 14|    B|\n",
      "|       Rennes|       6|  3|   3|   0| 11|  8|  3| 12|    B|\n",
      "|  AEK Larnaca|       6|  1|   2|   3|  7| 10| -3|  5|    B|\n",
      "|  Dynamo Kyiv|       6|  0|   1|   5|  5| 11| -6|  1|    B|\n",
      "|        Betis|       6|  5|   1|   0| 12|  4|  8| 16|    C|\n",
      "|         Roma|       6|  3|   1|   2| 11|  7|  4| 10|    C|\n",
      "|   Ludogorets|       6|  2|   1|   3|  8|  9| -1|  7|    C|\n",
      "|          HJK|       6|  0|   1|   5|  2| 13|-11|  1|    C|\n",
      "|     Union SG|       6|  4|   1|   1| 11|  7|  4| 13|    D|\n",
      "| Union Berlin|       6|  4|   0|   2|  4|  2|  2| 12|    D|\n",
      "|        Braga|       6|  3|   1|   2|  9|  7|  2| 10|    D|\n",
      "|        Malmö|       6|  0|   0|   6|  3| 11| -8|  0|    D|\n",
      "|Real Sociedad|       6|  5|   0|   1| 10|  2|  8| 15|    E|\n",
      "|   Man United|       6|  5|   0|   1| 10|  3|  7| 15|    E|\n",
      "|      Sheriff|       6|  2|   0|   4|  4| 10| -6|  6|    E|\n",
      "|      Omonoia|       6|  0|   0|   6|  3| 12| -9|  0|    E|\n",
      "|    Feyenoord|       6|  2|   2|   2| 13|  9|  4|  8|    F|\n",
      "|  Midtjylland|       6|  2|   2|   2| 12|  8|  4|  8|    F|\n",
      "|        Lazio|       6|  2|   2|   2|  9| 11| -2|  8|    F|\n",
      "|        Sturm|       6|  2|   2|   2|  4| 10| -6|  8|    F|\n",
      "|     Freiburg|       6|  4|   2|   0| 13|  3| 10| 14|    G|\n",
      "|       Nantes|       6|  3|   0|   3|  6| 11| -5|  9|    G|\n",
      "|      Qarabağ|       6|  2|   2|   2|  9|  5|  4|  8|    G|\n",
      "|   Olympiacos|       6|  0|   2|   4|  2| 11| -9|  2|    G|\n",
      "|  Ferencváros|       6|  3|   1|   2|  8|  9| -1| 10|    H|\n",
      "|       Monaco|       6|  3|   1|   2|  9|  8|  1| 10|    H|\n",
      "|  Trabzonspor|       6|  3|   0|   3| 11|  9|  2|  9|    H|\n",
      "|Crvena zvezda|       6|  2|   0|   4|  9| 11| -2|  6|    H|\n",
      "+-------------+--------+---+----+----+---+---+---+---+-----+\n",
      "\n"
     ]
    }
   ],
   "source": [
    "from pyspark.sql.functions import when\n",
    "df20 = df20.withColumn(\"Group\", \\\n",
    "   when((df20.team == \"Arsenal\"), lit(\"A\")) \\\n",
    "     .when((df20.team == \"PSV\"), lit(\"A\")) \\\n",
    "     .when((df20.team == \"Bodø/Glimt\") , lit(\"A\")) \\\n",
    "     .when((df20.team == \"Zürich\") , lit(\"A\")) \\\n",
    "     .when((df20.team == \"Fenerbahçe\"), lit(\"B\")) \\\n",
    "     .when((df20.team == \"Rennes\") , lit(\"B\")) \\\n",
    "     .when((df20.team == \"AEK Larnaca\") , lit(\"B\")) \\\n",
    "     .when((df20.team == \"Dynamo Kyiv\") , lit(\"B\")) \\\n",
    "     .when((df20.team == \"Betis\"), lit(\"C\")) \\\n",
    "     .when((df20.team == \"Roma\") , lit(\"C\")) \\\n",
    "     .when((df20.team == \"Ludogorets\") , lit(\"C\")) \\\n",
    "     .when((df20.team == \"HJK\") , lit(\"C\")) \\\n",
    "     .when((df20.team == \"Union SG\") , lit(\"D\")) \\\n",
    "     .when((df20.team == \"Union Berlin\") , lit(\"D\")) \\\n",
    "     .when((df20.team == \"Braga\") , lit(\"D\")) \\\n",
    "     .when((df20.team == \"Malmö\") , lit(\"D\")) \\\n",
    "     .when((df20.team == \"Real Sociedad\") , lit(\"E\")) \\\n",
    "     .when((df20.team == \"Man United\") , lit(\"E\")) \\\n",
    "     .when((df20.team == \"Sheriff\") , lit(\"E\")) \\\n",
    "     .when((df20.team == \"Omonoia\") , lit(\"E\")) \\\n",
    "     .when((df20.team == \"Feyenoord\") , lit(\"F\")) \\\n",
    "     .when((df20.team == \"Midtjylland\") , lit(\"F\")) \\\n",
    "     .when((df20.team == \"Lazio\") , lit(\"F\")) \\\n",
    "     .when((df20.team == \"Sturm\") , lit(\"F\")) \\\n",
    "     .when((df20.team == \"Freiburg\") , lit(\"G\")) \\\n",
    "     .when((df20.team == \"Nantes\") , lit(\"G\")) \\\n",
    "     .when((df20.team == \"Qarabağ\") , lit(\"G\")) \\\n",
    "     .when((df20.team == \"Olympiacos\") , lit(\"G\")) \\\n",
    "     .when((df20.team == \"Ferencváros\") , lit(\"H\")) \\\n",
    "     .when((df20.team == \"Monaco\") , lit(\"H\")) \\\n",
    "     .when((df20.team == \"Trabzonspor\") , lit(\"H\")) \\\n",
    "     .when((df20.team == \"Crvena zvezda\" ) , lit(\"H\")))\n",
    "df20.show(32)     "
   ]
  },
  {
   "cell_type": "code",
   "execution_count": 185,
   "metadata": {},
   "outputs": [],
   "source": [
    "df20.toPandas().to_csv(\"./data/EL/el_group.csv\")"
   ]
  },
  {
   "cell_type": "markdown",
   "metadata": {
    "tags": []
   },
   "source": [
    "### Attack "
   ]
  },
  {
   "cell_type": "code",
   "execution_count": 130,
   "metadata": {},
   "outputs": [],
   "source": [
    "path = \"./data/EL/el_stats_clubs_attack.csv\"\n",
    "df21 = spark.read.option(\"delimiter\",\",\").options(header=True).csv(path)"
   ]
  },
  {
   "cell_type": "code",
   "execution_count": 131,
   "metadata": {},
   "outputs": [
    {
     "ename": "AnalysisException",
     "evalue": "Cannot resolve column name \"team\" among (Rank, Equipe, Country, Attack, Assist, Corner_taken, Offside, Match_played)",
     "output_type": "error",
     "traceback": [
      "\u001b[0;31m---------------------------------------------------------------------------\u001b[0m",
      "\u001b[0;31mAnalysisException\u001b[0m                         Traceback (most recent call last)",
      "Cell \u001b[0;32mIn [131], line 2\u001b[0m\n\u001b[1;32m      1\u001b[0m df21 \u001b[38;5;241m=\u001b[39m df21\u001b[38;5;241m.\u001b[39mdrop(col(\u001b[38;5;124m\"\u001b[39m\u001b[38;5;124m_c0\u001b[39m\u001b[38;5;124m\"\u001b[39m))\n\u001b[0;32m----> 2\u001b[0m df21 \u001b[38;5;241m=\u001b[39m df21\u001b[38;5;241m.\u001b[39mwithColumn(\u001b[38;5;124m'\u001b[39m\u001b[38;5;124mRank\u001b[39m\u001b[38;5;124m'\u001b[39m, split(\u001b[43mdf21\u001b[49m\u001b[43m[\u001b[49m\u001b[38;5;124;43m'\u001b[39;49m\u001b[38;5;124;43mteam\u001b[39;49m\u001b[38;5;124;43m'\u001b[39;49m\u001b[43m]\u001b[49m, \u001b[38;5;124m'\u001b[39m\u001b[38;5;124m \u001b[39m\u001b[38;5;124m'\u001b[39m)\u001b[38;5;241m.\u001b[39mgetItem(\u001b[38;5;241m0\u001b[39m)) \\\n\u001b[1;32m      3\u001b[0m        \u001b[38;5;241m.\u001b[39mwithColumn(\u001b[38;5;124m'\u001b[39m\u001b[38;5;124mEquipe\u001b[39m\u001b[38;5;124m'\u001b[39m, split(df21[\u001b[38;5;124m'\u001b[39m\u001b[38;5;124mteam\u001b[39m\u001b[38;5;124m'\u001b[39m], \u001b[38;5;124m'\u001b[39m\u001b[38;5;124m \u001b[39m\u001b[38;5;124m'\u001b[39m)\u001b[38;5;241m.\u001b[39mgetItem(\u001b[38;5;241m1\u001b[39m)) \\\n\u001b[1;32m      4\u001b[0m        \u001b[38;5;241m.\u001b[39mwithColumn(\u001b[38;5;124m'\u001b[39m\u001b[38;5;124mCountry\u001b[39m\u001b[38;5;124m'\u001b[39m, split(df21[\u001b[38;5;124m'\u001b[39m\u001b[38;5;124mteam\u001b[39m\u001b[38;5;124m'\u001b[39m], \u001b[38;5;124m'\u001b[39m\u001b[38;5;124m \u001b[39m\u001b[38;5;124m'\u001b[39m)\u001b[38;5;241m.\u001b[39mgetItem(\u001b[38;5;241m2\u001b[39m)) \\\n\u001b[1;32m      5\u001b[0m        \u001b[38;5;241m.\u001b[39mwithColumn(\u001b[38;5;124m'\u001b[39m\u001b[38;5;124mAttack\u001b[39m\u001b[38;5;124m'\u001b[39m, split(df21[\u001b[38;5;124m'\u001b[39m\u001b[38;5;124mteam\u001b[39m\u001b[38;5;124m'\u001b[39m], \u001b[38;5;124m'\u001b[39m\u001b[38;5;124m \u001b[39m\u001b[38;5;124m'\u001b[39m)\u001b[38;5;241m.\u001b[39mgetItem(\u001b[38;5;241m3\u001b[39m)) \\\n\u001b[1;32m      6\u001b[0m        \u001b[38;5;241m.\u001b[39mwithColumn(\u001b[38;5;124m'\u001b[39m\u001b[38;5;124mAssist\u001b[39m\u001b[38;5;124m'\u001b[39m, split(df21[\u001b[38;5;124m'\u001b[39m\u001b[38;5;124mteam\u001b[39m\u001b[38;5;124m'\u001b[39m], \u001b[38;5;124m'\u001b[39m\u001b[38;5;124m \u001b[39m\u001b[38;5;124m'\u001b[39m)\u001b[38;5;241m.\u001b[39mgetItem(\u001b[38;5;241m4\u001b[39m)) \\\n\u001b[1;32m      7\u001b[0m        \u001b[38;5;241m.\u001b[39mwithColumn(\u001b[38;5;124m'\u001b[39m\u001b[38;5;124mCorner_taken\u001b[39m\u001b[38;5;124m'\u001b[39m, split(df21[\u001b[38;5;124m'\u001b[39m\u001b[38;5;124mteam\u001b[39m\u001b[38;5;124m'\u001b[39m], \u001b[38;5;124m'\u001b[39m\u001b[38;5;124m \u001b[39m\u001b[38;5;124m'\u001b[39m)\u001b[38;5;241m.\u001b[39mgetItem(\u001b[38;5;241m5\u001b[39m)) \\\n\u001b[1;32m      8\u001b[0m        \u001b[38;5;241m.\u001b[39mwithColumn(\u001b[38;5;124m'\u001b[39m\u001b[38;5;124mOffside\u001b[39m\u001b[38;5;124m'\u001b[39m, split(df21[\u001b[38;5;124m'\u001b[39m\u001b[38;5;124mteam\u001b[39m\u001b[38;5;124m'\u001b[39m], \u001b[38;5;124m'\u001b[39m\u001b[38;5;124m \u001b[39m\u001b[38;5;124m'\u001b[39m)\u001b[38;5;241m.\u001b[39mgetItem(\u001b[38;5;241m6\u001b[39m)) \\\n\u001b[1;32m      9\u001b[0m        \u001b[38;5;241m.\u001b[39mwithColumn(\u001b[38;5;124m'\u001b[39m\u001b[38;5;124mMatch_played\u001b[39m\u001b[38;5;124m'\u001b[39m, split(df21[\u001b[38;5;124m'\u001b[39m\u001b[38;5;124mteam\u001b[39m\u001b[38;5;124m'\u001b[39m], \u001b[38;5;124m'\u001b[39m\u001b[38;5;124m \u001b[39m\u001b[38;5;124m'\u001b[39m)\u001b[38;5;241m.\u001b[39mgetItem(\u001b[38;5;241m7\u001b[39m))\n\u001b[1;32m     11\u001b[0m df21 \u001b[38;5;241m=\u001b[39m df21\u001b[38;5;241m.\u001b[39mdrop(col(\u001b[38;5;124m\"\u001b[39m\u001b[38;5;124mteam\u001b[39m\u001b[38;5;124m\"\u001b[39m))\n\u001b[1;32m     12\u001b[0m df21 \u001b[38;5;241m=\u001b[39m df21\u001b[38;5;241m.\u001b[39mna\u001b[38;5;241m.\u001b[39mdrop()\n",
      "File \u001b[0;32m/usr/local/spark/python/pyspark/sql/dataframe.py:1965\u001b[0m, in \u001b[0;36mDataFrame.__getitem__\u001b[0;34m(self, item)\u001b[0m\n\u001b[1;32m   1949\u001b[0m \u001b[38;5;124;03m\"\"\"Returns the column as a :class:`Column`.\u001b[39;00m\n\u001b[1;32m   1950\u001b[0m \n\u001b[1;32m   1951\u001b[0m \u001b[38;5;124;03m.. versionadded:: 1.3.0\u001b[39;00m\n\u001b[0;32m   (...)\u001b[0m\n\u001b[1;32m   1962\u001b[0m \u001b[38;5;124;03m[Row(age=5, name='Bob')]\u001b[39;00m\n\u001b[1;32m   1963\u001b[0m \u001b[38;5;124;03m\"\"\"\u001b[39;00m\n\u001b[1;32m   1964\u001b[0m \u001b[38;5;28;01mif\u001b[39;00m \u001b[38;5;28misinstance\u001b[39m(item, \u001b[38;5;28mstr\u001b[39m):\n\u001b[0;32m-> 1965\u001b[0m     jc \u001b[38;5;241m=\u001b[39m \u001b[38;5;28;43mself\u001b[39;49m\u001b[38;5;241;43m.\u001b[39;49m\u001b[43m_jdf\u001b[49m\u001b[38;5;241;43m.\u001b[39;49m\u001b[43mapply\u001b[49m\u001b[43m(\u001b[49m\u001b[43mitem\u001b[49m\u001b[43m)\u001b[49m\n\u001b[1;32m   1966\u001b[0m     \u001b[38;5;28;01mreturn\u001b[39;00m Column(jc)\n\u001b[1;32m   1967\u001b[0m \u001b[38;5;28;01melif\u001b[39;00m \u001b[38;5;28misinstance\u001b[39m(item, Column):\n",
      "File \u001b[0;32m/usr/local/spark/python/lib/py4j-0.10.9.5-src.zip/py4j/java_gateway.py:1321\u001b[0m, in \u001b[0;36mJavaMember.__call__\u001b[0;34m(self, *args)\u001b[0m\n\u001b[1;32m   1315\u001b[0m command \u001b[38;5;241m=\u001b[39m proto\u001b[38;5;241m.\u001b[39mCALL_COMMAND_NAME \u001b[38;5;241m+\u001b[39m\\\n\u001b[1;32m   1316\u001b[0m     \u001b[38;5;28mself\u001b[39m\u001b[38;5;241m.\u001b[39mcommand_header \u001b[38;5;241m+\u001b[39m\\\n\u001b[1;32m   1317\u001b[0m     args_command \u001b[38;5;241m+\u001b[39m\\\n\u001b[1;32m   1318\u001b[0m     proto\u001b[38;5;241m.\u001b[39mEND_COMMAND_PART\n\u001b[1;32m   1320\u001b[0m answer \u001b[38;5;241m=\u001b[39m \u001b[38;5;28mself\u001b[39m\u001b[38;5;241m.\u001b[39mgateway_client\u001b[38;5;241m.\u001b[39msend_command(command)\n\u001b[0;32m-> 1321\u001b[0m return_value \u001b[38;5;241m=\u001b[39m \u001b[43mget_return_value\u001b[49m\u001b[43m(\u001b[49m\n\u001b[1;32m   1322\u001b[0m \u001b[43m    \u001b[49m\u001b[43manswer\u001b[49m\u001b[43m,\u001b[49m\u001b[43m \u001b[49m\u001b[38;5;28;43mself\u001b[39;49m\u001b[38;5;241;43m.\u001b[39;49m\u001b[43mgateway_client\u001b[49m\u001b[43m,\u001b[49m\u001b[43m \u001b[49m\u001b[38;5;28;43mself\u001b[39;49m\u001b[38;5;241;43m.\u001b[39;49m\u001b[43mtarget_id\u001b[49m\u001b[43m,\u001b[49m\u001b[43m \u001b[49m\u001b[38;5;28;43mself\u001b[39;49m\u001b[38;5;241;43m.\u001b[39;49m\u001b[43mname\u001b[49m\u001b[43m)\u001b[49m\n\u001b[1;32m   1324\u001b[0m \u001b[38;5;28;01mfor\u001b[39;00m temp_arg \u001b[38;5;129;01min\u001b[39;00m temp_args:\n\u001b[1;32m   1325\u001b[0m     temp_arg\u001b[38;5;241m.\u001b[39m_detach()\n",
      "File \u001b[0;32m/usr/local/spark/python/pyspark/sql/utils.py:196\u001b[0m, in \u001b[0;36mcapture_sql_exception.<locals>.deco\u001b[0;34m(*a, **kw)\u001b[0m\n\u001b[1;32m    192\u001b[0m converted \u001b[38;5;241m=\u001b[39m convert_exception(e\u001b[38;5;241m.\u001b[39mjava_exception)\n\u001b[1;32m    193\u001b[0m \u001b[38;5;28;01mif\u001b[39;00m \u001b[38;5;129;01mnot\u001b[39;00m \u001b[38;5;28misinstance\u001b[39m(converted, UnknownException):\n\u001b[1;32m    194\u001b[0m     \u001b[38;5;66;03m# Hide where the exception came from that shows a non-Pythonic\u001b[39;00m\n\u001b[1;32m    195\u001b[0m     \u001b[38;5;66;03m# JVM exception message.\u001b[39;00m\n\u001b[0;32m--> 196\u001b[0m     \u001b[38;5;28;01mraise\u001b[39;00m converted \u001b[38;5;28;01mfrom\u001b[39;00m \u001b[38;5;28mNone\u001b[39m\n\u001b[1;32m    197\u001b[0m \u001b[38;5;28;01melse\u001b[39;00m:\n\u001b[1;32m    198\u001b[0m     \u001b[38;5;28;01mraise\u001b[39;00m\n",
      "\u001b[0;31mAnalysisException\u001b[0m: Cannot resolve column name \"team\" among (Rank, Equipe, Country, Attack, Assist, Corner_taken, Offside, Match_played)"
     ]
    }
   ],
   "source": [
    "df21 = df21.drop(col(\"_c0\"))\n",
    "df21 = df21.withColumn('Rank', split(df21['team'], ' ').getItem(0)) \\\n",
    "       .withColumn('Equipe', split(df21['team'], ' ').getItem(1)) \\\n",
    "       .withColumn('Country', split(df21['team'], ' ').getItem(2)) \\\n",
    "       .withColumn('Attack', split(df21['team'], ' ').getItem(3)) \\\n",
    "       .withColumn('Assist', split(df21['team'], ' ').getItem(4)) \\\n",
    "       .withColumn('Corner_taken', split(df21['team'], ' ').getItem(5)) \\\n",
    "       .withColumn('Offside', split(df21['team'], ' ').getItem(6)) \\\n",
    "       .withColumn('Match_played', split(df21['team'], ' ').getItem(7))\n",
    "\n",
    "df21 = df21.drop(col(\"team\"))\n",
    "df21 = df21.na.drop()\n",
    "df21.show(truncate=False)"
   ]
  },
  {
   "cell_type": "code",
   "execution_count": 75,
   "metadata": {},
   "outputs": [],
   "source": [
    "df21.toPandas().to_csv(\"./data/EL/el_stats_clubs_attack.csv\")"
   ]
  },
  {
   "cell_type": "markdown",
   "metadata": {
    "tags": []
   },
   "source": [
    "### Players Attack "
   ]
  },
  {
   "cell_type": "code",
   "execution_count": 141,
   "metadata": {},
   "outputs": [],
   "source": [
    "path = \"./data/EL/el_stats_player_attack.csv\"\n",
    "df22 = spark.read.option(\"delimiter\",\",\").options(header=True).csv(path)"
   ]
  },
  {
   "cell_type": "code",
   "execution_count": 142,
   "metadata": {},
   "outputs": [
    {
     "name": "stdout",
     "output_type": "stream",
     "text": [
      "+----+------------+-----------+----------+------+------------+-------+------------+\n",
      "|Rank|Nom         |Equipe     |Poste     |Assist|Corner_taken|Offside|Match_played|\n",
      "+----+------------+-----------+----------+------+------------+-------+------------+\n",
      "|01  |Evander     |Midtjylland|Midfielder|5     |12          |1      |6           |\n",
      "|02  |Bakasetas   |Trabzonspor|Midfielder|4     |17          |0      |6           |\n",
      "|03  |Pellegrini  |Roma       |Midfielder|3     |29          |1      |5           |\n",
      "|03  |Gakpo       |PSV        |Forward   |3     |10          |5      |5           |\n",
      "|03  |Rossi       |Fenerbahçe |Midfielder|3     |10          |1      |4           |\n",
      "|03  |Blas        |Nantes     |Midfielder|3     |5           |0      |6           |\n",
      "|03  |Miranda     |Betis      |Defender  |3     |3           |0      |6           |\n",
      "|08  |Kady        |Qarabağ    |Midfielder|2     |29          |2      |6           |\n",
      "|08  |Bourigeaud  |Rennes     |Midfielder|2     |20          |1      |6           |\n",
      "|08  |Eriksen     |Man_United |Midfielder|2     |20          |1      |6           |\n",
      "|08  |Cauly       |Ludogorets |Midfielder|2     |13          |1      |6           |\n",
      "|08  |Günter      |Freiburg   |Defender  |2     |13          |1      |6           |\n",
      "|08  |Teuma       |Union_SG   |Midfielder|2     |11          |1      |6           |\n",
      "|08  |Pep_Biel    |Olympiacos |Forward   |2     |9           |0      |5           |\n",
      "|08  |Tokmac_Nguen|Ferencváros|Forward   |2     |8           |3      |6           |\n",
      "+----+------------+-----------+----------+------+------------+-------+------------+\n",
      "\n"
     ]
    }
   ],
   "source": [
    "df22 = df22.drop(col(\"_c0\"))\n",
    "df22 = df22.withColumn('Rank', split(df22['team'], ' ').getItem(0)) \\\n",
    "        .withColumn('Nom', split(df22['team'], ' ').getItem(1)) \\\n",
    "       .withColumn('Equipe', split(df22['team'], ' ').getItem(2)) \\\n",
    "       .withColumn('Tiret', split(df22['team'], ' ').getItem(3)) \\\n",
    "       .withColumn('Poste', split(df22['team'], ' ').getItem(4)) \\\n",
    "       .withColumn('Assist', split(df22['team'], ' ').getItem(5)) \\\n",
    "       .withColumn('Corner_taken', split(df22['team'], ' ').getItem(6)) \\\n",
    "       .withColumn('Offside', split(df22['team'], ' ').getItem(7)) \\\n",
    "       .withColumn('Match_played', split(df22['team'], ' ').getItem(8))\n",
    "\n",
    "df22 = df22.drop(col(\"team\"))\n",
    "df22 = df22.na.drop()\n",
    "df22 = df22.drop(col(\"Tiret\"))\n",
    "df22.show(truncate=False)"
   ]
  },
  {
   "cell_type": "code",
   "execution_count": 143,
   "metadata": {},
   "outputs": [],
   "source": [
    "df22.toPandas().to_csv(\"./data/EL/el_stats_players_attack.csv\")"
   ]
  },
  {
   "cell_type": "markdown",
   "metadata": {
    "tags": []
   },
   "source": [
    "### Attempt\n"
   ]
  },
  {
   "cell_type": "code",
   "execution_count": 121,
   "metadata": {},
   "outputs": [],
   "source": [
    "path = \"./data/EL/el_stats_clubs_attempts.csv\"\n",
    "df23 = spark.read.option(\"delimiter\",\",\").options(header=True).csv(path)"
   ]
  },
  {
   "cell_type": "code",
   "execution_count": 122,
   "metadata": {},
   "outputs": [
    {
     "ename": "AnalysisException",
     "evalue": "Cannot resolve column name \"team\" among (Rank, Equipe, Country, Total_attempt, Attempt_on_target, Attempt_off_target, Blocked, Match_played)",
     "output_type": "error",
     "traceback": [
      "\u001b[0;31m---------------------------------------------------------------------------\u001b[0m",
      "\u001b[0;31mAnalysisException\u001b[0m                         Traceback (most recent call last)",
      "Cell \u001b[0;32mIn [122], line 2\u001b[0m\n\u001b[1;32m      1\u001b[0m df23 \u001b[38;5;241m=\u001b[39m df23\u001b[38;5;241m.\u001b[39mdrop(col(\u001b[38;5;124m\"\u001b[39m\u001b[38;5;124m_c0\u001b[39m\u001b[38;5;124m\"\u001b[39m))\n\u001b[0;32m----> 2\u001b[0m df23 \u001b[38;5;241m=\u001b[39m df23\u001b[38;5;241m.\u001b[39mwithColumn(\u001b[38;5;124m'\u001b[39m\u001b[38;5;124mRank\u001b[39m\u001b[38;5;124m'\u001b[39m, split(\u001b[43mdf23\u001b[49m\u001b[43m[\u001b[49m\u001b[38;5;124;43m'\u001b[39;49m\u001b[38;5;124;43mteam\u001b[39;49m\u001b[38;5;124;43m'\u001b[39;49m\u001b[43m]\u001b[49m, \u001b[38;5;124m'\u001b[39m\u001b[38;5;124m \u001b[39m\u001b[38;5;124m'\u001b[39m)\u001b[38;5;241m.\u001b[39mgetItem(\u001b[38;5;241m0\u001b[39m)) \\\n\u001b[1;32m      3\u001b[0m        \u001b[38;5;241m.\u001b[39mwithColumn(\u001b[38;5;124m'\u001b[39m\u001b[38;5;124mEquipe\u001b[39m\u001b[38;5;124m'\u001b[39m, split(df23[\u001b[38;5;124m'\u001b[39m\u001b[38;5;124mteam\u001b[39m\u001b[38;5;124m'\u001b[39m], \u001b[38;5;124m'\u001b[39m\u001b[38;5;124m \u001b[39m\u001b[38;5;124m'\u001b[39m)\u001b[38;5;241m.\u001b[39mgetItem(\u001b[38;5;241m1\u001b[39m)) \\\n\u001b[1;32m      4\u001b[0m        \u001b[38;5;241m.\u001b[39mwithColumn(\u001b[38;5;124m'\u001b[39m\u001b[38;5;124mCountry\u001b[39m\u001b[38;5;124m'\u001b[39m, split(df23[\u001b[38;5;124m'\u001b[39m\u001b[38;5;124mteam\u001b[39m\u001b[38;5;124m'\u001b[39m], \u001b[38;5;124m'\u001b[39m\u001b[38;5;124m \u001b[39m\u001b[38;5;124m'\u001b[39m)\u001b[38;5;241m.\u001b[39mgetItem(\u001b[38;5;241m2\u001b[39m)) \\\n\u001b[1;32m      5\u001b[0m        \u001b[38;5;241m.\u001b[39mwithColumn(\u001b[38;5;124m'\u001b[39m\u001b[38;5;124mTotal_attempt\u001b[39m\u001b[38;5;124m'\u001b[39m, split(df23[\u001b[38;5;124m'\u001b[39m\u001b[38;5;124mteam\u001b[39m\u001b[38;5;124m'\u001b[39m], \u001b[38;5;124m'\u001b[39m\u001b[38;5;124m \u001b[39m\u001b[38;5;124m'\u001b[39m)\u001b[38;5;241m.\u001b[39mgetItem(\u001b[38;5;241m3\u001b[39m)) \\\n\u001b[1;32m      6\u001b[0m        \u001b[38;5;241m.\u001b[39mwithColumn(\u001b[38;5;124m'\u001b[39m\u001b[38;5;124mAttempt_on_target\u001b[39m\u001b[38;5;124m'\u001b[39m, split(df23[\u001b[38;5;124m'\u001b[39m\u001b[38;5;124mteam\u001b[39m\u001b[38;5;124m'\u001b[39m], \u001b[38;5;124m'\u001b[39m\u001b[38;5;124m \u001b[39m\u001b[38;5;124m'\u001b[39m)\u001b[38;5;241m.\u001b[39mgetItem(\u001b[38;5;241m4\u001b[39m)) \\\n\u001b[1;32m      7\u001b[0m        \u001b[38;5;241m.\u001b[39mwithColumn(\u001b[38;5;124m'\u001b[39m\u001b[38;5;124mAttempt_off_target\u001b[39m\u001b[38;5;124m'\u001b[39m, split(df23[\u001b[38;5;124m'\u001b[39m\u001b[38;5;124mteam\u001b[39m\u001b[38;5;124m'\u001b[39m], \u001b[38;5;124m'\u001b[39m\u001b[38;5;124m \u001b[39m\u001b[38;5;124m'\u001b[39m)\u001b[38;5;241m.\u001b[39mgetItem(\u001b[38;5;241m5\u001b[39m)) \\\n\u001b[1;32m      8\u001b[0m        \u001b[38;5;241m.\u001b[39mwithColumn(\u001b[38;5;124m'\u001b[39m\u001b[38;5;124mBlocked\u001b[39m\u001b[38;5;124m'\u001b[39m, split(df23[\u001b[38;5;124m'\u001b[39m\u001b[38;5;124mteam\u001b[39m\u001b[38;5;124m'\u001b[39m], \u001b[38;5;124m'\u001b[39m\u001b[38;5;124m \u001b[39m\u001b[38;5;124m'\u001b[39m)\u001b[38;5;241m.\u001b[39mgetItem(\u001b[38;5;241m6\u001b[39m)) \\\n\u001b[1;32m      9\u001b[0m        \u001b[38;5;241m.\u001b[39mwithColumn(\u001b[38;5;124m'\u001b[39m\u001b[38;5;124mMatch_played\u001b[39m\u001b[38;5;124m'\u001b[39m, split(df23[\u001b[38;5;124m'\u001b[39m\u001b[38;5;124mteam\u001b[39m\u001b[38;5;124m'\u001b[39m], \u001b[38;5;124m'\u001b[39m\u001b[38;5;124m \u001b[39m\u001b[38;5;124m'\u001b[39m)\u001b[38;5;241m.\u001b[39mgetItem(\u001b[38;5;241m7\u001b[39m)) \n\u001b[1;32m     11\u001b[0m df23 \u001b[38;5;241m=\u001b[39m df23\u001b[38;5;241m.\u001b[39mdrop(col(\u001b[38;5;124m\"\u001b[39m\u001b[38;5;124mteam\u001b[39m\u001b[38;5;124m\"\u001b[39m))\n\u001b[1;32m     12\u001b[0m df23 \u001b[38;5;241m=\u001b[39m df23\u001b[38;5;241m.\u001b[39mna\u001b[38;5;241m.\u001b[39mdrop()\n",
      "File \u001b[0;32m/usr/local/spark/python/pyspark/sql/dataframe.py:1965\u001b[0m, in \u001b[0;36mDataFrame.__getitem__\u001b[0;34m(self, item)\u001b[0m\n\u001b[1;32m   1949\u001b[0m \u001b[38;5;124;03m\"\"\"Returns the column as a :class:`Column`.\u001b[39;00m\n\u001b[1;32m   1950\u001b[0m \n\u001b[1;32m   1951\u001b[0m \u001b[38;5;124;03m.. versionadded:: 1.3.0\u001b[39;00m\n\u001b[0;32m   (...)\u001b[0m\n\u001b[1;32m   1962\u001b[0m \u001b[38;5;124;03m[Row(age=5, name='Bob')]\u001b[39;00m\n\u001b[1;32m   1963\u001b[0m \u001b[38;5;124;03m\"\"\"\u001b[39;00m\n\u001b[1;32m   1964\u001b[0m \u001b[38;5;28;01mif\u001b[39;00m \u001b[38;5;28misinstance\u001b[39m(item, \u001b[38;5;28mstr\u001b[39m):\n\u001b[0;32m-> 1965\u001b[0m     jc \u001b[38;5;241m=\u001b[39m \u001b[38;5;28;43mself\u001b[39;49m\u001b[38;5;241;43m.\u001b[39;49m\u001b[43m_jdf\u001b[49m\u001b[38;5;241;43m.\u001b[39;49m\u001b[43mapply\u001b[49m\u001b[43m(\u001b[49m\u001b[43mitem\u001b[49m\u001b[43m)\u001b[49m\n\u001b[1;32m   1966\u001b[0m     \u001b[38;5;28;01mreturn\u001b[39;00m Column(jc)\n\u001b[1;32m   1967\u001b[0m \u001b[38;5;28;01melif\u001b[39;00m \u001b[38;5;28misinstance\u001b[39m(item, Column):\n",
      "File \u001b[0;32m/usr/local/spark/python/lib/py4j-0.10.9.5-src.zip/py4j/java_gateway.py:1321\u001b[0m, in \u001b[0;36mJavaMember.__call__\u001b[0;34m(self, *args)\u001b[0m\n\u001b[1;32m   1315\u001b[0m command \u001b[38;5;241m=\u001b[39m proto\u001b[38;5;241m.\u001b[39mCALL_COMMAND_NAME \u001b[38;5;241m+\u001b[39m\\\n\u001b[1;32m   1316\u001b[0m     \u001b[38;5;28mself\u001b[39m\u001b[38;5;241m.\u001b[39mcommand_header \u001b[38;5;241m+\u001b[39m\\\n\u001b[1;32m   1317\u001b[0m     args_command \u001b[38;5;241m+\u001b[39m\\\n\u001b[1;32m   1318\u001b[0m     proto\u001b[38;5;241m.\u001b[39mEND_COMMAND_PART\n\u001b[1;32m   1320\u001b[0m answer \u001b[38;5;241m=\u001b[39m \u001b[38;5;28mself\u001b[39m\u001b[38;5;241m.\u001b[39mgateway_client\u001b[38;5;241m.\u001b[39msend_command(command)\n\u001b[0;32m-> 1321\u001b[0m return_value \u001b[38;5;241m=\u001b[39m \u001b[43mget_return_value\u001b[49m\u001b[43m(\u001b[49m\n\u001b[1;32m   1322\u001b[0m \u001b[43m    \u001b[49m\u001b[43manswer\u001b[49m\u001b[43m,\u001b[49m\u001b[43m \u001b[49m\u001b[38;5;28;43mself\u001b[39;49m\u001b[38;5;241;43m.\u001b[39;49m\u001b[43mgateway_client\u001b[49m\u001b[43m,\u001b[49m\u001b[43m \u001b[49m\u001b[38;5;28;43mself\u001b[39;49m\u001b[38;5;241;43m.\u001b[39;49m\u001b[43mtarget_id\u001b[49m\u001b[43m,\u001b[49m\u001b[43m \u001b[49m\u001b[38;5;28;43mself\u001b[39;49m\u001b[38;5;241;43m.\u001b[39;49m\u001b[43mname\u001b[49m\u001b[43m)\u001b[49m\n\u001b[1;32m   1324\u001b[0m \u001b[38;5;28;01mfor\u001b[39;00m temp_arg \u001b[38;5;129;01min\u001b[39;00m temp_args:\n\u001b[1;32m   1325\u001b[0m     temp_arg\u001b[38;5;241m.\u001b[39m_detach()\n",
      "File \u001b[0;32m/usr/local/spark/python/pyspark/sql/utils.py:196\u001b[0m, in \u001b[0;36mcapture_sql_exception.<locals>.deco\u001b[0;34m(*a, **kw)\u001b[0m\n\u001b[1;32m    192\u001b[0m converted \u001b[38;5;241m=\u001b[39m convert_exception(e\u001b[38;5;241m.\u001b[39mjava_exception)\n\u001b[1;32m    193\u001b[0m \u001b[38;5;28;01mif\u001b[39;00m \u001b[38;5;129;01mnot\u001b[39;00m \u001b[38;5;28misinstance\u001b[39m(converted, UnknownException):\n\u001b[1;32m    194\u001b[0m     \u001b[38;5;66;03m# Hide where the exception came from that shows a non-Pythonic\u001b[39;00m\n\u001b[1;32m    195\u001b[0m     \u001b[38;5;66;03m# JVM exception message.\u001b[39;00m\n\u001b[0;32m--> 196\u001b[0m     \u001b[38;5;28;01mraise\u001b[39;00m converted \u001b[38;5;28;01mfrom\u001b[39;00m \u001b[38;5;28mNone\u001b[39m\n\u001b[1;32m    197\u001b[0m \u001b[38;5;28;01melse\u001b[39;00m:\n\u001b[1;32m    198\u001b[0m     \u001b[38;5;28;01mraise\u001b[39;00m\n",
      "\u001b[0;31mAnalysisException\u001b[0m: Cannot resolve column name \"team\" among (Rank, Equipe, Country, Total_attempt, Attempt_on_target, Attempt_off_target, Blocked, Match_played)"
     ]
    }
   ],
   "source": [
    "df23 = df23.drop(col(\"_c0\"))\n",
    "df23 = df23.withColumn('Rank', split(df23['team'], ' ').getItem(0)) \\\n",
    "       .withColumn('Equipe', split(df23['team'], ' ').getItem(1)) \\\n",
    "       .withColumn('Country', split(df23['team'], ' ').getItem(2)) \\\n",
    "       .withColumn('Total_attempt', split(df23['team'], ' ').getItem(3)) \\\n",
    "       .withColumn('Attempt_on_target', split(df23['team'], ' ').getItem(4)) \\\n",
    "       .withColumn('Attempt_off_target', split(df23['team'], ' ').getItem(5)) \\\n",
    "       .withColumn('Blocked', split(df23['team'], ' ').getItem(6)) \\\n",
    "       .withColumn('Match_played', split(df23['team'], ' ').getItem(7)) \n",
    "\n",
    "df23 = df23.drop(col(\"team\"))\n",
    "df23 = df23.na.drop()\n",
    "df23.show(truncate=False)"
   ]
  },
  {
   "cell_type": "code",
   "execution_count": 123,
   "metadata": {},
   "outputs": [],
   "source": [
    "df23.toPandas().to_csv(\"./data/EL/el_stats_clubs_attempts.csv\")"
   ]
  },
  {
   "cell_type": "markdown",
   "metadata": {
    "tags": []
   },
   "source": [
    "### Players Attempt\n"
   ]
  },
  {
   "cell_type": "code",
   "execution_count": 124,
   "metadata": {},
   "outputs": [],
   "source": [
    "path = \"./data/EL/el_stats_players_attempts.csv\"\n",
    "df24 = spark.read.option(\"delimiter\",\",\").options(header=True).csv(path)"
   ]
  },
  {
   "cell_type": "code",
   "execution_count": 125,
   "metadata": {},
   "outputs": [
    {
     "ename": "AnalysisException",
     "evalue": "Cannot resolve column name \"team\" among (Rank, Nom, Equipe, Poste, Total_attempts, Attempts_on_target, Attempts_off_target, Blocked, Match_played)",
     "output_type": "error",
     "traceback": [
      "\u001b[0;31m---------------------------------------------------------------------------\u001b[0m",
      "\u001b[0;31mAnalysisException\u001b[0m                         Traceback (most recent call last)",
      "Cell \u001b[0;32mIn [125], line 2\u001b[0m\n\u001b[1;32m      1\u001b[0m df24 \u001b[38;5;241m=\u001b[39m df24\u001b[38;5;241m.\u001b[39mdrop(col(\u001b[38;5;124m\"\u001b[39m\u001b[38;5;124m_c0\u001b[39m\u001b[38;5;124m\"\u001b[39m))\n\u001b[0;32m----> 2\u001b[0m df24 \u001b[38;5;241m=\u001b[39m df24\u001b[38;5;241m.\u001b[39mwithColumn(\u001b[38;5;124m'\u001b[39m\u001b[38;5;124mRank\u001b[39m\u001b[38;5;124m'\u001b[39m, split(\u001b[43mdf24\u001b[49m\u001b[43m[\u001b[49m\u001b[38;5;124;43m'\u001b[39;49m\u001b[38;5;124;43mteam\u001b[39;49m\u001b[38;5;124;43m'\u001b[39;49m\u001b[43m]\u001b[49m, \u001b[38;5;124m'\u001b[39m\u001b[38;5;124m \u001b[39m\u001b[38;5;124m'\u001b[39m)\u001b[38;5;241m.\u001b[39mgetItem(\u001b[38;5;241m0\u001b[39m)) \\\n\u001b[1;32m      3\u001b[0m         \u001b[38;5;241m.\u001b[39mwithColumn(\u001b[38;5;124m'\u001b[39m\u001b[38;5;124mNom\u001b[39m\u001b[38;5;124m'\u001b[39m, split(df24[\u001b[38;5;124m'\u001b[39m\u001b[38;5;124mteam\u001b[39m\u001b[38;5;124m'\u001b[39m], \u001b[38;5;124m'\u001b[39m\u001b[38;5;124m \u001b[39m\u001b[38;5;124m'\u001b[39m)\u001b[38;5;241m.\u001b[39mgetItem(\u001b[38;5;241m1\u001b[39m)) \\\n\u001b[1;32m      4\u001b[0m        \u001b[38;5;241m.\u001b[39mwithColumn(\u001b[38;5;124m'\u001b[39m\u001b[38;5;124mEquipe\u001b[39m\u001b[38;5;124m'\u001b[39m, split(df24[\u001b[38;5;124m'\u001b[39m\u001b[38;5;124mteam\u001b[39m\u001b[38;5;124m'\u001b[39m], \u001b[38;5;124m'\u001b[39m\u001b[38;5;124m \u001b[39m\u001b[38;5;124m'\u001b[39m)\u001b[38;5;241m.\u001b[39mgetItem(\u001b[38;5;241m2\u001b[39m)) \\\n\u001b[1;32m      5\u001b[0m        \u001b[38;5;241m.\u001b[39mwithColumn(\u001b[38;5;124m'\u001b[39m\u001b[38;5;124mTiret\u001b[39m\u001b[38;5;124m'\u001b[39m, split(df24[\u001b[38;5;124m'\u001b[39m\u001b[38;5;124mteam\u001b[39m\u001b[38;5;124m'\u001b[39m], \u001b[38;5;124m'\u001b[39m\u001b[38;5;124m \u001b[39m\u001b[38;5;124m'\u001b[39m)\u001b[38;5;241m.\u001b[39mgetItem(\u001b[38;5;241m3\u001b[39m)) \\\n\u001b[1;32m      6\u001b[0m        \u001b[38;5;241m.\u001b[39mwithColumn(\u001b[38;5;124m'\u001b[39m\u001b[38;5;124mPoste\u001b[39m\u001b[38;5;124m'\u001b[39m, split(df24[\u001b[38;5;124m'\u001b[39m\u001b[38;5;124mteam\u001b[39m\u001b[38;5;124m'\u001b[39m], \u001b[38;5;124m'\u001b[39m\u001b[38;5;124m \u001b[39m\u001b[38;5;124m'\u001b[39m)\u001b[38;5;241m.\u001b[39mgetItem(\u001b[38;5;241m4\u001b[39m)) \\\n\u001b[1;32m      7\u001b[0m        \u001b[38;5;241m.\u001b[39mwithColumn(\u001b[38;5;124m'\u001b[39m\u001b[38;5;124mTotal_attempts\u001b[39m\u001b[38;5;124m'\u001b[39m, split(df24[\u001b[38;5;124m'\u001b[39m\u001b[38;5;124mteam\u001b[39m\u001b[38;5;124m'\u001b[39m], \u001b[38;5;124m'\u001b[39m\u001b[38;5;124m \u001b[39m\u001b[38;5;124m'\u001b[39m)\u001b[38;5;241m.\u001b[39mgetItem(\u001b[38;5;241m5\u001b[39m)) \\\n\u001b[1;32m      8\u001b[0m        \u001b[38;5;241m.\u001b[39mwithColumn(\u001b[38;5;124m'\u001b[39m\u001b[38;5;124mAttempts_on_target\u001b[39m\u001b[38;5;124m'\u001b[39m, split(df24[\u001b[38;5;124m'\u001b[39m\u001b[38;5;124mteam\u001b[39m\u001b[38;5;124m'\u001b[39m], \u001b[38;5;124m'\u001b[39m\u001b[38;5;124m \u001b[39m\u001b[38;5;124m'\u001b[39m)\u001b[38;5;241m.\u001b[39mgetItem(\u001b[38;5;241m6\u001b[39m)) \\\n\u001b[1;32m      9\u001b[0m        \u001b[38;5;241m.\u001b[39mwithColumn(\u001b[38;5;124m'\u001b[39m\u001b[38;5;124mAttempts_off_target\u001b[39m\u001b[38;5;124m'\u001b[39m, split(df24[\u001b[38;5;124m'\u001b[39m\u001b[38;5;124mteam\u001b[39m\u001b[38;5;124m'\u001b[39m], \u001b[38;5;124m'\u001b[39m\u001b[38;5;124m \u001b[39m\u001b[38;5;124m'\u001b[39m)\u001b[38;5;241m.\u001b[39mgetItem(\u001b[38;5;241m7\u001b[39m)) \\\n\u001b[1;32m     10\u001b[0m        \u001b[38;5;241m.\u001b[39mwithColumn(\u001b[38;5;124m'\u001b[39m\u001b[38;5;124mBlocked\u001b[39m\u001b[38;5;124m'\u001b[39m, split(df24[\u001b[38;5;124m'\u001b[39m\u001b[38;5;124mteam\u001b[39m\u001b[38;5;124m'\u001b[39m], \u001b[38;5;124m'\u001b[39m\u001b[38;5;124m \u001b[39m\u001b[38;5;124m'\u001b[39m)\u001b[38;5;241m.\u001b[39mgetItem(\u001b[38;5;241m8\u001b[39m)) \\\n\u001b[1;32m     11\u001b[0m        \u001b[38;5;241m.\u001b[39mwithColumn(\u001b[38;5;124m'\u001b[39m\u001b[38;5;124mMatch_played\u001b[39m\u001b[38;5;124m'\u001b[39m, split(df24[\u001b[38;5;124m'\u001b[39m\u001b[38;5;124mteam\u001b[39m\u001b[38;5;124m'\u001b[39m], \u001b[38;5;124m'\u001b[39m\u001b[38;5;124m \u001b[39m\u001b[38;5;124m'\u001b[39m)\u001b[38;5;241m.\u001b[39mgetItem(\u001b[38;5;241m9\u001b[39m))\n\u001b[1;32m     13\u001b[0m df24 \u001b[38;5;241m=\u001b[39m df24\u001b[38;5;241m.\u001b[39mdrop(col(\u001b[38;5;124m\"\u001b[39m\u001b[38;5;124mteam\u001b[39m\u001b[38;5;124m\"\u001b[39m))\n\u001b[1;32m     14\u001b[0m df24 \u001b[38;5;241m=\u001b[39m df24\u001b[38;5;241m.\u001b[39mna\u001b[38;5;241m.\u001b[39mdrop()\n",
      "File \u001b[0;32m/usr/local/spark/python/pyspark/sql/dataframe.py:1965\u001b[0m, in \u001b[0;36mDataFrame.__getitem__\u001b[0;34m(self, item)\u001b[0m\n\u001b[1;32m   1949\u001b[0m \u001b[38;5;124;03m\"\"\"Returns the column as a :class:`Column`.\u001b[39;00m\n\u001b[1;32m   1950\u001b[0m \n\u001b[1;32m   1951\u001b[0m \u001b[38;5;124;03m.. versionadded:: 1.3.0\u001b[39;00m\n\u001b[0;32m   (...)\u001b[0m\n\u001b[1;32m   1962\u001b[0m \u001b[38;5;124;03m[Row(age=5, name='Bob')]\u001b[39;00m\n\u001b[1;32m   1963\u001b[0m \u001b[38;5;124;03m\"\"\"\u001b[39;00m\n\u001b[1;32m   1964\u001b[0m \u001b[38;5;28;01mif\u001b[39;00m \u001b[38;5;28misinstance\u001b[39m(item, \u001b[38;5;28mstr\u001b[39m):\n\u001b[0;32m-> 1965\u001b[0m     jc \u001b[38;5;241m=\u001b[39m \u001b[38;5;28;43mself\u001b[39;49m\u001b[38;5;241;43m.\u001b[39;49m\u001b[43m_jdf\u001b[49m\u001b[38;5;241;43m.\u001b[39;49m\u001b[43mapply\u001b[49m\u001b[43m(\u001b[49m\u001b[43mitem\u001b[49m\u001b[43m)\u001b[49m\n\u001b[1;32m   1966\u001b[0m     \u001b[38;5;28;01mreturn\u001b[39;00m Column(jc)\n\u001b[1;32m   1967\u001b[0m \u001b[38;5;28;01melif\u001b[39;00m \u001b[38;5;28misinstance\u001b[39m(item, Column):\n",
      "File \u001b[0;32m/usr/local/spark/python/lib/py4j-0.10.9.5-src.zip/py4j/java_gateway.py:1321\u001b[0m, in \u001b[0;36mJavaMember.__call__\u001b[0;34m(self, *args)\u001b[0m\n\u001b[1;32m   1315\u001b[0m command \u001b[38;5;241m=\u001b[39m proto\u001b[38;5;241m.\u001b[39mCALL_COMMAND_NAME \u001b[38;5;241m+\u001b[39m\\\n\u001b[1;32m   1316\u001b[0m     \u001b[38;5;28mself\u001b[39m\u001b[38;5;241m.\u001b[39mcommand_header \u001b[38;5;241m+\u001b[39m\\\n\u001b[1;32m   1317\u001b[0m     args_command \u001b[38;5;241m+\u001b[39m\\\n\u001b[1;32m   1318\u001b[0m     proto\u001b[38;5;241m.\u001b[39mEND_COMMAND_PART\n\u001b[1;32m   1320\u001b[0m answer \u001b[38;5;241m=\u001b[39m \u001b[38;5;28mself\u001b[39m\u001b[38;5;241m.\u001b[39mgateway_client\u001b[38;5;241m.\u001b[39msend_command(command)\n\u001b[0;32m-> 1321\u001b[0m return_value \u001b[38;5;241m=\u001b[39m \u001b[43mget_return_value\u001b[49m\u001b[43m(\u001b[49m\n\u001b[1;32m   1322\u001b[0m \u001b[43m    \u001b[49m\u001b[43manswer\u001b[49m\u001b[43m,\u001b[49m\u001b[43m \u001b[49m\u001b[38;5;28;43mself\u001b[39;49m\u001b[38;5;241;43m.\u001b[39;49m\u001b[43mgateway_client\u001b[49m\u001b[43m,\u001b[49m\u001b[43m \u001b[49m\u001b[38;5;28;43mself\u001b[39;49m\u001b[38;5;241;43m.\u001b[39;49m\u001b[43mtarget_id\u001b[49m\u001b[43m,\u001b[49m\u001b[43m \u001b[49m\u001b[38;5;28;43mself\u001b[39;49m\u001b[38;5;241;43m.\u001b[39;49m\u001b[43mname\u001b[49m\u001b[43m)\u001b[49m\n\u001b[1;32m   1324\u001b[0m \u001b[38;5;28;01mfor\u001b[39;00m temp_arg \u001b[38;5;129;01min\u001b[39;00m temp_args:\n\u001b[1;32m   1325\u001b[0m     temp_arg\u001b[38;5;241m.\u001b[39m_detach()\n",
      "File \u001b[0;32m/usr/local/spark/python/pyspark/sql/utils.py:196\u001b[0m, in \u001b[0;36mcapture_sql_exception.<locals>.deco\u001b[0;34m(*a, **kw)\u001b[0m\n\u001b[1;32m    192\u001b[0m converted \u001b[38;5;241m=\u001b[39m convert_exception(e\u001b[38;5;241m.\u001b[39mjava_exception)\n\u001b[1;32m    193\u001b[0m \u001b[38;5;28;01mif\u001b[39;00m \u001b[38;5;129;01mnot\u001b[39;00m \u001b[38;5;28misinstance\u001b[39m(converted, UnknownException):\n\u001b[1;32m    194\u001b[0m     \u001b[38;5;66;03m# Hide where the exception came from that shows a non-Pythonic\u001b[39;00m\n\u001b[1;32m    195\u001b[0m     \u001b[38;5;66;03m# JVM exception message.\u001b[39;00m\n\u001b[0;32m--> 196\u001b[0m     \u001b[38;5;28;01mraise\u001b[39;00m converted \u001b[38;5;28;01mfrom\u001b[39;00m \u001b[38;5;28mNone\u001b[39m\n\u001b[1;32m    197\u001b[0m \u001b[38;5;28;01melse\u001b[39;00m:\n\u001b[1;32m    198\u001b[0m     \u001b[38;5;28;01mraise\u001b[39;00m\n",
      "\u001b[0;31mAnalysisException\u001b[0m: Cannot resolve column name \"team\" among (Rank, Nom, Equipe, Poste, Total_attempts, Attempts_on_target, Attempts_off_target, Blocked, Match_played)"
     ]
    }
   ],
   "source": [
    "df24 = df24.drop(col(\"_c0\"))\n",
    "df24 = df24.withColumn('Rank', split(df24['team'], ' ').getItem(0)) \\\n",
    "        .withColumn('Nom', split(df24['team'], ' ').getItem(1)) \\\n",
    "       .withColumn('Equipe', split(df24['team'], ' ').getItem(2)) \\\n",
    "       .withColumn('Tiret', split(df24['team'], ' ').getItem(3)) \\\n",
    "       .withColumn('Poste', split(df24['team'], ' ').getItem(4)) \\\n",
    "       .withColumn('Total_attempts', split(df24['team'], ' ').getItem(5)) \\\n",
    "       .withColumn('Attempts_on_target', split(df24['team'], ' ').getItem(6)) \\\n",
    "       .withColumn('Attempts_off_target', split(df24['team'], ' ').getItem(7)) \\\n",
    "       .withColumn('Blocked', split(df24['team'], ' ').getItem(8)) \\\n",
    "       .withColumn('Match_played', split(df24['team'], ' ').getItem(9))\n",
    "\n",
    "df24 = df24.drop(col(\"team\"))\n",
    "df24 = df24.na.drop()\n",
    "df24 = df24.drop(col(\"Tiret\"))\n",
    "df24.show(truncate=False)"
   ]
  },
  {
   "cell_type": "code",
   "execution_count": 84,
   "metadata": {},
   "outputs": [],
   "source": [
    "df24.toPandas().to_csv(\"./data/EL/el_stats_players_attempts.csv\")"
   ]
  },
  {
   "cell_type": "markdown",
   "metadata": {
    "tags": []
   },
   "source": [
    "### Def"
   ]
  },
  {
   "cell_type": "code",
   "execution_count": 85,
   "metadata": {},
   "outputs": [],
   "source": [
    "path = \"./data/EL/el_stats_clubs_defending.csv\"\n",
    "df25 = spark.read.option(\"delimiter\",\",\").options(header=True).csv(path)"
   ]
  },
  {
   "cell_type": "code",
   "execution_count": 86,
   "metadata": {},
   "outputs": [
    {
     "name": "stdout",
     "output_type": "stream",
     "text": [
      "+----+-------------+-----------+------------+-------+-----------+------------+-----------------+------------+\n",
      "|Rank|Equipe       |Country    |Ball_recover|Tackles|Tackles_Won|Tackles_Lost|Clearence_attempt|Match_played|\n",
      "+----+-------------+-----------+------------+-------+-----------+------------+-----------------+------------+\n",
      "|01  |Monaco       |France     |261         |55     |-          |-           |54               |6           |\n",
      "|02  |PSV          |Netherlands|253         |69     |-          |-           |90               |6           |\n",
      "|02  |Crvena_zvezda|Serbia     |253         |48     |-          |-           |98               |6           |\n",
      "|04  |Lazio        |Italy      |251         |50     |-          |-           |66               |6           |\n",
      "|05  |Nantes       |France     |246         |55     |-          |-           |119              |6           |\n",
      "|06  |Trabzonspor  |Türkiye    |244         |47     |-          |-           |118              |6           |\n",
      "|07  |Feyenoord    |Netherlands|243         |68     |-          |-           |103              |6           |\n",
      "|08  |Betis        |Spain      |242         |77     |-          |-           |95               |6           |\n",
      "|09  |Olympiacos   |Greece     |240         |70     |-          |-           |151              |6           |\n",
      "|10  |Union_SG     |Belgium    |238         |66     |-          |-           |114              |6           |\n",
      "|10  |Freiburg     |Germany    |238         |62     |-          |-           |101              |6           |\n",
      "|12  |Bodø/Glimt   |Norway     |236         |72     |-          |-           |96               |6           |\n",
      "|13  |Sturm        |Austria    |235         |54     |-          |-           |120              |6           |\n",
      "|14  |Union_Berlin |Germany    |232         |74     |-          |-           |89               |6           |\n",
      "|14  |Rennes       |France     |232         |68     |-          |-           |99               |6           |\n",
      "+----+-------------+-----------+------------+-------+-----------+------------+-----------------+------------+\n",
      "\n"
     ]
    }
   ],
   "source": [
    "df25 = df25.drop(col(\"_c0\"))\n",
    "df25 = df25.withColumn('Rank', split(df25['team'], ' ').getItem(0)) \\\n",
    "       .withColumn('Equipe', split(df25['team'], ' ').getItem(1)) \\\n",
    "       .withColumn('Country', split(df25['team'], ' ').getItem(2)) \\\n",
    "       .withColumn('Ball_recover', split(df25['team'], ' ').getItem(3)) \\\n",
    "       .withColumn('Tackles', split(df25['team'], ' ').getItem(4)) \\\n",
    "       .withColumn('Tackles_Won', split(df25['team'], ' ').getItem(5)) \\\n",
    "       .withColumn('Tackles_Lost', split(df25['team'], ' ').getItem(6)) \\\n",
    "       .withColumn('Clearence_attempt', split(df25['team'], ' ').getItem(7)) \\\n",
    "       .withColumn('Match_played', split(df25['team'], ' ').getItem(8))\n",
    "\n",
    "df25 = df25.drop(col(\"team\"))\n",
    "df25 = df25.na.drop()\n",
    "df25.show(truncate=False)"
   ]
  },
  {
   "cell_type": "code",
   "execution_count": 87,
   "metadata": {},
   "outputs": [],
   "source": [
    "df25.toPandas().to_csv(\"./data/EL/el_stats_clubs_defending.csv\")"
   ]
  },
  {
   "cell_type": "markdown",
   "metadata": {
    "tags": []
   },
   "source": [
    "### Players Def"
   ]
  },
  {
   "cell_type": "code",
   "execution_count": 88,
   "metadata": {},
   "outputs": [],
   "source": [
    "path = \"./data/EL/el_stats_players_defending.csv\"\n",
    "df26 = spark.read.option(\"delimiter\",\",\").options(header=True).csv(path)"
   ]
  },
  {
   "cell_type": "code",
   "execution_count": 89,
   "metadata": {},
   "outputs": [
    {
     "name": "stdout",
     "output_type": "stream",
     "text": [
      "+----+-----------+-------------+--------+------------+-------+-----------+------------+------------------+------------+\n",
      "|Rank|Nom        |Equipe       |Poste   |Ball_recover|Tackles|Tackles_Won|Tackles_Lost|Clearance_Attempts|Match_played|\n",
      "+----+-----------+-------------+--------+------------+-------+-----------+------------+------------------+------------+\n",
      "|01  |Burgess    |Union_SG     |Defender|53          |6      |-          |-           |30                |6           |\n",
      "|02  |Bartra     |Trabzonspor  |Defender|52          |9      |-          |-           |28                |6           |\n",
      "|03  |Eraković   |Crvena_zvezda|Defender|49          |3      |-          |-           |14                |6           |\n",
      "|04  |Mustafazade|Qarabağ      |Defender|43          |4      |-          |-           |33                |6           |\n",
      "|04  |Disasi     |Monaco       |Defender|43          |4      |-          |-           |12                |6           |\n",
      "|06  |Miličević  |AEK_Larnaca  |Defender|42          |8      |-          |-           |29                |6           |\n",
      "|07  |Hancko     |Feyenoord    |Defender|40          |9      |-          |-           |29                |6           |\n",
      "|07  |Zabarnyi   |Dynamo_Kyiv  |Defender|40          |8      |-          |-           |14                |5           |\n",
      "|07  |Hysaj      |Lazio        |Defender|40          |7      |-          |-           |10                |6           |\n",
      "|10  |Ginter     |Freiburg     |Defender|39          |8      |-          |-           |14                |6           |\n",
      "|10  |S._Mmaee   |Ferencváros  |Defender|39          |6      |-          |-           |49                |6           |\n",
      "|10  |Tomović    |AEK_Larnaca  |Defender|39          |5      |-          |-           |19                |6           |\n",
      "|13  |Castelletto|Nantes       |Defender|38          |8      |-          |-           |20                |5           |\n",
      "|13  |Elustondo  |Real_Sociedad|Defender|38          |8      |-          |-           |15                |6           |\n",
      "|13  |Pallois    |Nantes       |Defender|38          |4      |-          |-           |27                |5           |\n",
      "+----+-----------+-------------+--------+------------+-------+-----------+------------+------------------+------------+\n",
      "\n"
     ]
    }
   ],
   "source": [
    "df26 = df26.drop(col(\"_c0\"))\n",
    "df26 = df26.withColumn('Rank', split(df26['team'], ' ').getItem(0)) \\\n",
    "        .withColumn('Nom', split(df26['team'], ' ').getItem(1)) \\\n",
    "       .withColumn('Equipe', split(df26['team'], ' ').getItem(2)) \\\n",
    "       .withColumn('Tiret', split(df26['team'], ' ').getItem(3)) \\\n",
    "       .withColumn('Poste', split(df26['team'], ' ').getItem(4)) \\\n",
    "       .withColumn('Ball_recover', split(df26['team'], ' ').getItem(5)) \\\n",
    "       .withColumn('Tackles', split(df26['team'], ' ').getItem(6)) \\\n",
    "       .withColumn('Tackles_Won', split(df26['team'], ' ').getItem(7)) \\\n",
    "       .withColumn('Tackles_Lost', split(df26['team'], ' ').getItem(8)) \\\n",
    "       .withColumn('Clearance_Attempts', split(df26['team'], ' ').getItem(9)) \\\n",
    "       .withColumn('Match_played', split(df26['team'], ' ').getItem(10))\n",
    "\n",
    "df26 = df26.drop(col(\"team\"))\n",
    "df26 = df26.na.drop()\n",
    "df26 = df26.drop(col(\"Tiret\"))\n",
    "df26.show(truncate=False)"
   ]
  },
  {
   "cell_type": "code",
   "execution_count": 90,
   "metadata": {},
   "outputs": [],
   "source": [
    "df26.toPandas().to_csv(\"./data/EL/el_stats_players_defending.csv\")"
   ]
  },
  {
   "cell_type": "markdown",
   "metadata": {
    "tags": []
   },
   "source": [
    "### Discip"
   ]
  },
  {
   "cell_type": "code",
   "execution_count": 132,
   "metadata": {},
   "outputs": [],
   "source": [
    "path = \"./data/EL/el_stats_clubs_discip.csv\"\n",
    "df27 = spark.read.option(\"delimiter\",\",\").options(header=True).csv(path)"
   ]
  },
  {
   "cell_type": "code",
   "execution_count": 133,
   "metadata": {},
   "outputs": [
    {
     "name": "stdout",
     "output_type": "stream",
     "text": [
      "+----+-------------+-----------+--------------+--------------+-----------+--------+------------+\n",
      "|Rank|Equipe       |Country    |Fouls_Commited|Fouls_Suffered|Yellow_card|Red_card|Match_Played|\n",
      "+----+-------------+-----------+--------------+--------------+-----------+--------+------------+\n",
      "|01  |Fenerbahçe   |Türkiye    |99            |93            |17         |0       |6           |\n",
      "|02  |Union_Berlin |Germany    |94            |63            |17         |2       |6           |\n",
      "|03  |Dynamo_Kyiv  |Ukraine    |91            |99            |17         |1       |6           |\n",
      "|04  |Crvena_zvezda|Serbia     |86            |78            |17         |1       |6           |\n",
      "|04  |Rennes       |France     |86            |70            |11         |1       |6           |\n",
      "|06  |AEK_Larnaca  |Cyprus     |84            |87            |19         |1       |6           |\n",
      "|07  |Union_SG     |Belgium    |83            |74            |13         |0       |6           |\n",
      "|08  |Real_Sociedad|Spain      |80            |49            |10         |0       |6           |\n",
      "|09  |Ludogorets   |Bulgaria   |78            |70            |17         |1       |6           |\n",
      "|09  |Sturm        |Austria    |78            |57            |26         |2       |6           |\n",
      "|11  |Betis        |Spain      |76            |55            |19         |0       |6           |\n",
      "|11  |Monaco       |France     |76            |51            |10         |0       |6           |\n",
      "|13  |Feyenoord    |Netherlands|74            |55            |13         |0       |6           |\n",
      "|14  |Qarabağ      |Azerbaijan |73            |59            |15         |1       |6           |\n",
      "|15  |Braga        |Portugal   |70            |85            |15         |0       |6           |\n",
      "+----+-------------+-----------+--------------+--------------+-----------+--------+------------+\n",
      "\n"
     ]
    }
   ],
   "source": [
    "df27 = df27.drop(col(\"_c0\"))\n",
    "df27 = df27.withColumn('Rank', split(df27['team'], ' ').getItem(0)) \\\n",
    "       .withColumn('Equipe', split(df27['team'], ' ').getItem(1)) \\\n",
    "       .withColumn('Country', split(df27['team'], ' ').getItem(2)) \\\n",
    "       .withColumn('Fouls_Commited', split(df27['team'], ' ').getItem(3)) \\\n",
    "       .withColumn('Fouls_Suffered', split(df27['team'], ' ').getItem(4)) \\\n",
    "       .withColumn('Yellow_card', split(df27['team'], ' ').getItem(5)) \\\n",
    "       .withColumn('Red_card', split(df27['team'], ' ').getItem(6)) \\\n",
    "       .withColumn('Match_Played', split(df27['team'], ' ').getItem(7)) \n",
    "\n",
    "\n",
    "df27 = df27.drop(col(\"team\"))\n",
    "df27 = df27.na.drop()\n",
    "df27.show(truncate=False)"
   ]
  },
  {
   "cell_type": "code",
   "execution_count": 134,
   "metadata": {},
   "outputs": [],
   "source": [
    "df27.toPandas().to_csv(\"./data/EL/el_stats_clubs_discip.csv\")"
   ]
  },
  {
   "cell_type": "markdown",
   "metadata": {
    "tags": []
   },
   "source": [
    "### Players Discip"
   ]
  },
  {
   "cell_type": "code",
   "execution_count": 135,
   "metadata": {},
   "outputs": [],
   "source": [
    "path = \"./data/EL/el_stats_players_discip.csv\"\n",
    "df28 = spark.read.option(\"delimiter\",\",\").options(header=True).csv(path)"
   ]
  },
  {
   "cell_type": "code",
   "execution_count": 136,
   "metadata": {},
   "outputs": [
    {
     "name": "stdout",
     "output_type": "stream",
     "text": [
      "+----+---------------+-------------+----------+--------------+--------------+-----------+--------+--------------+------------+\n",
      "|Rank|Nom            |Equipe       |Poste     |Fouls_Commited|Fouls_Suffered|Yellow_card|Red_card|Minutes_played|Match_played|\n",
      "+----+---------------+-------------+----------+--------------+--------------+-----------+--------+--------------+------------+\n",
      "|01  |Cicinho        |Ludogorets   |Defender  |16            |11            |3          |0       |447           |5           |\n",
      "|02  |Sydorchuk      |Dynamo_Kyiv  |Midfielder|14            |11            |2          |0       |540           |6           |\n",
      "|02  |Tekpetey       |Ludogorets   |Forward   |14            |11            |1          |0       |467           |6           |\n",
      "|04  |Miguel_Crespo  |Fenerbahçe   |Midfielder|12            |13            |0          |0       |367           |5           |\n",
      "|04  |Akouokou       |Betis        |Midfielder|12            |6             |2          |0       |358           |5           |\n",
      "|04  |Fabiano        |Braga        |Defender  |12            |4             |3          |0       |395           |5           |\n",
      "|07  |Pešić          |Crvena_zvezda|Forward   |11            |10            |2          |0       |466           |6           |\n",
      "|07  |Cristante      |Roma         |Midfielder|11            |6             |1          |0       |438           |6           |\n",
      "|07  |Vetlesen       |Bodø/Glimt   |Midfielder|11            |5             |3          |0       |508           |6           |\n",
      "|07  |Assignon       |Rennes       |Defender  |11            |5             |0          |0       |297           |5           |\n",
      "|07  |Vešović        |Qarabağ      |Defender  |11            |4             |2          |0       |534           |6           |\n",
      "|07  |Fofana         |Monaco       |Midfielder|11            |3             |1          |0       |500           |6           |\n",
      "|07  |Orkun_Kökçü    |Feyenoord    |Midfielder|11            |2             |1          |0       |500           |6           |\n",
      "|07  |Richard_Almeida|Qarabağ      |Midfielder|11            |2             |1          |0       |305           |6           |\n",
      "|15  |Martínez       |Midtjylland  |Midfielder|10            |10            |2          |0       |432           |6           |\n",
      "+----+---------------+-------------+----------+--------------+--------------+-----------+--------+--------------+------------+\n",
      "\n"
     ]
    }
   ],
   "source": [
    "df28 = df28.drop(col(\"_c0\"))\n",
    "df28 = df28.withColumn('Rank', split(df28['team'], ' ').getItem(0)) \\\n",
    "        .withColumn('Nom', split(df28['team'], ' ').getItem(1)) \\\n",
    "        .withColumn('Equipe', split(df28['team'], ' ').getItem(2)) \\\n",
    "        .withColumn('Tiret', split(df28['team'], ' ').getItem(3)) \\\n",
    "        .withColumn('Poste', split(df28['team'], ' ').getItem(4)) \\\n",
    "        .withColumn('Fouls_Commited', split(df28['team'], ' ').getItem(5)) \\\n",
    "        .withColumn('Fouls_Suffered', split(df28['team'], ' ').getItem(6)) \\\n",
    "        .withColumn('Yellow_card', split(df28['team'], ' ').getItem(7)) \\\n",
    "        .withColumn('Red_card', split(df28['team'], ' ').getItem(8)) \\\n",
    "        .withColumn('Minutes_played', split(df28['team'], ' ').getItem(9)) \\\n",
    "        .withColumn('Match_played', split(df28['team'], ' ').getItem(10))\n",
    "\n",
    "df28 = df28.drop(col(\"team\"))\n",
    "df28 = df28.na.drop()\n",
    "df28 = df28.drop(col(\"Tiret\"))\n",
    "df28.show(truncate=False)"
   ]
  },
  {
   "cell_type": "code",
   "execution_count": 137,
   "metadata": {},
   "outputs": [],
   "source": [
    "df28.toPandas().to_csv(\"./data/EL/el_stats_players_discip.csv\")"
   ]
  },
  {
   "cell_type": "markdown",
   "metadata": {
    "tags": []
   },
   "source": [
    "### Distrib"
   ]
  },
  {
   "cell_type": "code",
   "execution_count": 119,
   "metadata": {},
   "outputs": [],
   "source": [
    "path = \"./data/EL/el_stats_clubs_distribution.csv\"\n",
    "df29 = spark.read.option(\"delimiter\",\",\").options(header=True).csv(path)"
   ]
  },
  {
   "cell_type": "code",
   "execution_count": 120,
   "metadata": {},
   "outputs": [
    {
     "ename": "AnalysisException",
     "evalue": "Cannot resolve column name \"team\" among (Rank, Equipe, Country, Pass_accuracy, Pass_attempted, Pass_completed, Cross_accuracy, Cross_attempted, Cross_completed, Freekick, Match_Played, Possesion)",
     "output_type": "error",
     "traceback": [
      "\u001b[0;31m---------------------------------------------------------------------------\u001b[0m",
      "\u001b[0;31mAnalysisException\u001b[0m                         Traceback (most recent call last)",
      "Cell \u001b[0;32mIn [120], line 2\u001b[0m\n\u001b[1;32m      1\u001b[0m df29 \u001b[38;5;241m=\u001b[39m df29\u001b[38;5;241m.\u001b[39mdrop(col(\u001b[38;5;124m\"\u001b[39m\u001b[38;5;124m_c0\u001b[39m\u001b[38;5;124m\"\u001b[39m))\n\u001b[0;32m----> 2\u001b[0m df29 \u001b[38;5;241m=\u001b[39m df29\u001b[38;5;241m.\u001b[39mwithColumn(\u001b[38;5;124m'\u001b[39m\u001b[38;5;124mRank\u001b[39m\u001b[38;5;124m'\u001b[39m, split(\u001b[43mdf29\u001b[49m\u001b[43m[\u001b[49m\u001b[38;5;124;43m'\u001b[39;49m\u001b[38;5;124;43mteam\u001b[39;49m\u001b[38;5;124;43m'\u001b[39;49m\u001b[43m]\u001b[49m, \u001b[38;5;124m'\u001b[39m\u001b[38;5;124m \u001b[39m\u001b[38;5;124m'\u001b[39m)\u001b[38;5;241m.\u001b[39mgetItem(\u001b[38;5;241m0\u001b[39m)) \\\n\u001b[1;32m      3\u001b[0m        \u001b[38;5;241m.\u001b[39mwithColumn(\u001b[38;5;124m'\u001b[39m\u001b[38;5;124mEquipe\u001b[39m\u001b[38;5;124m'\u001b[39m, split(df29[\u001b[38;5;124m'\u001b[39m\u001b[38;5;124mteam\u001b[39m\u001b[38;5;124m'\u001b[39m], \u001b[38;5;124m'\u001b[39m\u001b[38;5;124m \u001b[39m\u001b[38;5;124m'\u001b[39m)\u001b[38;5;241m.\u001b[39mgetItem(\u001b[38;5;241m1\u001b[39m)) \\\n\u001b[1;32m      4\u001b[0m        \u001b[38;5;241m.\u001b[39mwithColumn(\u001b[38;5;124m'\u001b[39m\u001b[38;5;124mCountry\u001b[39m\u001b[38;5;124m'\u001b[39m, split(df29[\u001b[38;5;124m'\u001b[39m\u001b[38;5;124mteam\u001b[39m\u001b[38;5;124m'\u001b[39m], \u001b[38;5;124m'\u001b[39m\u001b[38;5;124m \u001b[39m\u001b[38;5;124m'\u001b[39m)\u001b[38;5;241m.\u001b[39mgetItem(\u001b[38;5;241m2\u001b[39m)) \\\n\u001b[1;32m      5\u001b[0m        \u001b[38;5;241m.\u001b[39mwithColumn(\u001b[38;5;124m'\u001b[39m\u001b[38;5;124mPass_accuracy\u001b[39m\u001b[38;5;124m'\u001b[39m, split(df29[\u001b[38;5;124m'\u001b[39m\u001b[38;5;124mteam\u001b[39m\u001b[38;5;124m'\u001b[39m], \u001b[38;5;124m'\u001b[39m\u001b[38;5;124m \u001b[39m\u001b[38;5;124m'\u001b[39m)\u001b[38;5;241m.\u001b[39mgetItem(\u001b[38;5;241m3\u001b[39m)) \\\n\u001b[1;32m      6\u001b[0m        \u001b[38;5;241m.\u001b[39mwithColumn(\u001b[38;5;124m'\u001b[39m\u001b[38;5;124mPass_attempted\u001b[39m\u001b[38;5;124m'\u001b[39m, split(df29[\u001b[38;5;124m'\u001b[39m\u001b[38;5;124mteam\u001b[39m\u001b[38;5;124m'\u001b[39m], \u001b[38;5;124m'\u001b[39m\u001b[38;5;124m \u001b[39m\u001b[38;5;124m'\u001b[39m)\u001b[38;5;241m.\u001b[39mgetItem(\u001b[38;5;241m4\u001b[39m)) \\\n\u001b[1;32m      7\u001b[0m        \u001b[38;5;241m.\u001b[39mwithColumn(\u001b[38;5;124m'\u001b[39m\u001b[38;5;124mPass_completed\u001b[39m\u001b[38;5;124m'\u001b[39m, split(df29[\u001b[38;5;124m'\u001b[39m\u001b[38;5;124mteam\u001b[39m\u001b[38;5;124m'\u001b[39m], \u001b[38;5;124m'\u001b[39m\u001b[38;5;124m \u001b[39m\u001b[38;5;124m'\u001b[39m)\u001b[38;5;241m.\u001b[39mgetItem(\u001b[38;5;241m5\u001b[39m)) \\\n\u001b[1;32m      8\u001b[0m        \u001b[38;5;241m.\u001b[39mwithColumn(\u001b[38;5;124m'\u001b[39m\u001b[38;5;124mCross_accuracy\u001b[39m\u001b[38;5;124m'\u001b[39m, split(df29[\u001b[38;5;124m'\u001b[39m\u001b[38;5;124mteam\u001b[39m\u001b[38;5;124m'\u001b[39m], \u001b[38;5;124m'\u001b[39m\u001b[38;5;124m \u001b[39m\u001b[38;5;124m'\u001b[39m)\u001b[38;5;241m.\u001b[39mgetItem(\u001b[38;5;241m7\u001b[39m)) \\\n\u001b[1;32m      9\u001b[0m        \u001b[38;5;241m.\u001b[39mwithColumn(\u001b[38;5;124m'\u001b[39m\u001b[38;5;124mCross_attempted\u001b[39m\u001b[38;5;124m'\u001b[39m, split(df29[\u001b[38;5;124m'\u001b[39m\u001b[38;5;124mteam\u001b[39m\u001b[38;5;124m'\u001b[39m], \u001b[38;5;124m'\u001b[39m\u001b[38;5;124m \u001b[39m\u001b[38;5;124m'\u001b[39m)\u001b[38;5;241m.\u001b[39mgetItem(\u001b[38;5;241m8\u001b[39m)) \\\n\u001b[1;32m     10\u001b[0m        \u001b[38;5;241m.\u001b[39mwithColumn(\u001b[38;5;124m'\u001b[39m\u001b[38;5;124mCross_completed\u001b[39m\u001b[38;5;124m'\u001b[39m, split(df29[\u001b[38;5;124m'\u001b[39m\u001b[38;5;124mteam\u001b[39m\u001b[38;5;124m'\u001b[39m], \u001b[38;5;124m'\u001b[39m\u001b[38;5;124m \u001b[39m\u001b[38;5;124m'\u001b[39m)\u001b[38;5;241m.\u001b[39mgetItem(\u001b[38;5;241m9\u001b[39m)) \\\n\u001b[1;32m     11\u001b[0m        \u001b[38;5;241m.\u001b[39mwithColumn(\u001b[38;5;124m'\u001b[39m\u001b[38;5;124mFreekick\u001b[39m\u001b[38;5;124m'\u001b[39m, split(df29[\u001b[38;5;124m'\u001b[39m\u001b[38;5;124mteam\u001b[39m\u001b[38;5;124m'\u001b[39m], \u001b[38;5;124m'\u001b[39m\u001b[38;5;124m \u001b[39m\u001b[38;5;124m'\u001b[39m)\u001b[38;5;241m.\u001b[39mgetItem(\u001b[38;5;241m10\u001b[39m)) \\\n\u001b[1;32m     12\u001b[0m        \u001b[38;5;241m.\u001b[39mwithColumn(\u001b[38;5;124m'\u001b[39m\u001b[38;5;124mMatch_Played\u001b[39m\u001b[38;5;124m'\u001b[39m, split(df29[\u001b[38;5;124m'\u001b[39m\u001b[38;5;124mteam\u001b[39m\u001b[38;5;124m'\u001b[39m], \u001b[38;5;124m'\u001b[39m\u001b[38;5;124m \u001b[39m\u001b[38;5;124m'\u001b[39m)\u001b[38;5;241m.\u001b[39mgetItem(\u001b[38;5;241m11\u001b[39m)) \\\n\u001b[1;32m     13\u001b[0m        \u001b[38;5;241m.\u001b[39mwithColumn(\u001b[38;5;124m'\u001b[39m\u001b[38;5;124mPossesion\u001b[39m\u001b[38;5;124m'\u001b[39m, split(df29[\u001b[38;5;124m'\u001b[39m\u001b[38;5;124mteam\u001b[39m\u001b[38;5;124m'\u001b[39m], \u001b[38;5;124m'\u001b[39m\u001b[38;5;124m \u001b[39m\u001b[38;5;124m'\u001b[39m)\u001b[38;5;241m.\u001b[39mgetItem(\u001b[38;5;241m6\u001b[39m)) \n\u001b[1;32m     16\u001b[0m df29 \u001b[38;5;241m=\u001b[39m df29\u001b[38;5;241m.\u001b[39mdrop(col(\u001b[38;5;124m\"\u001b[39m\u001b[38;5;124mteam\u001b[39m\u001b[38;5;124m\"\u001b[39m))\n\u001b[1;32m     17\u001b[0m df29 \u001b[38;5;241m=\u001b[39m df29\u001b[38;5;241m.\u001b[39mna\u001b[38;5;241m.\u001b[39mdrop()\n",
      "File \u001b[0;32m/usr/local/spark/python/pyspark/sql/dataframe.py:1965\u001b[0m, in \u001b[0;36mDataFrame.__getitem__\u001b[0;34m(self, item)\u001b[0m\n\u001b[1;32m   1949\u001b[0m \u001b[38;5;124;03m\"\"\"Returns the column as a :class:`Column`.\u001b[39;00m\n\u001b[1;32m   1950\u001b[0m \n\u001b[1;32m   1951\u001b[0m \u001b[38;5;124;03m.. versionadded:: 1.3.0\u001b[39;00m\n\u001b[0;32m   (...)\u001b[0m\n\u001b[1;32m   1962\u001b[0m \u001b[38;5;124;03m[Row(age=5, name='Bob')]\u001b[39;00m\n\u001b[1;32m   1963\u001b[0m \u001b[38;5;124;03m\"\"\"\u001b[39;00m\n\u001b[1;32m   1964\u001b[0m \u001b[38;5;28;01mif\u001b[39;00m \u001b[38;5;28misinstance\u001b[39m(item, \u001b[38;5;28mstr\u001b[39m):\n\u001b[0;32m-> 1965\u001b[0m     jc \u001b[38;5;241m=\u001b[39m \u001b[38;5;28;43mself\u001b[39;49m\u001b[38;5;241;43m.\u001b[39;49m\u001b[43m_jdf\u001b[49m\u001b[38;5;241;43m.\u001b[39;49m\u001b[43mapply\u001b[49m\u001b[43m(\u001b[49m\u001b[43mitem\u001b[49m\u001b[43m)\u001b[49m\n\u001b[1;32m   1966\u001b[0m     \u001b[38;5;28;01mreturn\u001b[39;00m Column(jc)\n\u001b[1;32m   1967\u001b[0m \u001b[38;5;28;01melif\u001b[39;00m \u001b[38;5;28misinstance\u001b[39m(item, Column):\n",
      "File \u001b[0;32m/usr/local/spark/python/lib/py4j-0.10.9.5-src.zip/py4j/java_gateway.py:1321\u001b[0m, in \u001b[0;36mJavaMember.__call__\u001b[0;34m(self, *args)\u001b[0m\n\u001b[1;32m   1315\u001b[0m command \u001b[38;5;241m=\u001b[39m proto\u001b[38;5;241m.\u001b[39mCALL_COMMAND_NAME \u001b[38;5;241m+\u001b[39m\\\n\u001b[1;32m   1316\u001b[0m     \u001b[38;5;28mself\u001b[39m\u001b[38;5;241m.\u001b[39mcommand_header \u001b[38;5;241m+\u001b[39m\\\n\u001b[1;32m   1317\u001b[0m     args_command \u001b[38;5;241m+\u001b[39m\\\n\u001b[1;32m   1318\u001b[0m     proto\u001b[38;5;241m.\u001b[39mEND_COMMAND_PART\n\u001b[1;32m   1320\u001b[0m answer \u001b[38;5;241m=\u001b[39m \u001b[38;5;28mself\u001b[39m\u001b[38;5;241m.\u001b[39mgateway_client\u001b[38;5;241m.\u001b[39msend_command(command)\n\u001b[0;32m-> 1321\u001b[0m return_value \u001b[38;5;241m=\u001b[39m \u001b[43mget_return_value\u001b[49m\u001b[43m(\u001b[49m\n\u001b[1;32m   1322\u001b[0m \u001b[43m    \u001b[49m\u001b[43manswer\u001b[49m\u001b[43m,\u001b[49m\u001b[43m \u001b[49m\u001b[38;5;28;43mself\u001b[39;49m\u001b[38;5;241;43m.\u001b[39;49m\u001b[43mgateway_client\u001b[49m\u001b[43m,\u001b[49m\u001b[43m \u001b[49m\u001b[38;5;28;43mself\u001b[39;49m\u001b[38;5;241;43m.\u001b[39;49m\u001b[43mtarget_id\u001b[49m\u001b[43m,\u001b[49m\u001b[43m \u001b[49m\u001b[38;5;28;43mself\u001b[39;49m\u001b[38;5;241;43m.\u001b[39;49m\u001b[43mname\u001b[49m\u001b[43m)\u001b[49m\n\u001b[1;32m   1324\u001b[0m \u001b[38;5;28;01mfor\u001b[39;00m temp_arg \u001b[38;5;129;01min\u001b[39;00m temp_args:\n\u001b[1;32m   1325\u001b[0m     temp_arg\u001b[38;5;241m.\u001b[39m_detach()\n",
      "File \u001b[0;32m/usr/local/spark/python/pyspark/sql/utils.py:196\u001b[0m, in \u001b[0;36mcapture_sql_exception.<locals>.deco\u001b[0;34m(*a, **kw)\u001b[0m\n\u001b[1;32m    192\u001b[0m converted \u001b[38;5;241m=\u001b[39m convert_exception(e\u001b[38;5;241m.\u001b[39mjava_exception)\n\u001b[1;32m    193\u001b[0m \u001b[38;5;28;01mif\u001b[39;00m \u001b[38;5;129;01mnot\u001b[39;00m \u001b[38;5;28misinstance\u001b[39m(converted, UnknownException):\n\u001b[1;32m    194\u001b[0m     \u001b[38;5;66;03m# Hide where the exception came from that shows a non-Pythonic\u001b[39;00m\n\u001b[1;32m    195\u001b[0m     \u001b[38;5;66;03m# JVM exception message.\u001b[39;00m\n\u001b[0;32m--> 196\u001b[0m     \u001b[38;5;28;01mraise\u001b[39;00m converted \u001b[38;5;28;01mfrom\u001b[39;00m \u001b[38;5;28mNone\u001b[39m\n\u001b[1;32m    197\u001b[0m \u001b[38;5;28;01melse\u001b[39;00m:\n\u001b[1;32m    198\u001b[0m     \u001b[38;5;28;01mraise\u001b[39;00m\n",
      "\u001b[0;31mAnalysisException\u001b[0m: Cannot resolve column name \"team\" among (Rank, Equipe, Country, Pass_accuracy, Pass_attempted, Pass_completed, Cross_accuracy, Cross_attempted, Cross_completed, Freekick, Match_Played, Possesion)"
     ]
    }
   ],
   "source": [
    "df29 = df29.drop(col(\"_c0\"))\n",
    "df29 = df29.withColumn('Rank', split(df29['team'], ' ').getItem(0)) \\\n",
    "       .withColumn('Equipe', split(df29['team'], ' ').getItem(1)) \\\n",
    "       .withColumn('Country', split(df29['team'], ' ').getItem(2)) \\\n",
    "       .withColumn('Pass_accuracy', split(df29['team'], ' ').getItem(3)) \\\n",
    "       .withColumn('Pass_attempted', split(df29['team'], ' ').getItem(4)) \\\n",
    "       .withColumn('Pass_completed', split(df29['team'], ' ').getItem(5)) \\\n",
    "       .withColumn('Cross_accuracy', split(df29['team'], ' ').getItem(7)) \\\n",
    "       .withColumn('Cross_attempted', split(df29['team'], ' ').getItem(8)) \\\n",
    "       .withColumn('Cross_completed', split(df29['team'], ' ').getItem(9)) \\\n",
    "       .withColumn('Freekick', split(df29['team'], ' ').getItem(10)) \\\n",
    "       .withColumn('Match_Played', split(df29['team'], ' ').getItem(11)) \\\n",
    "       .withColumn('Possesion', split(df29['team'], ' ').getItem(6)) \n",
    "\n",
    "\n",
    "df29 = df29.drop(col(\"team\"))\n",
    "df29 = df29.na.drop()\n",
    "df29.show(truncate=False)"
   ]
  },
  {
   "cell_type": "code",
   "execution_count": 116,
   "metadata": {},
   "outputs": [],
   "source": [
    "df29.toPandas().to_csv(\"./data/EL/el_stats_clubs_distribution.csv\")"
   ]
  },
  {
   "cell_type": "markdown",
   "metadata": {
    "tags": []
   },
   "source": [
    "### Players Distrib"
   ]
  },
  {
   "cell_type": "code",
   "execution_count": 117,
   "metadata": {},
   "outputs": [],
   "source": [
    "path = \"./data/EL/el_stats_players_distribution.csv\"\n",
    "df30 = spark.read.option(\"delimiter\",\",\").options(header=True).csv(path)"
   ]
  },
  {
   "cell_type": "code",
   "execution_count": 118,
   "metadata": {},
   "outputs": [
    {
     "ename": "AnalysisException",
     "evalue": "Cannot resolve column name \"team\" among (Rank, Nom, Equipe, Poste, Pass_accuracy, Pass_attempted, Pass_completed, Cross_accuracy, Cross_attempted, Cross_completed, Freekick, Match_played)",
     "output_type": "error",
     "traceback": [
      "\u001b[0;31m---------------------------------------------------------------------------\u001b[0m",
      "\u001b[0;31mAnalysisException\u001b[0m                         Traceback (most recent call last)",
      "Cell \u001b[0;32mIn [118], line 2\u001b[0m\n\u001b[1;32m      1\u001b[0m df30 \u001b[38;5;241m=\u001b[39m df30\u001b[38;5;241m.\u001b[39mdrop(col(\u001b[38;5;124m\"\u001b[39m\u001b[38;5;124m_c0\u001b[39m\u001b[38;5;124m\"\u001b[39m))\n\u001b[0;32m----> 2\u001b[0m df30 \u001b[38;5;241m=\u001b[39m df30\u001b[38;5;241m.\u001b[39mwithColumn(\u001b[38;5;124m'\u001b[39m\u001b[38;5;124mRank\u001b[39m\u001b[38;5;124m'\u001b[39m, split(\u001b[43mdf30\u001b[49m\u001b[43m[\u001b[49m\u001b[38;5;124;43m'\u001b[39;49m\u001b[38;5;124;43mteam\u001b[39;49m\u001b[38;5;124;43m'\u001b[39;49m\u001b[43m]\u001b[49m, \u001b[38;5;124m'\u001b[39m\u001b[38;5;124m \u001b[39m\u001b[38;5;124m'\u001b[39m)\u001b[38;5;241m.\u001b[39mgetItem(\u001b[38;5;241m0\u001b[39m)) \\\n\u001b[1;32m      3\u001b[0m         \u001b[38;5;241m.\u001b[39mwithColumn(\u001b[38;5;124m'\u001b[39m\u001b[38;5;124mNom\u001b[39m\u001b[38;5;124m'\u001b[39m, split(df30[\u001b[38;5;124m'\u001b[39m\u001b[38;5;124mteam\u001b[39m\u001b[38;5;124m'\u001b[39m], \u001b[38;5;124m'\u001b[39m\u001b[38;5;124m \u001b[39m\u001b[38;5;124m'\u001b[39m)\u001b[38;5;241m.\u001b[39mgetItem(\u001b[38;5;241m1\u001b[39m)) \\\n\u001b[1;32m      4\u001b[0m        \u001b[38;5;241m.\u001b[39mwithColumn(\u001b[38;5;124m'\u001b[39m\u001b[38;5;124mEquipe\u001b[39m\u001b[38;5;124m'\u001b[39m, split(df30[\u001b[38;5;124m'\u001b[39m\u001b[38;5;124mteam\u001b[39m\u001b[38;5;124m'\u001b[39m], \u001b[38;5;124m'\u001b[39m\u001b[38;5;124m \u001b[39m\u001b[38;5;124m'\u001b[39m)\u001b[38;5;241m.\u001b[39mgetItem(\u001b[38;5;241m2\u001b[39m)) \\\n\u001b[1;32m      5\u001b[0m        \u001b[38;5;241m.\u001b[39mwithColumn(\u001b[38;5;124m'\u001b[39m\u001b[38;5;124mTiret\u001b[39m\u001b[38;5;124m'\u001b[39m, split(df30[\u001b[38;5;124m'\u001b[39m\u001b[38;5;124mteam\u001b[39m\u001b[38;5;124m'\u001b[39m], \u001b[38;5;124m'\u001b[39m\u001b[38;5;124m \u001b[39m\u001b[38;5;124m'\u001b[39m)\u001b[38;5;241m.\u001b[39mgetItem(\u001b[38;5;241m3\u001b[39m)) \\\n\u001b[1;32m      6\u001b[0m        \u001b[38;5;241m.\u001b[39mwithColumn(\u001b[38;5;124m'\u001b[39m\u001b[38;5;124mPoste\u001b[39m\u001b[38;5;124m'\u001b[39m, split(df30[\u001b[38;5;124m'\u001b[39m\u001b[38;5;124mteam\u001b[39m\u001b[38;5;124m'\u001b[39m], \u001b[38;5;124m'\u001b[39m\u001b[38;5;124m \u001b[39m\u001b[38;5;124m'\u001b[39m)\u001b[38;5;241m.\u001b[39mgetItem(\u001b[38;5;241m4\u001b[39m)) \\\n\u001b[1;32m      7\u001b[0m        \u001b[38;5;241m.\u001b[39mwithColumn(\u001b[38;5;124m'\u001b[39m\u001b[38;5;124mPass_accuracy\u001b[39m\u001b[38;5;124m'\u001b[39m, split(df30[\u001b[38;5;124m'\u001b[39m\u001b[38;5;124mteam\u001b[39m\u001b[38;5;124m'\u001b[39m], \u001b[38;5;124m'\u001b[39m\u001b[38;5;124m \u001b[39m\u001b[38;5;124m'\u001b[39m)\u001b[38;5;241m.\u001b[39mgetItem(\u001b[38;5;241m5\u001b[39m)) \\\n\u001b[1;32m      8\u001b[0m        \u001b[38;5;241m.\u001b[39mwithColumn(\u001b[38;5;124m'\u001b[39m\u001b[38;5;124mPass_attempted\u001b[39m\u001b[38;5;124m'\u001b[39m, split(df30[\u001b[38;5;124m'\u001b[39m\u001b[38;5;124mteam\u001b[39m\u001b[38;5;124m'\u001b[39m], \u001b[38;5;124m'\u001b[39m\u001b[38;5;124m \u001b[39m\u001b[38;5;124m'\u001b[39m)\u001b[38;5;241m.\u001b[39mgetItem(\u001b[38;5;241m6\u001b[39m)) \\\n\u001b[1;32m      9\u001b[0m        \u001b[38;5;241m.\u001b[39mwithColumn(\u001b[38;5;124m'\u001b[39m\u001b[38;5;124mPass_completed\u001b[39m\u001b[38;5;124m'\u001b[39m, split(df30[\u001b[38;5;124m'\u001b[39m\u001b[38;5;124mteam\u001b[39m\u001b[38;5;124m'\u001b[39m], \u001b[38;5;124m'\u001b[39m\u001b[38;5;124m \u001b[39m\u001b[38;5;124m'\u001b[39m)\u001b[38;5;241m.\u001b[39mgetItem(\u001b[38;5;241m7\u001b[39m)) \\\n\u001b[1;32m     10\u001b[0m        \u001b[38;5;241m.\u001b[39mwithColumn(\u001b[38;5;124m'\u001b[39m\u001b[38;5;124mCross_accuracy\u001b[39m\u001b[38;5;124m'\u001b[39m, split(df30[\u001b[38;5;124m'\u001b[39m\u001b[38;5;124mteam\u001b[39m\u001b[38;5;124m'\u001b[39m], \u001b[38;5;124m'\u001b[39m\u001b[38;5;124m \u001b[39m\u001b[38;5;124m'\u001b[39m)\u001b[38;5;241m.\u001b[39mgetItem(\u001b[38;5;241m8\u001b[39m)) \\\n\u001b[1;32m     11\u001b[0m        \u001b[38;5;241m.\u001b[39mwithColumn(\u001b[38;5;124m'\u001b[39m\u001b[38;5;124mCross_attempted\u001b[39m\u001b[38;5;124m'\u001b[39m, split(df30[\u001b[38;5;124m'\u001b[39m\u001b[38;5;124mteam\u001b[39m\u001b[38;5;124m'\u001b[39m], \u001b[38;5;124m'\u001b[39m\u001b[38;5;124m \u001b[39m\u001b[38;5;124m'\u001b[39m)\u001b[38;5;241m.\u001b[39mgetItem(\u001b[38;5;241m9\u001b[39m)) \\\n\u001b[1;32m     12\u001b[0m        \u001b[38;5;241m.\u001b[39mwithColumn(\u001b[38;5;124m'\u001b[39m\u001b[38;5;124mCross_completed\u001b[39m\u001b[38;5;124m'\u001b[39m, split(df30[\u001b[38;5;124m'\u001b[39m\u001b[38;5;124mteam\u001b[39m\u001b[38;5;124m'\u001b[39m], \u001b[38;5;124m'\u001b[39m\u001b[38;5;124m \u001b[39m\u001b[38;5;124m'\u001b[39m)\u001b[38;5;241m.\u001b[39mgetItem(\u001b[38;5;241m10\u001b[39m)) \\\n\u001b[1;32m     13\u001b[0m        \u001b[38;5;241m.\u001b[39mwithColumn(\u001b[38;5;124m'\u001b[39m\u001b[38;5;124mFreekick\u001b[39m\u001b[38;5;124m'\u001b[39m, split(df30[\u001b[38;5;124m'\u001b[39m\u001b[38;5;124mteam\u001b[39m\u001b[38;5;124m'\u001b[39m], \u001b[38;5;124m'\u001b[39m\u001b[38;5;124m \u001b[39m\u001b[38;5;124m'\u001b[39m)\u001b[38;5;241m.\u001b[39mgetItem(\u001b[38;5;241m11\u001b[39m)) \\\n\u001b[1;32m     14\u001b[0m        \u001b[38;5;241m.\u001b[39mwithColumn(\u001b[38;5;124m'\u001b[39m\u001b[38;5;124mMatch_played\u001b[39m\u001b[38;5;124m'\u001b[39m, split(df30[\u001b[38;5;124m'\u001b[39m\u001b[38;5;124mteam\u001b[39m\u001b[38;5;124m'\u001b[39m], \u001b[38;5;124m'\u001b[39m\u001b[38;5;124m \u001b[39m\u001b[38;5;124m'\u001b[39m)\u001b[38;5;241m.\u001b[39mgetItem(\u001b[38;5;241m12\u001b[39m))\n\u001b[1;32m     16\u001b[0m df30 \u001b[38;5;241m=\u001b[39m df30\u001b[38;5;241m.\u001b[39mdrop(col(\u001b[38;5;124m\"\u001b[39m\u001b[38;5;124mteam\u001b[39m\u001b[38;5;124m\"\u001b[39m))\n\u001b[1;32m     17\u001b[0m df30 \u001b[38;5;241m=\u001b[39m df30\u001b[38;5;241m.\u001b[39mna\u001b[38;5;241m.\u001b[39mdrop()\n",
      "File \u001b[0;32m/usr/local/spark/python/pyspark/sql/dataframe.py:1965\u001b[0m, in \u001b[0;36mDataFrame.__getitem__\u001b[0;34m(self, item)\u001b[0m\n\u001b[1;32m   1949\u001b[0m \u001b[38;5;124;03m\"\"\"Returns the column as a :class:`Column`.\u001b[39;00m\n\u001b[1;32m   1950\u001b[0m \n\u001b[1;32m   1951\u001b[0m \u001b[38;5;124;03m.. versionadded:: 1.3.0\u001b[39;00m\n\u001b[0;32m   (...)\u001b[0m\n\u001b[1;32m   1962\u001b[0m \u001b[38;5;124;03m[Row(age=5, name='Bob')]\u001b[39;00m\n\u001b[1;32m   1963\u001b[0m \u001b[38;5;124;03m\"\"\"\u001b[39;00m\n\u001b[1;32m   1964\u001b[0m \u001b[38;5;28;01mif\u001b[39;00m \u001b[38;5;28misinstance\u001b[39m(item, \u001b[38;5;28mstr\u001b[39m):\n\u001b[0;32m-> 1965\u001b[0m     jc \u001b[38;5;241m=\u001b[39m \u001b[38;5;28;43mself\u001b[39;49m\u001b[38;5;241;43m.\u001b[39;49m\u001b[43m_jdf\u001b[49m\u001b[38;5;241;43m.\u001b[39;49m\u001b[43mapply\u001b[49m\u001b[43m(\u001b[49m\u001b[43mitem\u001b[49m\u001b[43m)\u001b[49m\n\u001b[1;32m   1966\u001b[0m     \u001b[38;5;28;01mreturn\u001b[39;00m Column(jc)\n\u001b[1;32m   1967\u001b[0m \u001b[38;5;28;01melif\u001b[39;00m \u001b[38;5;28misinstance\u001b[39m(item, Column):\n",
      "File \u001b[0;32m/usr/local/spark/python/lib/py4j-0.10.9.5-src.zip/py4j/java_gateway.py:1321\u001b[0m, in \u001b[0;36mJavaMember.__call__\u001b[0;34m(self, *args)\u001b[0m\n\u001b[1;32m   1315\u001b[0m command \u001b[38;5;241m=\u001b[39m proto\u001b[38;5;241m.\u001b[39mCALL_COMMAND_NAME \u001b[38;5;241m+\u001b[39m\\\n\u001b[1;32m   1316\u001b[0m     \u001b[38;5;28mself\u001b[39m\u001b[38;5;241m.\u001b[39mcommand_header \u001b[38;5;241m+\u001b[39m\\\n\u001b[1;32m   1317\u001b[0m     args_command \u001b[38;5;241m+\u001b[39m\\\n\u001b[1;32m   1318\u001b[0m     proto\u001b[38;5;241m.\u001b[39mEND_COMMAND_PART\n\u001b[1;32m   1320\u001b[0m answer \u001b[38;5;241m=\u001b[39m \u001b[38;5;28mself\u001b[39m\u001b[38;5;241m.\u001b[39mgateway_client\u001b[38;5;241m.\u001b[39msend_command(command)\n\u001b[0;32m-> 1321\u001b[0m return_value \u001b[38;5;241m=\u001b[39m \u001b[43mget_return_value\u001b[49m\u001b[43m(\u001b[49m\n\u001b[1;32m   1322\u001b[0m \u001b[43m    \u001b[49m\u001b[43manswer\u001b[49m\u001b[43m,\u001b[49m\u001b[43m \u001b[49m\u001b[38;5;28;43mself\u001b[39;49m\u001b[38;5;241;43m.\u001b[39;49m\u001b[43mgateway_client\u001b[49m\u001b[43m,\u001b[49m\u001b[43m \u001b[49m\u001b[38;5;28;43mself\u001b[39;49m\u001b[38;5;241;43m.\u001b[39;49m\u001b[43mtarget_id\u001b[49m\u001b[43m,\u001b[49m\u001b[43m \u001b[49m\u001b[38;5;28;43mself\u001b[39;49m\u001b[38;5;241;43m.\u001b[39;49m\u001b[43mname\u001b[49m\u001b[43m)\u001b[49m\n\u001b[1;32m   1324\u001b[0m \u001b[38;5;28;01mfor\u001b[39;00m temp_arg \u001b[38;5;129;01min\u001b[39;00m temp_args:\n\u001b[1;32m   1325\u001b[0m     temp_arg\u001b[38;5;241m.\u001b[39m_detach()\n",
      "File \u001b[0;32m/usr/local/spark/python/pyspark/sql/utils.py:196\u001b[0m, in \u001b[0;36mcapture_sql_exception.<locals>.deco\u001b[0;34m(*a, **kw)\u001b[0m\n\u001b[1;32m    192\u001b[0m converted \u001b[38;5;241m=\u001b[39m convert_exception(e\u001b[38;5;241m.\u001b[39mjava_exception)\n\u001b[1;32m    193\u001b[0m \u001b[38;5;28;01mif\u001b[39;00m \u001b[38;5;129;01mnot\u001b[39;00m \u001b[38;5;28misinstance\u001b[39m(converted, UnknownException):\n\u001b[1;32m    194\u001b[0m     \u001b[38;5;66;03m# Hide where the exception came from that shows a non-Pythonic\u001b[39;00m\n\u001b[1;32m    195\u001b[0m     \u001b[38;5;66;03m# JVM exception message.\u001b[39;00m\n\u001b[0;32m--> 196\u001b[0m     \u001b[38;5;28;01mraise\u001b[39;00m converted \u001b[38;5;28;01mfrom\u001b[39;00m \u001b[38;5;28mNone\u001b[39m\n\u001b[1;32m    197\u001b[0m \u001b[38;5;28;01melse\u001b[39;00m:\n\u001b[1;32m    198\u001b[0m     \u001b[38;5;28;01mraise\u001b[39;00m\n",
      "\u001b[0;31mAnalysisException\u001b[0m: Cannot resolve column name \"team\" among (Rank, Nom, Equipe, Poste, Pass_accuracy, Pass_attempted, Pass_completed, Cross_accuracy, Cross_attempted, Cross_completed, Freekick, Match_played)"
     ]
    }
   ],
   "source": [
    "df30 = df30.drop(col(\"_c0\"))\n",
    "df30 = df30.withColumn('Rank', split(df30['team'], ' ').getItem(0)) \\\n",
    "        .withColumn('Nom', split(df30['team'], ' ').getItem(1)) \\\n",
    "       .withColumn('Equipe', split(df30['team'], ' ').getItem(2)) \\\n",
    "       .withColumn('Tiret', split(df30['team'], ' ').getItem(3)) \\\n",
    "       .withColumn('Poste', split(df30['team'], ' ').getItem(4)) \\\n",
    "       .withColumn('Pass_accuracy', split(df30['team'], ' ').getItem(5)) \\\n",
    "       .withColumn('Pass_attempted', split(df30['team'], ' ').getItem(6)) \\\n",
    "       .withColumn('Pass_completed', split(df30['team'], ' ').getItem(7)) \\\n",
    "       .withColumn('Cross_accuracy', split(df30['team'], ' ').getItem(8)) \\\n",
    "       .withColumn('Cross_attempted', split(df30['team'], ' ').getItem(9)) \\\n",
    "       .withColumn('Cross_completed', split(df30['team'], ' ').getItem(10)) \\\n",
    "       .withColumn('Freekick', split(df30['team'], ' ').getItem(11)) \\\n",
    "       .withColumn('Match_played', split(df30['team'], ' ').getItem(12))\n",
    "\n",
    "df30 = df30.drop(col(\"team\"))\n",
    "df30 = df30.na.drop()\n",
    "df30 = df30.drop(col(\"Tiret\"))\n",
    "df30.show(truncate=False)"
   ]
  },
  {
   "cell_type": "code",
   "execution_count": 113,
   "metadata": {},
   "outputs": [],
   "source": [
    "df30.toPandas().to_csv(\"./data/EL/el_stats_players_distribution.csv\")"
   ]
  },
  {
   "cell_type": "markdown",
   "metadata": {
    "tags": []
   },
   "source": [
    "### GK"
   ]
  },
  {
   "cell_type": "code",
   "execution_count": 108,
   "metadata": {},
   "outputs": [],
   "source": [
    "path = \"./data/EL/el_stats_clubs_gk.csv\"\n",
    "df31 = spark.read.option(\"delimiter\",\",\").options(header=True).csv(path)"
   ]
  },
  {
   "cell_type": "code",
   "execution_count": 109,
   "metadata": {},
   "outputs": [
    {
     "name": "stdout",
     "output_type": "stream",
     "text": [
      "+----+-------------+-----------+----+-------------+------------------+------------------+------------+------------+\n",
      "|Rank|Equipe       |Country    |Save|Goal_conceded|Own_goals_conceded|Saves_from_penalty|Punches_made|Match_played|\n",
      "+----+-------------+-----------+----+-------------+------------------+------------------+------------+------------+\n",
      "|01  |Malmö        |Sweden     |33  |11           |0                 |0                 |0           |6           |\n",
      "|02  |HJK          |Finland    |28  |13           |1                 |0                 |0           |6           |\n",
      "|03  |Olympiacos   |Greece     |25  |11           |0                 |0                 |1           |6           |\n",
      "|04  |Omonoia      |Cyprus     |24  |12           |0                 |0                 |0           |6           |\n",
      "|04  |Ferencváros  |Hungary    |24  |9            |0                 |0                 |1           |6           |\n",
      "|06  |Nantes       |France     |23  |11           |1                 |0                 |1           |6           |\n",
      "|06  |Bodø/Glimt   |Norway     |23  |10           |1                 |0                 |0           |6           |\n",
      "|08  |AEK_Larnaca  |Cyprus     |22  |10           |1                 |1                 |1           |6           |\n",
      "|09  |Sheriff      |Moldova    |21  |10           |0                 |0                 |2           |6           |\n",
      "|09  |Ludogorets   |Bulgaria   |21  |9            |0                 |0                 |1           |6           |\n",
      "|09  |Qarabağ      |Azerbaijan |21  |5            |0                 |0                 |3           |6           |\n",
      "|09  |PSV          |Netherlands|21  |4            |0                 |0                 |2           |6           |\n",
      "|13  |Midtjylland  |Denmark    |20  |8            |0                 |1                 |1           |6           |\n",
      "|14  |Zürich       |Switzerland|19  |16           |1                 |0                 |0           |6           |\n",
      "|14  |Crvena_zvezda|Serbia     |19  |11           |1                 |0                 |0           |6           |\n",
      "+----+-------------+-----------+----+-------------+------------------+------------------+------------+------------+\n",
      "\n"
     ]
    }
   ],
   "source": [
    "df31 = df31.drop(col(\"_c0\"))\n",
    "df31 = df31.withColumn('Rank', split(df31['team'], ' ').getItem(0)) \\\n",
    "       .withColumn('Equipe', split(df31['team'], ' ').getItem(1)) \\\n",
    "       .withColumn('Country', split(df31['team'], ' ').getItem(2)) \\\n",
    "       .withColumn('Save', split(df31['team'], ' ').getItem(3)) \\\n",
    "       .withColumn('Goal_conceded', split(df31['team'], ' ').getItem(4)) \\\n",
    "       .withColumn('Own_goals_conceded', split(df31['team'], ' ').getItem(5)) \\\n",
    "       .withColumn('Saves_from_penalty', split(df31['team'], ' ').getItem(6)) \\\n",
    "       .withColumn('Punches_made', split(df31['team'], ' ').getItem(7)) \\\n",
    "       .withColumn('Match_played', split(df31['team'], ' ').getItem(8))\n",
    "\n",
    "df31 = df31.drop(col(\"team\"))\n",
    "df31 = df31.na.drop()\n",
    "df31.show(truncate=False)"
   ]
  },
  {
   "cell_type": "code",
   "execution_count": 110,
   "metadata": {},
   "outputs": [],
   "source": [
    "df31.toPandas().to_csv(\"./data/EL/el_stats_clubs_gk.csv\")"
   ]
  },
  {
   "cell_type": "markdown",
   "metadata": {
    "tags": []
   },
   "source": [
    "### Players GK"
   ]
  },
  {
   "cell_type": "code",
   "execution_count": 105,
   "metadata": {},
   "outputs": [],
   "source": [
    "path = \"./data/EL/el_stats_players_gk.csv\"\n",
    "df32 = spark.read.option(\"delimiter\",\",\").options(header=True).csv(path)"
   ]
  },
  {
   "cell_type": "code",
   "execution_count": 106,
   "metadata": {},
   "outputs": [
    {
     "name": "stdout",
     "output_type": "stream",
     "text": [
      "+----+-------------+-------------+----------+----+-------------+------------+-----------+------------+\n",
      "|Rank|Nom          |Equipe       |Poste     |Save|Goal_conceded|Save_Penalty|Clean_sheet|Match_played|\n",
      "+----+-------------+-------------+----------+----+-------------+------------+-----------+------------+\n",
      "|01  |Hazard       |HJK          |Goalkeeper|28  |13           |0           |0          |6           |\n",
      "|02  |Dibusz       |Ferencváros  |Goalkeeper|24  |9            |0           |1          |6           |\n",
      "|03  |Lafont       |Nantes       |Goalkeeper|23  |11           |0           |1          |6           |\n",
      "|03  |Haikin       |Bodø/Glimt   |Goalkeeper|23  |10           |0           |0          |6           |\n",
      "|05  |Pirić        |AEK_Larnaca  |Goalkeeper|22  |10           |1           |1          |6           |\n",
      "|06  |Padt         |Ludogorets   |Goalkeeper|21  |9            |0           |1          |6           |\n",
      "|06  |Magomedaliyev|Qarabağ      |Goalkeeper|21  |5            |0           |3          |6           |\n",
      "|08  |Lössl        |Midtjylland  |Goalkeeper|20  |8            |1           |1          |6           |\n",
      "|08  |Diawara      |Malmö        |Goalkeeper|20  |6            |0           |0          |4           |\n",
      "|10  |Brecher      |Zürich       |Goalkeeper|19  |16           |0           |0          |6           |\n",
      "|10  |Borjan       |Crvena_zvezda|Goalkeeper|19  |11           |0           |0          |6           |\n",
      "|10  |Bijlow       |Feyenoord    |Goalkeeper|19  |9            |0           |2          |6           |\n",
      "|10  |Benitez      |PSV          |Goalkeeper|19  |3            |0           |2          |5           |\n",
      "|14  |Provedel     |Lazio        |Goalkeeper|18  |11           |1           |1          |6           |\n",
      "|15  |Nübel        |Monaco       |Goalkeeper|17  |8            |0           |1          |6           |\n",
      "+----+-------------+-------------+----------+----+-------------+------------+-----------+------------+\n",
      "\n"
     ]
    }
   ],
   "source": [
    "df32 = df32.drop(col(\"_c0\"))\n",
    "df32 = df32.withColumn('Rank', split(df32['team'], ' ').getItem(0)) \\\n",
    "        .withColumn('Nom', split(df32['team'], ' ').getItem(1)) \\\n",
    "       .withColumn('Equipe', split(df32['team'], ' ').getItem(2)) \\\n",
    "       .withColumn('Tiret', split(df32['team'], ' ').getItem(3)) \\\n",
    "       .withColumn('Poste', split(df32['team'], ' ').getItem(4)) \\\n",
    "       .withColumn('Save', split(df32['team'], ' ').getItem(5)) \\\n",
    "       .withColumn('Goal_conceded', split(df32['team'], ' ').getItem(6)) \\\n",
    "       .withColumn('Save_Penalty', split(df32['team'], ' ').getItem(7)) \\\n",
    "       .withColumn('Clean_sheet', split(df32['team'], ' ').getItem(8)) \\\n",
    "       .withColumn('Match_played', split(df32['team'], ' ').getItem(9))\n",
    "\n",
    "df32 = df32.drop(col(\"team\"))\n",
    "df32 = df32.na.drop()\n",
    "df32 = df32.drop(col(\"Tiret\"))\n",
    "df32.show(truncate=False)"
   ]
  },
  {
   "cell_type": "code",
   "execution_count": 107,
   "metadata": {},
   "outputs": [],
   "source": [
    "df32.toPandas().to_csv(\"./data/EL/el_stats_players_gk.csv\")"
   ]
  },
  {
   "cell_type": "markdown",
   "metadata": {
    "tags": []
   },
   "source": [
    "### Goals"
   ]
  },
  {
   "cell_type": "code",
   "execution_count": 102,
   "metadata": {},
   "outputs": [],
   "source": [
    " path = \"./data/EL/el_stats_clubs_goals.csv\"\n",
    "df33 = spark.read.option(\"delimiter\",\",\").options(header=True).csv(path)"
   ]
  },
  {
   "cell_type": "code",
   "execution_count": 103,
   "metadata": {},
   "outputs": [
    {
     "name": "stdout",
     "output_type": "stream",
     "text": [
      "+----+-------------+-----------+-----+-------+------------+\n",
      "|Rank|Equipe       |Country    |Goals|Penalty|Match_Played|\n",
      "+----+-------------+-----------+-----+-------+------------+\n",
      "|01  |PSV          |Netherlands|15   |0      |6           |\n",
      "|02  |Freiburg     |Germany    |13   |2      |6           |\n",
      "|02  |Feyenoord    |Netherlands|13   |2      |6           |\n",
      "|02  |Fenerbahçe   |Türkiye    |13   |2      |6           |\n",
      "|05  |Midtjylland  |Denmark    |12   |1      |6           |\n",
      "|05  |Betis        |Spain      |12   |1      |6           |\n",
      "|07  |Roma         |Italy      |11   |3      |6           |\n",
      "|07  |Union_SG     |Belgium    |11   |0      |6           |\n",
      "|07  |Rennes       |France     |11   |0      |6           |\n",
      "|07  |Trabzonspor  |Türkiye    |11   |0      |6           |\n",
      "|11  |Man_United   |England    |10   |1      |6           |\n",
      "|11  |Real_Sociedad|Spain      |10   |1      |6           |\n",
      "|13  |Crvena_zvezda|Serbia     |9    |2      |6           |\n",
      "|13  |Monaco       |France     |9    |2      |6           |\n",
      "|13  |Qarabağ      |Azerbaijan |9    |1      |6           |\n",
      "+----+-------------+-----------+-----+-------+------------+\n",
      "\n"
     ]
    }
   ],
   "source": [
    "df33 = df33.drop(col(\"_c0\"))\n",
    "df33 = df33.withColumn('Rank', split(df33['team'], ' ').getItem(0)) \\\n",
    "       .withColumn('Equipe', split(df33['team'], ' ').getItem(1)) \\\n",
    "       .withColumn('Country', split(df33['team'], ' ').getItem(2)) \\\n",
    "       .withColumn('Goals', split(df33['team'], ' ').getItem(3)) \\\n",
    "       .withColumn('Penalty', split(df33['team'], ' ').getItem(4)) \\\n",
    "       .withColumn('Match_Played', split(df33['team'], ' ').getItem(5)) \n",
    "\n",
    "df33= df33.drop(col(\"team\"))\n",
    "df33 = df33.na.drop()\n",
    "df33.show(truncate=False)"
   ]
  },
  {
   "cell_type": "code",
   "execution_count": 104,
   "metadata": {},
   "outputs": [],
   "source": [
    "df33.toPandas().to_csv(\"./data/EL/el_stats_clubs_goals.csv\")"
   ]
  },
  {
   "cell_type": "markdown",
   "metadata": {
    "tags": []
   },
   "source": [
    "### Players Goals"
   ]
  },
  {
   "cell_type": "code",
   "execution_count": 99,
   "metadata": {},
   "outputs": [],
   "source": [
    "path = \"./data/EL/el_stats_player_goals.csv\"\n",
    "df34 = spark.read.option(\"delimiter\",\",\").options(header=True).csv(path)"
   ]
  },
  {
   "cell_type": "code",
   "execution_count": 100,
   "metadata": {},
   "outputs": [
    {
     "name": "stdout",
     "output_type": "stream",
     "text": [
      "+----+------------+-------------+----------+-----+-------+------------+\n",
      "|Rank|Nom         |Equipe       |Poste     |Goals|Penalty|Match_played|\n",
      "+----+------------+-------------+----------+-----+-------+------------+\n",
      "|01  |Gimenez     |Feyenoord    |Forward   |4    |1      |6           |\n",
      "|01  |Vitinha     |Braga        |Forward   |4    |0      |5           |\n",
      "|03  |Kanga       |Crvena_zvezda|Midfielder|3    |2      |6           |\n",
      "|03  |Pellegrini  |Roma         |Midfielder|3    |2      |5           |\n",
      "|03  |Batshuayi   |Fenerbahçe   |Forward   |3    |1      |6           |\n",
      "|03  |Ben_Yedder  |Monaco       |Forward   |3    |1      |6           |\n",
      "|03  |Rick        |Ludogorets   |Forward   |3    |0      |6           |\n",
      "|03  |Boniface    |Union_SG     |Forward   |3    |0      |6           |\n",
      "|03  |Owusu       |Qarabağ      |Forward   |3    |0      |6           |\n",
      "|03  |Zachariassen|Ferencváros  |Midfielder|3    |0      |6           |\n",
      "|03  |Veerman     |PSV          |Midfielder|3    |0      |6           |\n",
      "|03  |Isaksen     |Midtjylland  |Forward   |3    |0      |6           |\n",
      "|03  |Terrier     |Rennes       |Forward   |3    |0      |6           |\n",
      "|03  |Bakasetas   |Trabzonspor  |Midfielder|3    |0      |6           |\n",
      "|03  |Gakpo       |PSV          |Forward   |3    |0      |5           |\n",
      "+----+------------+-------------+----------+-----+-------+------------+\n",
      "\n"
     ]
    }
   ],
   "source": [
    "df34 = df34.drop(col(\"_c0\"))\n",
    "df34 = df34.withColumn('Rank', split(df34['team'], ' ').getItem(0)) \\\n",
    "        .withColumn('Nom', split(df34['team'], ' ').getItem(1)) \\\n",
    "       .withColumn('Equipe', split(df34['team'], ' ').getItem(2)) \\\n",
    "       .withColumn('Tiret', split(df34['team'], ' ').getItem(3)) \\\n",
    "       .withColumn('Poste', split(df34['team'], ' ').getItem(4)) \\\n",
    "       .withColumn('Goals', split(df34['team'], ' ').getItem(5)) \\\n",
    "       .withColumn('Penalty', split(df34['team'], ' ').getItem(6)) \\\n",
    "       .withColumn('Match_played', split(df34['team'], ' ').getItem(7))\n",
    "\n",
    "df34 = df34.drop(col(\"team\"))\n",
    "df34 = df34.na.drop()\n",
    "df34 = df34.drop(col(\"Tiret\"))\n",
    "df34.show(truncate=False)"
   ]
  },
  {
   "cell_type": "code",
   "execution_count": 101,
   "metadata": {},
   "outputs": [],
   "source": [
    "df34.toPandas().to_csv(\"./data/EL/el_stats_player_goals.csv\")"
   ]
  },
  {
   "cell_type": "markdown",
   "metadata": {
    "tags": []
   },
   "source": [
    "### Key"
   ]
  },
  {
   "cell_type": "code",
   "execution_count": 96,
   "metadata": {},
   "outputs": [],
   "source": [
    "path = \"./data/EL/el_stats_clubs_key.csv\"\n",
    "df35 = spark.read.option(\"delimiter\",\",\").options(header=True).csv(path)"
   ]
  },
  {
   "cell_type": "code",
   "execution_count": 97,
   "metadata": {
    "tags": []
   },
   "outputs": [
    {
     "name": "stdout",
     "output_type": "stream",
     "text": [
      "+----+-------------+-----------+------------+---+-----+----+\n",
      "|Rank|Equipe       |Country    |Match_Played|Won|Drawn|Lost|\n",
      "+----+-------------+-----------+------------+---+-----+----+\n",
      "|01  |Betis        |Spain      |6           |5  |1    |0   |\n",
      "|01  |Man_United   |England    |6           |5  |0    |1   |\n",
      "|01  |Arsenal      |England    |6           |5  |0    |1   |\n",
      "|01  |Real_Sociedad|Spain      |6           |5  |0    |1   |\n",
      "|01  |Freiburg     |Germany    |6           |4  |2    |0   |\n",
      "|01  |Fenerbahçe   |Türkiye    |6           |4  |2    |0   |\n",
      "|01  |Union_SG     |Belgium    |6           |4  |1    |1   |\n",
      "|01  |PSV          |Netherlands|6           |4  |1    |1   |\n",
      "|01  |Union_Berlin |Germany    |6           |4  |0    |2   |\n",
      "|01  |Rennes       |France     |6           |3  |3    |0   |\n",
      "|01  |Braga        |Portugal   |6           |3  |1    |2   |\n",
      "|01  |Ferencváros  |Hungary    |6           |3  |1    |2   |\n",
      "|01  |Roma         |Italy      |6           |3  |1    |2   |\n",
      "|01  |Monaco       |France     |6           |3  |1    |2   |\n",
      "|01  |Trabzonspor  |Türkiye    |6           |3  |0    |3   |\n",
      "+----+-------------+-----------+------------+---+-----+----+\n",
      "\n"
     ]
    }
   ],
   "source": [
    "df35 = df35.drop(col(\"_c0\"))\n",
    "df35 = df35.withColumn('Rank', split(df35['team'], ' ').getItem(0)) \\\n",
    "       .withColumn('Equipe', split(df35['team'], ' ').getItem(1)) \\\n",
    "       .withColumn('Country', split(df35['team'], ' ').getItem(2)) \\\n",
    "       .withColumn('Match_Played', split(df35['team'], ' ').getItem(3)) \\\n",
    "       .withColumn('Won', split(df35['team'], ' ').getItem(4)) \\\n",
    "       .withColumn('Drawn', split(df35['team'], ' ').getItem(5)) \\\n",
    "       .withColumn('Lost', split(df35['team'], ' ').getItem(6)) \n",
    "\n",
    "df35 = df35.drop(col(\"team\"))\n",
    "df35 = df35.na.drop()\n",
    "df35.show(truncate=False)"
   ]
  },
  {
   "cell_type": "code",
   "execution_count": 98,
   "metadata": {},
   "outputs": [],
   "source": [
    "df35.toPandas().to_csv(\"./data/EL/el_stats_clubs_key.csv\")"
   ]
  },
  {
   "cell_type": "markdown",
   "metadata": {
    "tags": []
   },
   "source": [
    "### Players Key"
   ]
  },
  {
   "cell_type": "code",
   "execution_count": 93,
   "metadata": {},
   "outputs": [],
   "source": [
    "path = \"./data/EL/el_stats_player_key.csv\"\n",
    "df36 = spark.read.option(\"delimiter\",\",\").options(header=True).csv(path)"
   ]
  },
  {
   "cell_type": "code",
   "execution_count": 94,
   "metadata": {},
   "outputs": [
    {
     "name": "stdout",
     "output_type": "stream",
     "text": [
      "+----+--------------+-------------+----------+--------------+-----+------+------------+\n",
      "|Rank|Equipe        |Country      |Poste     |Minutes_Played|Goals|Assist|Match_played|\n",
      "+----+--------------+-------------+----------+--------------+-----+------+------------+\n",
      "|01  |Aitor_Ruibal  |Betis        |Forward   |540           |2    |0     |6           |\n",
      "|01  |Hancko        |Feyenoord    |Defender  |540           |2    |0     |6           |\n",
      "|01  |Disasi        |Monaco       |Defender  |540           |1    |1     |6           |\n",
      "|01  |Lynen         |Union_SG     |Midfielder|540           |1    |0     |6           |\n",
      "|01  |S._Mmaee      |Ferencváros  |Defender  |540           |1    |0     |6           |\n",
      "|01  |Tomović       |AEK_Larnaca  |Defender  |540           |0    |0     |6           |\n",
      "|01  |Verdon        |Ludogorets   |Defender  |540           |0    |0     |6           |\n",
      "|01  |Haikin        |Bodø/Glimt   |Goalkeeper|540           |0    |0     |6           |\n",
      "|01  |Eraković      |Crvena_zvezda|Defender  |540           |0    |0     |6           |\n",
      "|01  |Altay_Bayındır|Fenerbahçe   |Goalkeeper|540           |0    |0     |6           |\n",
      "|01  |Kamberi       |Zürich       |Defender  |540           |0    |0     |6           |\n",
      "|01  |Lafont        |Nantes       |Goalkeeper|540           |0    |0     |6           |\n",
      "|01  |Provedel      |Lazio        |Goalkeeper|540           |0    |0     |6           |\n",
      "|01  |Matheus       |Braga        |Goalkeeper|540           |0    |0     |6           |\n",
      "|01  |Nübel         |Monaco       |Goalkeeper|540           |0    |0     |6           |\n",
      "+----+--------------+-------------+----------+--------------+-----+------+------------+\n",
      "\n"
     ]
    }
   ],
   "source": [
    "df36 = df36.drop(col(\"_c0\"))\n",
    "df36 = df36.withColumn('Rank', split(df36['team'], ' ').getItem(0)) \\\n",
    "       .withColumn('Equipe', split(df36['team'], ' ').getItem(1)) \\\n",
    "       .withColumn('Country', split(df36['team'], ' ').getItem(2)) \\\n",
    "       .withColumn('Poste', split(df36['team'], ' ').getItem(4)) \\\n",
    "       .withColumn('Minutes_Played', split(df36['team'], ' ').getItem(5)) \\\n",
    "       .withColumn('Goals', split(df36['team'], ' ').getItem(6)) \\\n",
    "       .withColumn('Assist', split(df36['team'], ' ').getItem(7))\\\n",
    "       .withColumn('Match_played', split(df36['team'], ' ').getItem(8))\n",
    "\n",
    "\n",
    "df36 = df36.drop(col(\"team\"))\n",
    "df36 = df36.na.drop()\n",
    "df36.show(truncate=False)"
   ]
  },
  {
   "cell_type": "code",
   "execution_count": 95,
   "metadata": {},
   "outputs": [],
   "source": [
    "df36.toPandas().to_csv(\"./data/EL/el_stats_player_key.csv\")"
   ]
  },
  {
   "cell_type": "markdown",
   "metadata": {
    "tags": []
   },
   "source": [
    "## CDM"
   ]
  },
  {
   "cell_type": "markdown",
   "metadata": {
    "tags": []
   },
   "source": [
    "### Group"
   ]
  },
  {
   "cell_type": "code",
   "execution_count": 168,
   "metadata": {},
   "outputs": [],
   "source": [
    "path = \"./data/CDM/cdm_group.csv\"\n",
    "df37 = spark.read.option(\"delimiter\",\",\").options(header=True).csv(path)\n",
    "df37 = df37.drop(col(\"_c0\"))"
   ]
  },
  {
   "cell_type": "code",
   "execution_count": 169,
   "metadata": {},
   "outputs": [
    {
     "name": "stdout",
     "output_type": "stream",
     "text": [
      "+------------+-----+\n",
      "|   standings|Teams|\n",
      "+------------+-----+\n",
      "| Netherlands|    A|\n",
      "|     Ecuador|    A|\n",
      "|     Senegal|    A|\n",
      "|       Qatar|    A|\n",
      "|     England|    B|\n",
      "|         USA|    B|\n",
      "|        Iran|    B|\n",
      "|       Wales|    B|\n",
      "|      Poland|    C|\n",
      "|   Argentina|    C|\n",
      "|      Mexico|    C|\n",
      "|Saudi Arabia|    C|\n",
      "|      France|    D|\n",
      "|     Denmark|    D|\n",
      "|     Tunisia|    D|\n",
      "|   Australia|    D|\n",
      "|     Germany|    E|\n",
      "|       Spain|    E|\n",
      "|  Costa Rica|    E|\n",
      "|       Japan|    E|\n",
      "|     Croatia|    F|\n",
      "|     Belgium|    F|\n",
      "|      Canada|    F|\n",
      "|     Morocco|    F|\n",
      "| Switzerland|    G|\n",
      "|      Serbia|    G|\n",
      "|      Brazil|    G|\n",
      "|    Cameroon|    G|\n",
      "|    Portugal|    H|\n",
      "|     Uruguay|    H|\n",
      "|       Ghana|    H|\n",
      "| South Korea|    H|\n",
      "+------------+-----+\n",
      "\n"
     ]
    }
   ],
   "source": [
    "from pyspark.sql.functions import when\n",
    "df37 = df37.withColumn(\"Group\", \\\n",
    "   when((df37.standings == \"Netherlands\"), lit(\"A\")) \\\n",
    "     .when((df37.standings == \"Ecuador\"), lit(\"A\")) \\\n",
    "     .when((df37.standings == \"Senegal\") , lit(\"A\")) \\\n",
    "     .when((df37.standings == \"Qatar\") , lit(\"A\")) \\\n",
    "     .when((df37.standings == \"England\"), lit(\"B\")) \\\n",
    "     .when((df37.standings == \"USA\") , lit(\"B\")) \\\n",
    "     .when((df37.standings == \"Iran\") , lit(\"B\")) \\\n",
    "     .when((df37.standings == \"Wales\") , lit(\"B\")) \\\n",
    "     .when((df37.standings == \"Poland\"), lit(\"C\")) \\\n",
    "     .when((df37.standings == \"Argentina\") , lit(\"C\")) \\\n",
    "     .when((df37.standings == \"Mexico\") , lit(\"C\")) \\\n",
    "     .when((df37.standings == \"Saudi Arabia\") , lit(\"C\")) \\\n",
    "     .when((df37.standings == \"France\") , lit(\"D\")) \\\n",
    "     .when((df37.standings == \"Denmark\")  , lit(\"D\")) \\\n",
    "     .when((df37.standings == \"Tunisia\") , lit(\"D\")) \\\n",
    "     .when((df37.standings == \"Australia\") , lit(\"D\")) \\\n",
    "     .when((df37.standings == \"Germany\") , lit(\"E\")) \\\n",
    "     .when((df37.standings == \"Spain\") , lit(\"E\")) \\\n",
    "     .when((df37.standings == \"Costa Rica\") , lit(\"E\")) \\\n",
    "     .when((df37.standings == \"Japan\") , lit(\"E\")) \\\n",
    "     .when((df37.standings == \"Croatia\") , lit(\"F\")) \\\n",
    "     .when((df37.standings == \"Belgium\") , lit(\"F\")) \\\n",
    "     .when((df37.standings == \"Canada\") , lit(\"F\")) \\\n",
    "     .when((df37.standings == \"Morocco\") , lit(\"F\")) \\\n",
    "     .when((df37.standings == \"Switzerland\") , lit(\"G\")) \\\n",
    "     .when((df37.standings == \"Serbia\") , lit(\"G\")) \\\n",
    "     .when((df37.standings == \"Brazil\") , lit(\"G\")) \\\n",
    "     .when((df37.standings == \"Cameroon\") , lit(\"G\")) \\\n",
    "     .when((df37.standings == \"Portugal\") , lit(\"H\")) \\\n",
    "     .when((df37.standings == \"Uruguay\") , lit(\"H\")) \\\n",
    "     .when((df37.standings == \"Ghana\") , lit(\"H\")) \\\n",
    "     .when((df37.standings == \"South Korea\" ) , lit(\"H\")))\n",
    "df37 = df37.drop(col(\"Groupe\"))\n",
    "df37.show(32)     "
   ]
  },
  {
   "cell_type": "code",
   "execution_count": 170,
   "metadata": {},
   "outputs": [],
   "source": [
    "df37.toPandas().to_csv(\"./data/CDM/cdm_group.csv\")"
   ]
  },
  {
   "cell_type": "markdown",
   "metadata": {
    "tags": []
   },
   "source": [
    "### Games"
   ]
  },
  {
   "cell_type": "code",
   "execution_count": 531,
   "metadata": {},
   "outputs": [
    {
     "name": "stdout",
     "output_type": "stream",
     "text": [
      "+------------+-----------+------------+\n",
      "|        date| equipe_dom|  equipe_ext|\n",
      "+------------+-----------+------------+\n",
      "|20.11. 17:00|      Qatar|     Ecuador|\n",
      "|21.11. 14:00|    England|        Iran|\n",
      "|21.11. 17:00|    Senegal| Netherlands|\n",
      "|21.11. 20:00|        USA|       Wales|\n",
      "|22.11. 11:00|  Argentina|Saudi Arabia|\n",
      "|22.11. 14:00|    Denmark|     Tunisia|\n",
      "|22.11. 17:00|     Mexico|      Poland|\n",
      "|22.11. 20:00|     France|   Australia|\n",
      "|23.11. 11:00|    Morocco|     Croatia|\n",
      "|23.11. 14:00|    Germany|       Japan|\n",
      "|23.11. 17:00|      Spain|  Costa Rica|\n",
      "|23.11. 20:00|    Belgium|      Canada|\n",
      "|24.11. 11:00|Switzerland|    Cameroon|\n",
      "|24.11. 14:00|    Uruguay| South Korea|\n",
      "|24.11. 17:00|   Portugal|       Ghana|\n",
      "|24.11. 20:00|     Brazil|      Serbia|\n",
      "|25.11. 11:00|      Wales|        Iran|\n",
      "|25.11. 14:00|      Qatar|     Senegal|\n",
      "|25.11. 17:00|Netherlands|     Ecuador|\n",
      "|25.11. 20:00|    England|         USA|\n",
      "+------------+-----------+------------+\n",
      "only showing top 20 rows\n",
      "\n"
     ]
    }
   ],
   "source": [
    "path = \"./data/CDM/cdm_games.csv\"\n",
    "df38 = spark.read.option(\"delimiter\",\",\").options(header=True).csv(path)\n",
    "df38 = df38.drop(col(\"_c0\"))\n",
    "df38.show()"
   ]
  },
  {
   "cell_type": "code",
   "execution_count": 719,
   "metadata": {},
   "outputs": [],
   "source": [
    "df38.toPandas().to_csv(\"./data/CDM/cdm_games.csv\")"
   ]
  }
 ],
 "metadata": {
  "kernelspec": {
   "display_name": "Python 3 (ipykernel)",
   "language": "python",
   "name": "python3"
  },
  "language_info": {
   "codemirror_mode": {
    "name": "ipython",
    "version": 3
   },
   "file_extension": ".py",
   "mimetype": "text/x-python",
   "name": "python",
   "nbconvert_exporter": "python",
   "pygments_lexer": "ipython3",
   "version": "3.10.6"
  }
 },
 "nbformat": 4,
 "nbformat_minor": 4
}
