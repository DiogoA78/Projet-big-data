{
 "cells": [
  {
   "cell_type": "markdown",
   "metadata": {},
   "source": [
    "# 0) chargement de spark"
   ]
  },
  {
   "cell_type": "code",
   "execution_count": 4,
   "metadata": {},
   "outputs": [],
   "source": [
    "from pyspark.sql import SparkSession\n",
    "\n",
    "#sans se connecter au cluster\n",
    "#spark = SparkSession.builder.getOrCreate()\n",
    "\n",
    "spark = SparkSession.\\\n",
    "        builder.\\\n",
    "        appName(\"pyspark-notebook\").\\\n",
    "        master(\"spark://spark-master:7077\").\\\n",
    "        config(\"spark.executor.memory\", \"1g\").\\\n",
    "        getOrCreate()"
   ]
  },
  {
   "cell_type": "code",
   "execution_count": 7,
   "metadata": {},
   "outputs": [],
   "source": [
    "from pyspark.sql import SparkSession\n",
    "from pyspark.sql.types import *\n",
    "from pyspark.sql import functions as F\n",
    "from pyspark.sql.types import *\n",
    "from pyspark.sql.functions import udf\n",
    "from pyspark.sql.window import Window"
   ]
  },
  {
   "cell_type": "markdown",
   "metadata": {},
   "source": [
    "# 1) lire de la donnée"
   ]
  },
  {
   "cell_type": "markdown",
   "metadata": {},
   "source": [
    "## 1.1) lecture brute\n",
    "Chargez le fichier ville_1.csv dans une variable nommée df.\n",
    "\n",
    "Vous pouvez afficher votre donnée en utilisant la méthode take() ou la methode collect() de l'objet pyspark DataFrame (attention appeler collect() sur un dataframe est déconseillé si vous avez du vrai big data).\n",
    "\n",
    "L'objet possède aussi un attribut appelé dtypes, appelez cet attribut pour obtenir la liste des colonnes et leur type."
   ]
  },
  {
   "cell_type": "code",
   "execution_count": 9,
   "metadata": {},
   "outputs": [
    {
     "name": "stderr",
     "output_type": "stream",
     "text": [
      "ERROR:root:KeyboardInterrupt while sending command.\n",
      "Traceback (most recent call last):\n",
      "  File \"/usr/local/spark/python/lib/py4j-0.10.9.5-src.zip/py4j/java_gateway.py\", line 1038, in send_command\n",
      "    response = connection.send_command(command)\n",
      "  File \"/usr/local/spark/python/lib/py4j-0.10.9.5-src.zip/py4j/clientserver.py\", line 511, in send_command\n",
      "    answer = smart_decode(self.stream.readline()[:-1])\n",
      "  File \"/opt/conda/lib/python3.10/socket.py\", line 705, in readinto\n",
      "    return self._sock.recv_into(b)\n",
      "KeyboardInterrupt\n"
     ]
    },
    {
     "ename": "KeyboardInterrupt",
     "evalue": "",
     "output_type": "error",
     "traceback": [
      "\u001b[0;31m---------------------------------------------------------------------------\u001b[0m",
      "\u001b[0;31mKeyboardInterrupt\u001b[0m                         Traceback (most recent call last)",
      "Cell \u001b[0;32mIn [9], line 3\u001b[0m\n\u001b[1;32m      1\u001b[0m path  \u001b[38;5;241m=\u001b[39m \u001b[38;5;124m\"\u001b[39m\u001b[38;5;124m./data/LDC/ucl_games.csv\u001b[39m\u001b[38;5;124m\"\u001b[39m\n\u001b[1;32m      2\u001b[0m \u001b[38;5;66;03m# lecture d'un fichier de manière la plus brute\u001b[39;00m\n\u001b[0;32m----> 3\u001b[0m df \u001b[38;5;241m=\u001b[39m \u001b[43mspark\u001b[49m\u001b[38;5;241;43m.\u001b[39;49m\u001b[43mread\u001b[49m\u001b[38;5;241;43m.\u001b[39;49m\u001b[43mload\u001b[49m\u001b[43m(\u001b[49m\u001b[43mpath\u001b[49m\u001b[43m,\u001b[49m\u001b[43m \u001b[49m\u001b[38;5;28;43mformat\u001b[39;49m\u001b[38;5;241;43m=\u001b[39;49m\u001b[38;5;124;43m\"\u001b[39;49m\u001b[38;5;124;43mcsv\u001b[39;49m\u001b[38;5;124;43m\"\u001b[39;49m\u001b[43m)\u001b[49m\n\u001b[1;32m      4\u001b[0m df\n",
      "File \u001b[0;32m/usr/local/spark/python/pyspark/sql/readwriter.py:177\u001b[0m, in \u001b[0;36mDataFrameReader.load\u001b[0;34m(self, path, format, schema, **options)\u001b[0m\n\u001b[1;32m    175\u001b[0m \u001b[38;5;28mself\u001b[39m\u001b[38;5;241m.\u001b[39moptions(\u001b[38;5;241m*\u001b[39m\u001b[38;5;241m*\u001b[39moptions)\n\u001b[1;32m    176\u001b[0m \u001b[38;5;28;01mif\u001b[39;00m \u001b[38;5;28misinstance\u001b[39m(path, \u001b[38;5;28mstr\u001b[39m):\n\u001b[0;32m--> 177\u001b[0m     \u001b[38;5;28;01mreturn\u001b[39;00m \u001b[38;5;28mself\u001b[39m\u001b[38;5;241m.\u001b[39m_df(\u001b[38;5;28;43mself\u001b[39;49m\u001b[38;5;241;43m.\u001b[39;49m\u001b[43m_jreader\u001b[49m\u001b[38;5;241;43m.\u001b[39;49m\u001b[43mload\u001b[49m\u001b[43m(\u001b[49m\u001b[43mpath\u001b[49m\u001b[43m)\u001b[49m)\n\u001b[1;32m    178\u001b[0m \u001b[38;5;28;01melif\u001b[39;00m path \u001b[38;5;129;01mis\u001b[39;00m \u001b[38;5;129;01mnot\u001b[39;00m \u001b[38;5;28;01mNone\u001b[39;00m:\n\u001b[1;32m    179\u001b[0m     \u001b[38;5;28;01mif\u001b[39;00m \u001b[38;5;28mtype\u001b[39m(path) \u001b[38;5;241m!=\u001b[39m \u001b[38;5;28mlist\u001b[39m:\n",
      "File \u001b[0;32m/usr/local/spark/python/lib/py4j-0.10.9.5-src.zip/py4j/java_gateway.py:1320\u001b[0m, in \u001b[0;36mJavaMember.__call__\u001b[0;34m(self, *args)\u001b[0m\n\u001b[1;32m   1313\u001b[0m args_command, temp_args \u001b[38;5;241m=\u001b[39m \u001b[38;5;28mself\u001b[39m\u001b[38;5;241m.\u001b[39m_build_args(\u001b[38;5;241m*\u001b[39margs)\n\u001b[1;32m   1315\u001b[0m command \u001b[38;5;241m=\u001b[39m proto\u001b[38;5;241m.\u001b[39mCALL_COMMAND_NAME \u001b[38;5;241m+\u001b[39m\\\n\u001b[1;32m   1316\u001b[0m     \u001b[38;5;28mself\u001b[39m\u001b[38;5;241m.\u001b[39mcommand_header \u001b[38;5;241m+\u001b[39m\\\n\u001b[1;32m   1317\u001b[0m     args_command \u001b[38;5;241m+\u001b[39m\\\n\u001b[1;32m   1318\u001b[0m     proto\u001b[38;5;241m.\u001b[39mEND_COMMAND_PART\n\u001b[0;32m-> 1320\u001b[0m answer \u001b[38;5;241m=\u001b[39m \u001b[38;5;28;43mself\u001b[39;49m\u001b[38;5;241;43m.\u001b[39;49m\u001b[43mgateway_client\u001b[49m\u001b[38;5;241;43m.\u001b[39;49m\u001b[43msend_command\u001b[49m\u001b[43m(\u001b[49m\u001b[43mcommand\u001b[49m\u001b[43m)\u001b[49m\n\u001b[1;32m   1321\u001b[0m return_value \u001b[38;5;241m=\u001b[39m get_return_value(\n\u001b[1;32m   1322\u001b[0m     answer, \u001b[38;5;28mself\u001b[39m\u001b[38;5;241m.\u001b[39mgateway_client, \u001b[38;5;28mself\u001b[39m\u001b[38;5;241m.\u001b[39mtarget_id, \u001b[38;5;28mself\u001b[39m\u001b[38;5;241m.\u001b[39mname)\n\u001b[1;32m   1324\u001b[0m \u001b[38;5;28;01mfor\u001b[39;00m temp_arg \u001b[38;5;129;01min\u001b[39;00m temp_args:\n",
      "File \u001b[0;32m/usr/local/spark/python/lib/py4j-0.10.9.5-src.zip/py4j/java_gateway.py:1038\u001b[0m, in \u001b[0;36mGatewayClient.send_command\u001b[0;34m(self, command, retry, binary)\u001b[0m\n\u001b[1;32m   1036\u001b[0m connection \u001b[38;5;241m=\u001b[39m \u001b[38;5;28mself\u001b[39m\u001b[38;5;241m.\u001b[39m_get_connection()\n\u001b[1;32m   1037\u001b[0m \u001b[38;5;28;01mtry\u001b[39;00m:\n\u001b[0;32m-> 1038\u001b[0m     response \u001b[38;5;241m=\u001b[39m \u001b[43mconnection\u001b[49m\u001b[38;5;241;43m.\u001b[39;49m\u001b[43msend_command\u001b[49m\u001b[43m(\u001b[49m\u001b[43mcommand\u001b[49m\u001b[43m)\u001b[49m\n\u001b[1;32m   1039\u001b[0m     \u001b[38;5;28;01mif\u001b[39;00m binary:\n\u001b[1;32m   1040\u001b[0m         \u001b[38;5;28;01mreturn\u001b[39;00m response, \u001b[38;5;28mself\u001b[39m\u001b[38;5;241m.\u001b[39m_create_connection_guard(connection)\n",
      "File \u001b[0;32m/usr/local/spark/python/lib/py4j-0.10.9.5-src.zip/py4j/clientserver.py:511\u001b[0m, in \u001b[0;36mClientServerConnection.send_command\u001b[0;34m(self, command)\u001b[0m\n\u001b[1;32m    509\u001b[0m \u001b[38;5;28;01mtry\u001b[39;00m:\n\u001b[1;32m    510\u001b[0m     \u001b[38;5;28;01mwhile\u001b[39;00m \u001b[38;5;28;01mTrue\u001b[39;00m:\n\u001b[0;32m--> 511\u001b[0m         answer \u001b[38;5;241m=\u001b[39m smart_decode(\u001b[38;5;28;43mself\u001b[39;49m\u001b[38;5;241;43m.\u001b[39;49m\u001b[43mstream\u001b[49m\u001b[38;5;241;43m.\u001b[39;49m\u001b[43mreadline\u001b[49m\u001b[43m(\u001b[49m\u001b[43m)\u001b[49m[:\u001b[38;5;241m-\u001b[39m\u001b[38;5;241m1\u001b[39m])\n\u001b[1;32m    512\u001b[0m         logger\u001b[38;5;241m.\u001b[39mdebug(\u001b[38;5;124m\"\u001b[39m\u001b[38;5;124mAnswer received: \u001b[39m\u001b[38;5;132;01m{0}\u001b[39;00m\u001b[38;5;124m\"\u001b[39m\u001b[38;5;241m.\u001b[39mformat(answer))\n\u001b[1;32m    513\u001b[0m         \u001b[38;5;66;03m# Happens when a the other end is dead. There might be an empty\u001b[39;00m\n\u001b[1;32m    514\u001b[0m         \u001b[38;5;66;03m# answer before the socket raises an error.\u001b[39;00m\n",
      "File \u001b[0;32m/opt/conda/lib/python3.10/socket.py:705\u001b[0m, in \u001b[0;36mSocketIO.readinto\u001b[0;34m(self, b)\u001b[0m\n\u001b[1;32m    703\u001b[0m \u001b[38;5;28;01mwhile\u001b[39;00m \u001b[38;5;28;01mTrue\u001b[39;00m:\n\u001b[1;32m    704\u001b[0m     \u001b[38;5;28;01mtry\u001b[39;00m:\n\u001b[0;32m--> 705\u001b[0m         \u001b[38;5;28;01mreturn\u001b[39;00m \u001b[38;5;28;43mself\u001b[39;49m\u001b[38;5;241;43m.\u001b[39;49m\u001b[43m_sock\u001b[49m\u001b[38;5;241;43m.\u001b[39;49m\u001b[43mrecv_into\u001b[49m\u001b[43m(\u001b[49m\u001b[43mb\u001b[49m\u001b[43m)\u001b[49m\n\u001b[1;32m    706\u001b[0m     \u001b[38;5;28;01mexcept\u001b[39;00m timeout:\n\u001b[1;32m    707\u001b[0m         \u001b[38;5;28mself\u001b[39m\u001b[38;5;241m.\u001b[39m_timeout_occurred \u001b[38;5;241m=\u001b[39m \u001b[38;5;28;01mTrue\u001b[39;00m\n",
      "\u001b[0;31mKeyboardInterrupt\u001b[0m: "
     ]
    }
   ],
   "source": [
    "path  = \"./data/LDC/ucl_games.csv\"\n",
    "# lecture d'un fichier de manière la plus brute\n",
    "df = spark.read.load(path, format=\"csv\")\n",
    "df"
   ]
  },
  {
   "cell_type": "markdown",
   "metadata": {},
   "source": [
    "## 1.2) lecture avec les entêtes\n",
    "Recharger le même fichier mais cette fois-ci utilisez l'option header pour rajouter les noms de colonnes à votre df.\n",
    "\n",
    "Appelez l'attribut dtypes et comparez la sortie avec celle de la lecture brute."
   ]
  },
  {
   "cell_type": "code",
   "execution_count": null,
   "metadata": {},
   "outputs": [],
   "source": [
    "df = spark.read.format('csv').options(header=True).load(path)\n",
    "df.dtypes"
   ]
  },
  {
   "cell_type": "markdown",
   "metadata": {},
   "source": [
    "## 1.3) lecture avec les types détectés automatiquement\n",
    "Recharger le fichier avec  l'option inferShema.\n",
    "\n",
    "L'option 'inferSchema' permet de transformer les colonnes en types plus précis : entier  / booléens / chaines de caractères... bien sûr spark trouve les types uniquement si le fichier d'origine permet de les trouver de manière simple"
   ]
  },
  {
   "cell_type": "code",
   "execution_count": null,
   "metadata": {},
   "outputs": [],
   "source": [
    "df = spark.read.format('csv').options(header=True, inferSchema=True).load(path)\n",
    "df.dtypes"
   ]
  },
  {
   "cell_type": "markdown",
   "metadata": {},
   "source": [
    "## 1.4) lecture avec schéma\n",
    "Il vous permet d'afficher le schéma de votre df, avec pour chaque colonne son nom, son type, et si elle accepte les valeurs nulles ou non. "
   ]
  },
  {
   "cell_type": "code",
   "execution_count": null,
   "metadata": {},
   "outputs": [],
   "source": [
    "df.schema"
   ]
  },
  {
   "cell_type": "markdown",
   "metadata": {},
   "source": [
    "Vous avez aussi la méthode printSchema() qui permet d'afficher le shéma du df de manière plus lisible."
   ]
  },
  {
   "cell_type": "code",
   "execution_count": null,
   "metadata": {},
   "outputs": [],
   "source": [
    "#df.show()\n",
    "df.printSchema()"
   ]
  },
  {
   "cell_type": "markdown",
   "metadata": {},
   "source": [
    "# 2) écriture de la dataframe sur le disque"
   ]
  },
  {
   "cell_type": "markdown",
   "metadata": {},
   "source": [
    "## 2.1) choix du format : csv"
   ]
  },
  {
   "cell_type": "code",
   "execution_count": null,
   "metadata": {},
   "outputs": [],
   "source": [
    "df.write.format(\"csv\").save(\"./csv\")"
   ]
  },
  {
   "cell_type": "markdown",
   "metadata": {},
   "source": [
    "## 2.2) choix du format : parquet"
   ]
  },
  {
   "cell_type": "code",
   "execution_count": null,
   "metadata": {},
   "outputs": [],
   "source": [
    "\n",
    "df.write.format(\"parquet\").save(\"./parquet\")"
   ]
  },
  {
   "cell_type": "markdown",
   "metadata": {},
   "source": [
    "## 2.3) choix du format : json"
   ]
  },
  {
   "cell_type": "code",
   "execution_count": null,
   "metadata": {},
   "outputs": [],
   "source": [
    "df.write.save(\"./json_data\", format=\"json\")"
   ]
  },
  {
   "cell_type": "code",
   "execution_count": 10,
   "metadata": {},
   "outputs": [
    {
     "name": "stdout",
     "output_type": "stream",
     "text": [
      "ucl_clubs_attack.csv   ucl_clubs_goals.csv\tucl_players_def.csv\n",
      "ucl_clubs_attempt.csv  ucl_clubs_key.csv\tucl_players_discip.csv\n",
      "ucl_clubs_def.csv      ucl_games.csv\t\tucl_players_distrib.csv\n",
      "ucl_clubs_discip.csv   ucl_group.csv\t\tucl_players_gk.csv\n",
      "ucl_clubs_distrib.csv  ucl_players_attack.csv\tucl_players_goals.csv\n",
      "ucl_clubs_gk.csv       ucl_players_attempt.csv\tucl_players_key.csv\n"
     ]
    }
   ],
   "source": [
    "!ls ./data/LDC/"
   ]
  },
  {
   "cell_type": "markdown",
   "metadata": {},
   "source": [
    "## 2.4) lecture de différents formats\n",
    "Vous pouvez choisir de lire le df sous un format ou un autre en utilisant l'argument format dans la fonction spark.read.load"
   ]
  },
  {
   "cell_type": "code",
   "execution_count": null,
   "metadata": {},
   "outputs": [],
   "source": [
    "spark.read.load(\"./json_data\", format=\"json\")"
   ]
  },
  {
   "cell_type": "code",
   "execution_count": null,
   "metadata": {},
   "outputs": [],
   "source": [
    "spark.read.load(\"./data_velo/Villes/ville/\", format=\"csv\").count()"
   ]
  },
  {
   "cell_type": "markdown",
   "metadata": {},
   "source": [
    "# 3) Calculer des résultats : les actions "
   ]
  },
  {
   "cell_type": "markdown",
   "metadata": {},
   "source": [
    "## 3.1) nombre de lignes : count\n",
    "Chargez les fichiers csv contenus dans le dossiers ./data_velo/Cyclistes/ dans un df nommé cyclistes, puis comptez les lignes du dataframe obtenu."
   ]
  },
  {
   "cell_type": "code",
   "execution_count": null,
   "metadata": {},
   "outputs": [],
   "source": [
    "!ls ./data_velo/Cyclistes/"
   ]
  },
  {
   "cell_type": "code",
   "execution_count": 10,
   "metadata": {},
   "outputs": [
    {
     "name": "stderr",
     "output_type": "stream",
     "text": [
      "                                                                                \r"
     ]
    }
   ],
   "source": [
    "path  = \"./data_velo/Cyclistes\"\n",
    "# lecture d'un fichier de manière la plus brute\n",
    "#df = spark.read.csv(path)\n",
    "df = spark.read.load(path, format=\"csv\", header=True, inferSchema=\"True\")"
   ]
  },
  {
   "cell_type": "markdown",
   "metadata": {},
   "source": [
    "Afficher le schéma de ce nouveau df"
   ]
  },
  {
   "cell_type": "code",
   "execution_count": 11,
   "metadata": {},
   "outputs": [
    {
     "data": {
      "text/plain": [
       "[('id', 'int'),\n",
       " ('timestamp', 'string'),\n",
       " ('sur_velo', 'boolean'),\n",
       " ('velo', 'string'),\n",
       " ('vitesse', 'double'),\n",
       " ('position', 'string'),\n",
       " ('destination_finale', 'string')]"
      ]
     },
     "execution_count": 11,
     "metadata": {},
     "output_type": "execute_result"
    }
   ],
   "source": [
    "df.dtypes"
   ]
  },
  {
   "cell_type": "markdown",
   "metadata": {},
   "source": [
    "Affichez 10 lignes du df."
   ]
  },
  {
   "cell_type": "code",
   "execution_count": null,
   "metadata": {},
   "outputs": [],
   "source": [
    "df.take(10)"
   ]
  },
  {
   "cell_type": "markdown",
   "metadata": {},
   "source": [
    "## 3.2) moyenne : agg + colonne + mean\n",
    "A l'aide de la méthode agg(), calculez la moyenne sur la colonne vitesse.\n",
    "\n",
    "Vous pouvez récuperer le résultat avec la méthode collect()."
   ]
  },
  {
   "cell_type": "code",
   "execution_count": 6,
   "metadata": {},
   "outputs": [
    {
     "name": "stderr",
     "output_type": "stream",
     "text": [
      "                                                                                \r"
     ]
    },
    {
     "data": {
      "text/plain": [
       "[Row(avg(vitesse)=0.4423137464018649)]"
      ]
     },
     "execution_count": 6,
     "metadata": {},
     "output_type": "execute_result"
    }
   ],
   "source": [
    "df.agg({'vitesse': 'mean'}).collect()"
   ]
  },
  {
   "cell_type": "markdown",
   "metadata": {},
   "source": [
    "## 3.3) quantile approximatifs pour gagner du temps de calcul\n",
    "En statistiques et en théorie des probabilités, les quantiles sont les valeurs qui divisent un jeu de données en intervalles contenant le même nombre de données. Il y a donc un quantile de moins que le nombre de groupes créés. Ainsi les quartiles sont les trois quantiles qui divisent un ensemble de données en quatre groupes de taille égale.\n",
    "\n",
    "La méthode approxQuantile permet de laisser une tolérance a l'erreur ce qui réduit le temps de calul sur d'énormes jeux de données."
   ]
  },
  {
   "cell_type": "code",
   "execution_count": 7,
   "metadata": {},
   "outputs": [],
   "source": [
    "import time"
   ]
  },
  {
   "cell_type": "code",
   "execution_count": 8,
   "metadata": {},
   "outputs": [],
   "source": [
    "def calcul_quantile(df, erreur_acceptee):\n",
    "    debut            = time.time()\n",
    "    colonne          = \"vitesse\"\n",
    "    quantiles_voulus = [0.25, 0.50, 0.75]\n",
    "    resultat         =  df.approxQuantile(colonne, quantiles_voulus , erreur_acceptee )\n",
    "    fin              = time.time()\n",
    "    delais           = fin -debut\n",
    "    print (\"delais =%.2f sec, quantiles = %s\"%(delais, resultat))"
   ]
  },
  {
   "cell_type": "code",
   "execution_count": 12,
   "metadata": {},
   "outputs": [
    {
     "name": "stderr",
     "output_type": "stream",
     "text": [
      "[Stage 7:============================================>              (3 + 1) / 4]\r"
     ]
    },
    {
     "name": "stdout",
     "output_type": "stream",
     "text": [
      "delais =6.43 sec, quantiles = [0.030000000000000006, 0.2944550644296354, 0.5931162118010243]\n"
     ]
    },
    {
     "name": "stderr",
     "output_type": "stream",
     "text": [
      "                                                                                \r"
     ]
    }
   ],
   "source": [
    "calcul_quantile(df, 0.05)"
   ]
  },
  {
   "cell_type": "code",
   "execution_count": 13,
   "metadata": {},
   "outputs": [
    {
     "name": "stderr",
     "output_type": "stream",
     "text": [
      "[Stage 8:============================================>              (3 + 1) / 4]\r"
     ]
    },
    {
     "name": "stdout",
     "output_type": "stream",
     "text": [
      "delais =6.67 sec, quantiles = [0.030000000000000006, 0.2944550644296354, 0.6295531740219638]\n"
     ]
    },
    {
     "name": "stderr",
     "output_type": "stream",
     "text": [
      "                                                                                \r"
     ]
    }
   ],
   "source": [
    "calcul_quantile(df, 0.01)"
   ]
  },
  {
   "cell_type": "code",
   "execution_count": 14,
   "metadata": {},
   "outputs": [
    {
     "name": "stderr",
     "output_type": "stream",
     "text": [
      "[Stage 9:============================================>              (3 + 1) / 4]\r"
     ]
    },
    {
     "name": "stdout",
     "output_type": "stream",
     "text": [
      "delais =15.68 sec, quantiles = [0.030000000000000006, 0.3283952876721612, 0.6295531740219638]\n"
     ]
    },
    {
     "name": "stderr",
     "output_type": "stream",
     "text": [
      "                                                                                \r"
     ]
    }
   ],
   "source": [
    "calcul_quantile(df, 0)"
   ]
  },
  {
   "cell_type": "markdown",
   "metadata": {},
   "source": [
    "## Reload de la dataframe\n",
    "Chargez le fichier villes dans un df nommé villes."
   ]
  },
  {
   "cell_type": "code",
   "execution_count": 20,
   "metadata": {},
   "outputs": [
    {
     "name": "stdout",
     "output_type": "stream",
     "text": [
      "root\n",
      " |-- id: integer (nullable = true)\n",
      " |-- vitesse_a_pied: double (nullable = true)\n",
      " |-- vitesse_a_velo: double (nullable = true)\n",
      " |-- home: string (nullable = true)\n",
      " |-- travail: string (nullable = true)\n",
      " |-- sportif: boolean (nullable = true)\n",
      " |-- casseur: boolean (nullable = true)\n",
      " |-- statut: string (nullable = true)\n",
      " |-- salaire: double (nullable = true)\n",
      " |-- sexe: string (nullable = true)\n",
      " |-- age: integer (nullable = true)\n",
      " |-- sportivite: double (nullable = true)\n",
      " |-- velo_perf_minimale: double (nullable = true)\n",
      "\n"
     ]
    }
   ],
   "source": [
    "villes =spark.read.load(\"./data_velo/villes/\", format=\"csv\", header=True, inferSchema=\"True\")\n",
    "villes.printSchema()"
   ]
  },
  {
   "cell_type": "markdown",
   "metadata": {},
   "source": [
    "## 3.4) corrélation\n",
    "En probabilités et en statistique, la corrélation entre plusieurs variables aléatoires ou statistiques est une notion de liaison qui contredit leur indépendance.\n",
    "\n",
    "Calculez la corrélation entre les colonnes age et vitesse_a_velo."
   ]
  },
  {
   "cell_type": "code",
   "execution_count": 21,
   "metadata": {
    "collapsed": false,
    "jupyter": {
     "outputs_hidden": false
    }
   },
   "outputs": [
    {
     "name": "stdout",
     "output_type": "stream",
     "text": [
      "-0.06411845578664936\n"
     ]
    }
   ],
   "source": [
    "print(villes.stat.corr('age', 'vitesse_a_velo'))"
   ]
  },
  {
   "cell_type": "markdown",
   "metadata": {},
   "source": []
  },
  {
   "cell_type": "markdown",
   "metadata": {},
   "source": [
    "## 3.5) covariance\n",
    "Calculez la covariance entre les colonnes age et vitesse_a_velo."
   ]
  },
  {
   "cell_type": "code",
   "execution_count": 22,
   "metadata": {},
   "outputs": [
    {
     "name": "stdout",
     "output_type": "stream",
     "text": [
      "-1.5721945755314064\n"
     ]
    }
   ],
   "source": [
    "print(villes.stat.cov('age', 'vitesse_a_velo'))"
   ]
  },
  {
   "cell_type": "markdown",
   "metadata": {},
   "source": [
    "## 3.6) sample"
   ]
  },
  {
   "cell_type": "code",
   "execution_count": null,
   "metadata": {},
   "outputs": [],
   "source": [
    "villes_1_pct = villes.sample(False, 0.1)\n"
   ]
  },
  {
   "cell_type": "code",
   "execution_count": null,
   "metadata": {},
   "outputs": [],
   "source": [
    "villes_1_pct.count()"
   ]
  },
  {
   "cell_type": "code",
   "execution_count": null,
   "metadata": {},
   "outputs": [],
   "source": [
    "villes.exceptAll(villes_1_pct).count()"
   ]
  },
  {
   "cell_type": "markdown",
   "metadata": {},
   "source": [
    "## 3.7) filter \n",
    "La méthode filter() permet le df selon certaines valeurs dans les colonnes.\n",
    "\n",
    "Utilisez cette méthode pour récuperer seulement les lignes avec le sexe féminin."
   ]
  },
  {
   "cell_type": "code",
   "execution_count": null,
   "metadata": {},
   "outputs": [],
   "source": [
    "#villes.filter(\"sexe == 'F'\").count()\n",
    "villes.filter(villes.sexe == 'F').count()"
   ]
  },
  {
   "cell_type": "markdown",
   "metadata": {},
   "source": [
    "# 4) Transformer la données : les transformations!"
   ]
  },
  {
   "cell_type": "markdown",
   "metadata": {},
   "source": [
    "## Transformations : demandent à être suivi par un collect ou une action (count par exemple)"
   ]
  },
  {
   "cell_type": "markdown",
   "metadata": {},
   "source": [
    "## 4.1) obtenir des statistiques sur les colonnes numériques\n",
    "La méthode describe() permet de calculer les statistiques récapitulatives d'une ou plusieurs colonnes numériques dans un df. Si le nom des colonnes n'est pas spécifié, la méthode calculera des statistiques récapitulatives pour toutes les colonnes numériques présentes dans le df.\n",
    "\n",
    "Afficher les statistiques de la colonne age."
   ]
  },
  {
   "cell_type": "code",
   "execution_count": 24,
   "metadata": {},
   "outputs": [
    {
     "data": {
      "text/plain": [
       "[Row(summary='count', summary='5', sexe='3', age='5'),\n",
       " Row(summary='mean', summary=None, sexe='50.0', age='43.43979797464467'),\n",
       " Row(summary='stddev', summary=None, sexe='NaN', age='27.13153036418277'),\n",
       " Row(summary='min', summary='count', sexe='50', age='16'),\n",
       " Row(summary='max', summary='stddev', sexe='H', age='83')]"
      ]
     },
     "execution_count": 24,
     "metadata": {},
     "output_type": "execute_result"
    }
   ],
   "source": [
    "villes.describe([\"sexe\", \"age\"]).describe().collect()"
   ]
  },
  {
   "cell_type": "markdown",
   "metadata": {},
   "source": [
    "## 4.2) groupby\n",
    "La méthode groupBy() suivie de la methode agg() permet de grouper le df selon les catgories d'une ou plusieurs colonnes pour faire des calculs sur ces catégories.\n",
    "\n",
    "Calculez la moyenne de la colonnes sportivité selon le sexe des personnes."
   ]
  },
  {
   "cell_type": "code",
   "execution_count": null,
   "metadata": {},
   "outputs": [],
   "source": [
    "villes.groupby('sexe').agg({'sportivite': 'mean'}).collect()"
   ]
  },
  {
   "cell_type": "markdown",
   "metadata": {},
   "source": [
    "Calculez la moyenne de la colonne age et la valeur max de la colonne sportivité par sexe."
   ]
  },
  {
   "cell_type": "code",
   "execution_count": null,
   "metadata": {},
   "outputs": [],
   "source": [
    "villes.groupby('sexe').agg({\n",
    "    'sportivite': 'max',\n",
    "    'age': 'mean'\n",
    "}).collect()"
   ]
  },
  {
   "cell_type": "markdown",
   "metadata": {},
   "source": [
    "Calculez la moyenne des colonnes vitesse_a_pied et vitesse_a_velo par sexe."
   ]
  },
  {
   "cell_type": "code",
   "execution_count": null,
   "metadata": {},
   "outputs": [],
   "source": [
    "villes.groupby('sexe').agg({\n",
    "    'vitesse_a_pied': 'mean',\n",
    "    'vitesse_a_velo': 'mean'\n",
    "}).collect()"
   ]
  },
  {
   "cell_type": "markdown",
   "metadata": {},
   "source": [
    "## 4.3) summary \n",
    "La méthode summary() permet des faire des calculs statistiques de base sur toutes les colonnes du df.\n"
   ]
  },
  {
   "cell_type": "code",
   "execution_count": null,
   "metadata": {
    "collapsed": false,
    "jupyter": {
     "outputs_hidden": false
    }
   },
   "outputs": [],
   "source": []
  },
  {
   "cell_type": "code",
   "execution_count": 23,
   "metadata": {},
   "outputs": [
    {
     "name": "stderr",
     "output_type": "stream",
     "text": [
      "                                                                                \r"
     ]
    },
    {
     "data": {
      "text/plain": [
       "[Row(summary='count', id='50', vitesse_a_pied='50', vitesse_a_velo='50', home='50', travail='50', statut='50', salaire='50', sexe='50', age='50', sportivite='50', velo_perf_minimale='50'),\n",
       " Row(summary='max', id='51', vitesse_a_pied='2.344207322136085', vitesse_a_velo='6.251219525696226', home='(lon:3.90 lat:0.62)', travail='(lon:3.91 lat:3.22)', statut='éboueur', salaire='148702.7189509448', sexe='H', age='83', sportivite='7.814024407120282', velo_perf_minimale='0.4')]"
      ]
     },
     "execution_count": 23,
     "metadata": {},
     "output_type": "execute_result"
    }
   ],
   "source": [
    "villes.summary(\"count\", \"max\").collect()"
   ]
  },
  {
   "cell_type": "markdown",
   "metadata": {},
   "source": [
    "## 4.4) union de dataframe"
   ]
  },
  {
   "cell_type": "markdown",
   "metadata": {},
   "source": [
    "#### ajouter les colonnes les unes à côté des autres : join"
   ]
  },
  {
   "cell_type": "code",
   "execution_count": null,
   "metadata": {},
   "outputs": [],
   "source": [
    "villes.join(villes, on=\"id\").printSchema()"
   ]
  },
  {
   "cell_type": "markdown",
   "metadata": {},
   "source": [
    "#### ajouter les lignes les unes sous les autres : union"
   ]
  },
  {
   "cell_type": "code",
   "execution_count": null,
   "metadata": {},
   "outputs": [],
   "source": [
    "villes.unionByName(villes).count()"
   ]
  },
  {
   "cell_type": "markdown",
   "metadata": {},
   "source": [
    "## 4.5) filtre"
   ]
  },
  {
   "cell_type": "code",
   "execution_count": 25,
   "metadata": {},
   "outputs": [
    {
     "data": {
      "text/plain": [
       "21"
      ]
     },
     "execution_count": 25,
     "metadata": {},
     "output_type": "execute_result"
    }
   ],
   "source": [
    "villes.where(villes.sexe==\"F\").count()"
   ]
  },
  {
   "cell_type": "markdown",
   "metadata": {},
   "source": [
    "## 4.6) concaténation de colonne : F.concat"
   ]
  },
  {
   "cell_type": "code",
   "execution_count": null,
   "metadata": {},
   "outputs": [],
   "source": [
    "from pyspark.sql.types import *\n",
    "from pyspark.sql       import functions as F"
   ]
  },
  {
   "cell_type": "markdown",
   "metadata": {},
   "source": [
    "Nous allons ici reprendre le df cyclistes.\n",
    "\n",
    "Utiliser les méthodes withColumn() et F.concat() pour ajouter une colonne au df qui contiendra la concatenation des valeurs des colonnes id et sur_velo. "
   ]
  },
  {
   "cell_type": "code",
   "execution_count": null,
   "metadata": {},
   "outputs": [],
   "source": [
    "path = \"./data_velo/Cyclistes/*.csv\" \n",
    "tous_les_cyclistes = spark.read.format(\"csv\").option(\"header\", \"true\").load(path, inferSchema=True)\n",
    "tous_les_cyclistes.count()\n",
    "tous_les_cyclistes.withColumn(\"id_sur_velo\", F.concat(tous_les_cyclistes.id,  tous_les_cyclistes.sur_velo)).first()"
   ]
  },
  {
   "cell_type": "markdown",
   "metadata": {},
   "source": [
    "# 5) udf \n",
    "Il est possible d'enregistrer des fonctions python que l'on écrit nous même pour les appliquer sur une colonne d'une dataframe, c'est ce qu'on appelle les udf, pour User Defined Functions"
   ]
  },
  {
   "cell_type": "code",
   "execution_count": null,
   "metadata": {},
   "outputs": [],
   "source": [
    "from pyspark.sql.types     import *\n",
    "from pyspark.sql.functions import udf\n",
    "\n",
    "@udf(returnType = FloatType())\n",
    "def cube(colonne):\n",
    "    return colonne*colonne"
   ]
  },
  {
   "cell_type": "code",
   "execution_count": null,
   "metadata": {},
   "outputs": [],
   "source": [
    "villes.select(cube(\"salaire\")).show()"
   ]
  },
  {
   "cell_type": "code",
   "execution_count": null,
   "metadata": {},
   "outputs": [],
   "source": [
    "villes.select(cube(villes.salaire)).show()"
   ]
  },
  {
   "cell_type": "code",
   "execution_count": null,
   "metadata": {},
   "outputs": [],
   "source": [
    "villes.select(cube(\"salaire\")).collect()\n",
    "#villes.withColumn(\"salaire\",cube(\"salaire\")).collect()"
   ]
  },
  {
   "cell_type": "markdown",
   "metadata": {},
   "source": [
    "# 6)\tEtude de cas : analyse des fichiers de logs des cyclistes"
   ]
  },
  {
   "cell_type": "code",
   "execution_count": 2,
   "metadata": {},
   "outputs": [],
   "source": [
    "from pyspark.sql.types import *\n",
    "from pyspark.sql       import functions as F\n",
    "from pyspark.sql.types     import *\n",
    "from pyspark.sql.functions import udf"
   ]
  },
  {
   "cell_type": "markdown",
   "metadata": {},
   "source": []
  },
  {
   "cell_type": "code",
   "execution_count": 41,
   "metadata": {
    "collapsed": false,
    "jupyter": {
     "outputs_hidden": false
    }
   },
   "outputs": [],
   "source": []
  },
  {
   "cell_type": "markdown",
   "metadata": {},
   "source": [
    "## 6.1)  Charger la donnée dans un df nommé cycliste"
   ]
  },
  {
   "cell_type": "markdown",
   "metadata": {},
   "source": []
  },
  {
   "cell_type": "code",
   "execution_count": 3,
   "metadata": {},
   "outputs": [
    {
     "name": "stderr",
     "output_type": "stream",
     "text": [
      "                                                                                \r"
     ]
    }
   ],
   "source": [
    "path = \"./data_velo/Cyclistes\"\n",
    "cyclistes = spark.read.format('csv').options(header=True, inferSchema=True).load(path)"
   ]
  },
  {
   "cell_type": "markdown",
   "metadata": {},
   "source": [
    "## 6.2) vérifier le nombre de cycles\n",
    "\n",
    "Comptez le nombre d'id uniques."
   ]
  },
  {
   "cell_type": "code",
   "execution_count": 43,
   "metadata": {},
   "outputs": [
    {
     "name": "stderr",
     "output_type": "stream",
     "text": [
      "[Stage 140:===============================================>     (179 + 1) / 200]\r"
     ]
    },
    {
     "name": "stdout",
     "output_type": "stream",
     "text": [
      "+------------------+\n",
      "|count(DISTINCT id)|\n",
      "+------------------+\n",
      "|                50|\n",
      "+------------------+\n",
      "\n"
     ]
    },
    {
     "name": "stderr",
     "output_type": "stream",
     "text": [
      "                                                                                \r"
     ]
    }
   ],
   "source": [
    "cyclistes.select(F.countDistinct('id')).show()"
   ]
  },
  {
   "cell_type": "code",
   "execution_count": 44,
   "metadata": {
    "collapsed": false,
    "jupyter": {
     "outputs_hidden": false
    }
   },
   "outputs": [
    {
     "name": "stderr",
     "output_type": "stream",
     "text": [
      "                                                                                \r"
     ]
    },
    {
     "data": {
      "text/plain": [
       "50"
      ]
     },
     "execution_count": 44,
     "metadata": {},
     "output_type": "execute_result"
    }
   ],
   "source": [
    "cyclistes.select('id').distinct().count()"
   ]
  },
  {
   "cell_type": "markdown",
   "metadata": {},
   "source": []
  },
  {
   "cell_type": "markdown",
   "metadata": {},
   "source": [
    "## 6.3) transformer les timestamp en date\n",
    "\n",
    "Voici une fonction qui permert de récuperer la date sous forme de chaîne de caractère dans la colonne timestamps pour la transformer en date exploitable en tant que telle.\n",
    "\n",
    "Créez une nouvelle colonne dans votre df cycliste stockant le résultat de cette fonction."
   ]
  },
  {
   "cell_type": "code",
   "execution_count": 4,
   "metadata": {},
   "outputs": [],
   "source": [
    "from pyspark.sql.types import TimestampType\n",
    "\n",
    "@udf(returnType = TimestampType())\n",
    "def transform_timestamp_in_date(timestamp):\n",
    "    from datetime import datetime\n",
    "    return datetime.strptime(str(timestamp), \"%Y-%m-%d %H:%M:%S\")"
   ]
  },
  {
   "cell_type": "code",
   "execution_count": 5,
   "metadata": {},
   "outputs": [],
   "source": [
    "newDf = cyclistes.withColumn('date', transform_timestamp_in_date(cyclistes.timestamp))"
   ]
  },
  {
   "cell_type": "code",
   "execution_count": 14,
   "metadata": {},
   "outputs": [],
   "source": []
  },
  {
   "cell_type": "markdown",
   "metadata": {},
   "source": [
    "## vérifier les comptes"
   ]
  },
  {
   "cell_type": "code",
   "execution_count": 14,
   "metadata": {},
   "outputs": [],
   "source": []
  },
  {
   "cell_type": "code",
   "execution_count": 6,
   "metadata": {},
   "outputs": [
    {
     "name": "stderr",
     "output_type": "stream",
     "text": [
      "[Stage 3:>                                                          (0 + 1) / 1]\r"
     ]
    },
    {
     "name": "stdout",
     "output_type": "stream",
     "text": [
      "+---+-------------------+--------+-----+--------------------+-------------------+------------------+-------------------+\n",
      "| id|          timestamp|sur_velo| velo|             vitesse|           position|destination_finale|               date|\n",
      "+---+-------------------+--------+-----+--------------------+-------------------+------------------+-------------------+\n",
      "| 12|2018-01-01 00:01:00|   false|False|0.030000000000000006|(lon:2.07 lat:1.24)|             False|2018-01-01 00:01:00|\n",
      "| 12|2018-01-01 00:02:00|   false|False|0.030000000000000006|(lon:2.07 lat:1.24)|             False|2018-01-01 00:02:00|\n",
      "| 12|2018-01-01 00:03:00|   false|False|0.030000000000000006|(lon:2.07 lat:1.24)|             False|2018-01-01 00:03:00|\n",
      "| 12|2018-01-01 00:04:00|   false|False|0.030000000000000006|(lon:2.07 lat:1.24)|             False|2018-01-01 00:04:00|\n",
      "| 12|2018-01-01 00:05:00|   false|False|0.030000000000000006|(lon:2.07 lat:1.24)|             False|2018-01-01 00:05:00|\n",
      "| 12|2018-01-01 00:06:00|   false|False|0.030000000000000006|(lon:2.07 lat:1.24)|             False|2018-01-01 00:06:00|\n",
      "| 12|2018-01-01 00:07:00|   false|False|0.030000000000000006|(lon:2.07 lat:1.24)|             False|2018-01-01 00:07:00|\n",
      "| 12|2018-01-01 00:08:00|   false|False|0.030000000000000006|(lon:2.07 lat:1.24)|             False|2018-01-01 00:08:00|\n",
      "| 12|2018-01-01 00:09:00|   false|False|0.030000000000000006|(lon:2.07 lat:1.24)|             False|2018-01-01 00:09:00|\n",
      "| 12|2018-01-01 00:10:00|   false|False|0.030000000000000006|(lon:2.07 lat:1.24)|             False|2018-01-01 00:10:00|\n",
      "| 12|2018-01-01 00:11:00|   false|False|0.030000000000000006|(lon:2.07 lat:1.24)|             False|2018-01-01 00:11:00|\n",
      "| 12|2018-01-01 00:12:00|   false|False|0.030000000000000006|(lon:2.07 lat:1.24)|             False|2018-01-01 00:12:00|\n",
      "| 12|2018-01-01 00:13:00|   false|False|0.030000000000000006|(lon:2.07 lat:1.24)|             False|2018-01-01 00:13:00|\n",
      "| 12|2018-01-01 00:14:00|   false|False|0.030000000000000006|(lon:2.07 lat:1.24)|             False|2018-01-01 00:14:00|\n",
      "| 12|2018-01-01 00:15:00|   false|False|0.030000000000000006|(lon:2.07 lat:1.24)|             False|2018-01-01 00:15:00|\n",
      "| 12|2018-01-01 00:16:00|   false|False|0.030000000000000006|(lon:2.07 lat:1.24)|             False|2018-01-01 00:16:00|\n",
      "| 12|2018-01-01 00:17:00|   false|False|0.030000000000000006|(lon:2.07 lat:1.24)|             False|2018-01-01 00:17:00|\n",
      "| 12|2018-01-01 00:18:00|   false|False|0.030000000000000006|(lon:2.07 lat:1.24)|             False|2018-01-01 00:18:00|\n",
      "| 12|2018-01-01 00:19:00|   false|False|0.030000000000000006|(lon:2.07 lat:1.24)|             False|2018-01-01 00:19:00|\n",
      "| 12|2018-01-01 00:20:00|   false|False|0.030000000000000006|(lon:2.07 lat:1.24)|             False|2018-01-01 00:20:00|\n",
      "+---+-------------------+--------+-----+--------------------+-------------------+------------------+-------------------+\n",
      "only showing top 20 rows\n",
      "\n"
     ]
    },
    {
     "name": "stderr",
     "output_type": "stream",
     "text": [
      "                                                                                \r"
     ]
    }
   ],
   "source": [
    "newDf.show()"
   ]
  },
  {
   "cell_type": "markdown",
   "metadata": {},
   "source": [
    "## 6.4) Durée des trajets par id.\n",
    "\n",
    "A partir d'ici, il s'agit de traiter votre donnée pour récupérer la durée de chaque trajet effectué par chaque id.\n",
    "\n",
    "1) trouvez les dates min/max par état de sur_velo, puis par id ET par état de sur_velo."
   ]
  },
  {
   "cell_type": "code",
   "execution_count": 48,
   "metadata": {},
   "outputs": [
    {
     "name": "stderr",
     "output_type": "stream",
     "text": [
      "                                                                                \r"
     ]
    },
    {
     "data": {
      "text/plain": [
       "[Row(sur_velo=True, min(date)=datetime.datetime(2018, 1, 1, 1, 47), max(date)=datetime.datetime(2018, 1, 31, 21, 32)),\n",
       " Row(sur_velo=False, min(date)=datetime.datetime(2018, 1, 1, 0, 1), max(date)=datetime.datetime(2018, 2, 1, 0, 0))]"
      ]
     },
     "execution_count": 48,
     "metadata": {},
     "output_type": "execute_result"
    }
   ],
   "source": [
    "from pyspark.sql.functions import min, max\n",
    "newDf.groupby('sur_velo').agg(\n",
    "    min('date'),\n",
    "    max('date')).collect()"
   ]
  },
  {
   "cell_type": "code",
   "execution_count": 49,
   "metadata": {},
   "outputs": [
    {
     "name": "stderr",
     "output_type": "stream",
     "text": [
      "                                                                                \r"
     ]
    },
    {
     "data": {
      "text/plain": [
       "[Row(id=2, sur_velo=True, min(date)=datetime.datetime(2018, 1, 1, 12, 33), max(date)=datetime.datetime(2018, 1, 31, 20, 2)),\n",
       " Row(id=2, sur_velo=False, min(date)=datetime.datetime(2018, 1, 1, 0, 1), max(date)=datetime.datetime(2018, 2, 1, 0, 0)),\n",
       " Row(id=3, sur_velo=True, min(date)=datetime.datetime(2018, 1, 6, 6, 24), max(date)=datetime.datetime(2018, 1, 28, 19, 33)),\n",
       " Row(id=3, sur_velo=False, min(date)=datetime.datetime(2018, 1, 1, 0, 1), max(date)=datetime.datetime(2018, 2, 1, 0, 0)),\n",
       " Row(id=4, sur_velo=False, min(date)=datetime.datetime(2018, 1, 1, 0, 1), max(date)=datetime.datetime(2018, 2, 1, 0, 0)),\n",
       " Row(id=4, sur_velo=True, min(date)=datetime.datetime(2018, 1, 6, 9, 48), max(date)=datetime.datetime(2018, 1, 28, 15, 19)),\n",
       " Row(id=5, sur_velo=False, min(date)=datetime.datetime(2018, 1, 1, 0, 1), max(date)=datetime.datetime(2018, 2, 1, 0, 0)),\n",
       " Row(id=5, sur_velo=True, min(date)=datetime.datetime(2018, 1, 6, 12, 35), max(date)=datetime.datetime(2018, 1, 28, 16, 4)),\n",
       " Row(id=6, sur_velo=True, min(date)=datetime.datetime(2018, 1, 1, 7, 7), max(date)=datetime.datetime(2018, 1, 30, 20, 1)),\n",
       " Row(id=6, sur_velo=False, min(date)=datetime.datetime(2018, 1, 1, 0, 1), max(date)=datetime.datetime(2018, 2, 1, 0, 0)),\n",
       " Row(id=7, sur_velo=True, min(date)=datetime.datetime(2018, 1, 1, 6, 33), max(date)=datetime.datetime(2018, 1, 31, 18, 43)),\n",
       " Row(id=7, sur_velo=False, min(date)=datetime.datetime(2018, 1, 1, 0, 1), max(date)=datetime.datetime(2018, 2, 1, 0, 0)),\n",
       " Row(id=8, sur_velo=True, min(date)=datetime.datetime(2018, 1, 6, 5, 14), max(date)=datetime.datetime(2018, 1, 28, 19, 44)),\n",
       " Row(id=8, sur_velo=False, min(date)=datetime.datetime(2018, 1, 1, 0, 1), max(date)=datetime.datetime(2018, 2, 1, 0, 0)),\n",
       " Row(id=9, sur_velo=True, min(date)=datetime.datetime(2018, 1, 6, 6, 54), max(date)=datetime.datetime(2018, 1, 28, 14, 3)),\n",
       " Row(id=9, sur_velo=False, min(date)=datetime.datetime(2018, 1, 1, 0, 1), max(date)=datetime.datetime(2018, 2, 1, 0, 0)),\n",
       " Row(id=10, sur_velo=True, min(date)=datetime.datetime(2018, 1, 1, 8, 35), max(date)=datetime.datetime(2018, 1, 30, 17, 32)),\n",
       " Row(id=10, sur_velo=False, min(date)=datetime.datetime(2018, 1, 1, 0, 1), max(date)=datetime.datetime(2018, 2, 1, 0, 0)),\n",
       " Row(id=11, sur_velo=True, min(date)=datetime.datetime(2018, 1, 1, 7, 48), max(date)=datetime.datetime(2018, 1, 31, 14, 5)),\n",
       " Row(id=11, sur_velo=False, min(date)=datetime.datetime(2018, 1, 1, 0, 1), max(date)=datetime.datetime(2018, 2, 1, 0, 0)),\n",
       " Row(id=12, sur_velo=True, min(date)=datetime.datetime(2018, 1, 1, 8, 57), max(date)=datetime.datetime(2018, 1, 31, 16, 49)),\n",
       " Row(id=12, sur_velo=False, min(date)=datetime.datetime(2018, 1, 1, 0, 1), max(date)=datetime.datetime(2018, 2, 1, 0, 0)),\n",
       " Row(id=13, sur_velo=False, min(date)=datetime.datetime(2018, 1, 1, 0, 1), max(date)=datetime.datetime(2018, 2, 1, 0, 0)),\n",
       " Row(id=13, sur_velo=True, min(date)=datetime.datetime(2018, 1, 1, 11, 1), max(date)=datetime.datetime(2018, 1, 30, 20, 51)),\n",
       " Row(id=14, sur_velo=False, min(date)=datetime.datetime(2018, 1, 1, 0, 1), max(date)=datetime.datetime(2018, 2, 1, 0, 0)),\n",
       " Row(id=14, sur_velo=True, min(date)=datetime.datetime(2018, 1, 1, 7, 48), max(date)=datetime.datetime(2018, 1, 31, 17, 35)),\n",
       " Row(id=15, sur_velo=True, min(date)=datetime.datetime(2018, 1, 1, 10, 19), max(date)=datetime.datetime(2018, 1, 31, 20, 31)),\n",
       " Row(id=15, sur_velo=False, min(date)=datetime.datetime(2018, 1, 1, 0, 1), max(date)=datetime.datetime(2018, 2, 1, 0, 0)),\n",
       " Row(id=16, sur_velo=False, min(date)=datetime.datetime(2018, 1, 1, 0, 1), max(date)=datetime.datetime(2018, 2, 1, 0, 0)),\n",
       " Row(id=16, sur_velo=True, min(date)=datetime.datetime(2018, 1, 1, 5, 16), max(date)=datetime.datetime(2018, 1, 31, 19, 9)),\n",
       " Row(id=17, sur_velo=True, min(date)=datetime.datetime(2018, 1, 6, 8, 33), max(date)=datetime.datetime(2018, 1, 28, 15, 35)),\n",
       " Row(id=17, sur_velo=False, min(date)=datetime.datetime(2018, 1, 1, 0, 1), max(date)=datetime.datetime(2018, 2, 1, 0, 0)),\n",
       " Row(id=18, sur_velo=True, min(date)=datetime.datetime(2018, 1, 6, 2, 28), max(date)=datetime.datetime(2018, 1, 28, 16, 50)),\n",
       " Row(id=18, sur_velo=False, min(date)=datetime.datetime(2018, 1, 1, 0, 1), max(date)=datetime.datetime(2018, 2, 1, 0, 0)),\n",
       " Row(id=19, sur_velo=True, min(date)=datetime.datetime(2018, 1, 1, 8, 12), max(date)=datetime.datetime(2018, 1, 31, 18, 34)),\n",
       " Row(id=19, sur_velo=False, min(date)=datetime.datetime(2018, 1, 1, 0, 1), max(date)=datetime.datetime(2018, 2, 1, 0, 0)),\n",
       " Row(id=20, sur_velo=False, min(date)=datetime.datetime(2018, 1, 1, 0, 1), max(date)=datetime.datetime(2018, 2, 1, 0, 0)),\n",
       " Row(id=20, sur_velo=True, min(date)=datetime.datetime(2018, 1, 1, 6, 19), max(date)=datetime.datetime(2018, 1, 31, 15, 40)),\n",
       " Row(id=21, sur_velo=False, min(date)=datetime.datetime(2018, 1, 1, 0, 1), max(date)=datetime.datetime(2018, 2, 1, 0, 0)),\n",
       " Row(id=21, sur_velo=True, min(date)=datetime.datetime(2018, 1, 1, 8, 51), max(date)=datetime.datetime(2018, 1, 31, 14, 43)),\n",
       " Row(id=22, sur_velo=False, min(date)=datetime.datetime(2018, 1, 1, 0, 1), max(date)=datetime.datetime(2018, 2, 1, 0, 0)),\n",
       " Row(id=22, sur_velo=True, min(date)=datetime.datetime(2018, 1, 1, 5, 42), max(date)=datetime.datetime(2018, 1, 31, 14, 14)),\n",
       " Row(id=23, sur_velo=False, min(date)=datetime.datetime(2018, 1, 1, 0, 1), max(date)=datetime.datetime(2018, 2, 1, 0, 0)),\n",
       " Row(id=23, sur_velo=True, min(date)=datetime.datetime(2018, 1, 1, 5, 41), max(date)=datetime.datetime(2018, 1, 31, 16, 1)),\n",
       " Row(id=24, sur_velo=True, min(date)=datetime.datetime(2018, 1, 1, 8, 57), max(date)=datetime.datetime(2018, 1, 31, 19, 16)),\n",
       " Row(id=24, sur_velo=False, min(date)=datetime.datetime(2018, 1, 1, 0, 1), max(date)=datetime.datetime(2018, 2, 1, 0, 0)),\n",
       " Row(id=25, sur_velo=True, min(date)=datetime.datetime(2018, 1, 1, 11, 27), max(date)=datetime.datetime(2018, 1, 30, 11, 30)),\n",
       " Row(id=25, sur_velo=False, min(date)=datetime.datetime(2018, 1, 1, 0, 1), max(date)=datetime.datetime(2018, 2, 1, 0, 0)),\n",
       " Row(id=26, sur_velo=False, min(date)=datetime.datetime(2018, 1, 1, 0, 1), max(date)=datetime.datetime(2018, 2, 1, 0, 0)),\n",
       " Row(id=26, sur_velo=True, min(date)=datetime.datetime(2018, 1, 1, 7, 50), max(date)=datetime.datetime(2018, 1, 30, 18, 6)),\n",
       " Row(id=27, sur_velo=False, min(date)=datetime.datetime(2018, 1, 1, 0, 1), max(date)=datetime.datetime(2018, 2, 1, 0, 0)),\n",
       " Row(id=27, sur_velo=True, min(date)=datetime.datetime(2018, 1, 6, 11, 44), max(date)=datetime.datetime(2018, 1, 28, 19, 49)),\n",
       " Row(id=28, sur_velo=True, min(date)=datetime.datetime(2018, 1, 1, 7, 45), max(date)=datetime.datetime(2018, 1, 31, 21, 25)),\n",
       " Row(id=28, sur_velo=False, min(date)=datetime.datetime(2018, 1, 1, 0, 1), max(date)=datetime.datetime(2018, 2, 1, 0, 0)),\n",
       " Row(id=29, sur_velo=False, min(date)=datetime.datetime(2018, 1, 1, 0, 1), max(date)=datetime.datetime(2018, 2, 1, 0, 0)),\n",
       " Row(id=29, sur_velo=True, min(date)=datetime.datetime(2018, 1, 1, 5, 24), max(date)=datetime.datetime(2018, 1, 30, 22, 29)),\n",
       " Row(id=30, sur_velo=False, min(date)=datetime.datetime(2018, 1, 1, 0, 1), max(date)=datetime.datetime(2018, 2, 1, 0, 0)),\n",
       " Row(id=30, sur_velo=True, min(date)=datetime.datetime(2018, 1, 1, 1, 47), max(date)=datetime.datetime(2018, 1, 31, 16, 56)),\n",
       " Row(id=31, sur_velo=True, min(date)=datetime.datetime(2018, 1, 1, 9, 55), max(date)=datetime.datetime(2018, 1, 31, 20, 50)),\n",
       " Row(id=31, sur_velo=False, min(date)=datetime.datetime(2018, 1, 1, 0, 1), max(date)=datetime.datetime(2018, 2, 1, 0, 0)),\n",
       " Row(id=32, sur_velo=True, min(date)=datetime.datetime(2018, 1, 1, 12, 11), max(date)=datetime.datetime(2018, 1, 30, 17, 38)),\n",
       " Row(id=32, sur_velo=False, min(date)=datetime.datetime(2018, 1, 1, 0, 1), max(date)=datetime.datetime(2018, 2, 1, 0, 0)),\n",
       " Row(id=33, sur_velo=True, min(date)=datetime.datetime(2018, 1, 6, 5, 34), max(date)=datetime.datetime(2018, 1, 28, 10, 5)),\n",
       " Row(id=33, sur_velo=False, min(date)=datetime.datetime(2018, 1, 1, 0, 1), max(date)=datetime.datetime(2018, 2, 1, 0, 0)),\n",
       " Row(id=34, sur_velo=False, min(date)=datetime.datetime(2018, 1, 1, 0, 1), max(date)=datetime.datetime(2018, 2, 1, 0, 0)),\n",
       " Row(id=34, sur_velo=True, min(date)=datetime.datetime(2018, 1, 6, 10, 25), max(date)=datetime.datetime(2018, 1, 28, 12, 30)),\n",
       " Row(id=35, sur_velo=False, min(date)=datetime.datetime(2018, 1, 1, 0, 1), max(date)=datetime.datetime(2018, 2, 1, 0, 0)),\n",
       " Row(id=35, sur_velo=True, min(date)=datetime.datetime(2018, 1, 1, 9, 44), max(date)=datetime.datetime(2018, 1, 30, 20, 28)),\n",
       " Row(id=36, sur_velo=True, min(date)=datetime.datetime(2018, 1, 1, 8, 47), max(date)=datetime.datetime(2018, 1, 31, 21, 32)),\n",
       " Row(id=36, sur_velo=False, min(date)=datetime.datetime(2018, 1, 1, 0, 1), max(date)=datetime.datetime(2018, 2, 1, 0, 0)),\n",
       " Row(id=37, sur_velo=False, min(date)=datetime.datetime(2018, 1, 1, 0, 1), max(date)=datetime.datetime(2018, 2, 1, 0, 0)),\n",
       " Row(id=37, sur_velo=True, min(date)=datetime.datetime(2018, 1, 1, 5, 15), max(date)=datetime.datetime(2018, 1, 31, 17, 5)),\n",
       " Row(id=38, sur_velo=False, min(date)=datetime.datetime(2018, 1, 1, 0, 1), max(date)=datetime.datetime(2018, 2, 1, 0, 0)),\n",
       " Row(id=38, sur_velo=True, min(date)=datetime.datetime(2018, 1, 1, 10, 9), max(date)=datetime.datetime(2018, 1, 30, 20, 20)),\n",
       " Row(id=39, sur_velo=False, min(date)=datetime.datetime(2018, 1, 1, 0, 1), max(date)=datetime.datetime(2018, 2, 1, 0, 0)),\n",
       " Row(id=39, sur_velo=True, min(date)=datetime.datetime(2018, 1, 6, 7, 9), max(date)=datetime.datetime(2018, 1, 28, 19, 20)),\n",
       " Row(id=40, sur_velo=True, min(date)=datetime.datetime(2018, 1, 1, 10, 55), max(date)=datetime.datetime(2018, 1, 30, 18, 30)),\n",
       " Row(id=40, sur_velo=False, min(date)=datetime.datetime(2018, 1, 1, 0, 1), max(date)=datetime.datetime(2018, 2, 1, 0, 0)),\n",
       " Row(id=41, sur_velo=False, min(date)=datetime.datetime(2018, 1, 1, 0, 1), max(date)=datetime.datetime(2018, 2, 1, 0, 0)),\n",
       " Row(id=41, sur_velo=True, min(date)=datetime.datetime(2018, 1, 1, 8, 38), max(date)=datetime.datetime(2018, 1, 31, 20, 35)),\n",
       " Row(id=42, sur_velo=False, min(date)=datetime.datetime(2018, 1, 1, 0, 1), max(date)=datetime.datetime(2018, 2, 1, 0, 0)),\n",
       " Row(id=42, sur_velo=True, min(date)=datetime.datetime(2018, 1, 1, 5, 57), max(date)=datetime.datetime(2018, 1, 31, 19, 25)),\n",
       " Row(id=43, sur_velo=True, min(date)=datetime.datetime(2018, 1, 1, 7, 44), max(date)=datetime.datetime(2018, 1, 30, 18, 53)),\n",
       " Row(id=43, sur_velo=False, min(date)=datetime.datetime(2018, 1, 1, 0, 1), max(date)=datetime.datetime(2018, 2, 1, 0, 0)),\n",
       " Row(id=44, sur_velo=True, min(date)=datetime.datetime(2018, 1, 6, 14, 4), max(date)=datetime.datetime(2018, 1, 28, 18, 29)),\n",
       " Row(id=44, sur_velo=False, min(date)=datetime.datetime(2018, 1, 1, 0, 1), max(date)=datetime.datetime(2018, 2, 1, 0, 0)),\n",
       " Row(id=45, sur_velo=True, min(date)=datetime.datetime(2018, 1, 1, 8, 10), max(date)=datetime.datetime(2018, 1, 31, 20, 42)),\n",
       " Row(id=45, sur_velo=False, min(date)=datetime.datetime(2018, 1, 1, 0, 1), max(date)=datetime.datetime(2018, 2, 1, 0, 0)),\n",
       " Row(id=46, sur_velo=False, min(date)=datetime.datetime(2018, 1, 1, 0, 1), max(date)=datetime.datetime(2018, 2, 1, 0, 0)),\n",
       " Row(id=46, sur_velo=True, min(date)=datetime.datetime(2018, 1, 6, 12, 17), max(date)=datetime.datetime(2018, 1, 28, 13, 31)),\n",
       " Row(id=47, sur_velo=True, min(date)=datetime.datetime(2018, 1, 1, 4, 9), max(date)=datetime.datetime(2018, 1, 30, 16, 14)),\n",
       " Row(id=47, sur_velo=False, min(date)=datetime.datetime(2018, 1, 1, 0, 1), max(date)=datetime.datetime(2018, 2, 1, 0, 0)),\n",
       " Row(id=48, sur_velo=True, min(date)=datetime.datetime(2018, 1, 1, 2, 15), max(date)=datetime.datetime(2018, 1, 31, 17, 57)),\n",
       " Row(id=48, sur_velo=False, min(date)=datetime.datetime(2018, 1, 1, 0, 1), max(date)=datetime.datetime(2018, 2, 1, 0, 0)),\n",
       " Row(id=49, sur_velo=False, min(date)=datetime.datetime(2018, 1, 1, 0, 1), max(date)=datetime.datetime(2018, 2, 1, 0, 0)),\n",
       " Row(id=49, sur_velo=True, min(date)=datetime.datetime(2018, 1, 6, 3, 8), max(date)=datetime.datetime(2018, 1, 28, 16, 53)),\n",
       " Row(id=50, sur_velo=False, min(date)=datetime.datetime(2018, 1, 1, 0, 1), max(date)=datetime.datetime(2018, 2, 1, 0, 0)),\n",
       " Row(id=50, sur_velo=True, min(date)=datetime.datetime(2018, 1, 1, 10, 12), max(date)=datetime.datetime(2018, 1, 31, 17, 47)),\n",
       " Row(id=51, sur_velo=False, min(date)=datetime.datetime(2018, 1, 1, 0, 1), max(date)=datetime.datetime(2018, 2, 1, 0, 0)),\n",
       " Row(id=51, sur_velo=True, min(date)=datetime.datetime(2018, 1, 1, 6, 29), max(date)=datetime.datetime(2018, 1, 30, 14, 48))]"
      ]
     },
     "execution_count": 49,
     "metadata": {},
     "output_type": "execute_result"
    }
   ],
   "source": [
    "newDf.groupby(['id', 'sur_velo']).agg(\n",
    "    min('date'),\n",
    "    max('date')\n",
    ").sort('id').collect()"
   ]
  },
  {
   "cell_type": "code",
   "execution_count": 17,
   "metadata": {},
   "outputs": [],
   "source": []
  },
  {
   "cell_type": "markdown",
   "metadata": {},
   "source": [
    "## 6.5) détecter les changements d'états \"sur un vélo\" ou pas : window et lag\n",
    "2) Le résultat n'est pas trés pertinent, il faudrait plutôt le début et la fin de chaque trajet par id. Pour cela, il faudrait détecter les changements d'états \"sur_vélo\".\n",
    "Utilisez la classe Window() et la fonction F.lag() pour créer une nouvelle colonne que vous appellerez changement, contenant un 0 si l'état précedent de sur_velo est le même et un 1 si l'état vient de changer (fonction changement() ci-dessous) pour chaque id."
   ]
  },
  {
   "cell_type": "code",
   "execution_count": null,
   "metadata": {
    "collapsed": false,
    "jupyter": {
     "outputs_hidden": false
    }
   },
   "outputs": [],
   "source": []
  },
  {
   "cell_type": "code",
   "execution_count": 7,
   "metadata": {},
   "outputs": [],
   "source": [
    "from pyspark.sql.functions import udf"
   ]
  },
  {
   "cell_type": "code",
   "execution_count": 13,
   "metadata": {},
   "outputs": [],
   "source": [
    "@udf(returnType = IntegerType())\n",
    "def changement(etat_actuel, etat_precedent):\n",
    "    \"\"\"\n",
    "    Détecte si les deux états sont différent.\n",
    "    \n",
    "    Parametres :\n",
    "        etat_actuel : valeur sur la ligne courante\n",
    "                      renvoyée par F.lag (0)\n",
    "        etat_precedent : valeur sur la ligne précédente\n",
    "                      renvoyée par F.lag(1)\n",
    "    Return: 0 s'ils sont égaux, 1 s'il y a une différence\n",
    "    \"\"\"\n",
    "    if etat_precedent == None:\n",
    "        return 0\n",
    "    if etat_actuel == True and etat_precedent == False:\n",
    "        return 1\n",
    "    return 0\n",
    "    #if etat_precedent == None:\n",
    "    #    return 0\n",
    "    #if etat_precedent == etat_actuel:\n",
    "    #    return 0\n",
    "    #if etat_actuel != etat_precedent:\n",
    "    #    return 1"
   ]
  },
  {
   "cell_type": "code",
   "execution_count": 14,
   "metadata": {},
   "outputs": [],
   "source": [
    "from pyspark.sql.window import Window\n",
    "#w = Window.orderBy([\"id\", \"date\"])\n",
    "w = Window.partitionBy(newDf['id']).orderBy([\"date\"])"
   ]
  },
  {
   "cell_type": "code",
   "execution_count": 14,
   "metadata": {
    "collapsed": false,
    "jupyter": {
     "outputs_hidden": false
    }
   },
   "outputs": [],
   "source": []
  },
  {
   "cell_type": "code",
   "execution_count": 15,
   "metadata": {},
   "outputs": [
    {
     "name": "stderr",
     "output_type": "stream",
     "text": [
      "                                                                                \r"
     ]
    },
    {
     "name": "stdout",
     "output_type": "stream",
     "text": [
      "+---+-------------------+--------+-----+------------------+-------------------+------------------+-------------------+----------+\n",
      "| id|          timestamp|sur_velo| velo|           vitesse|           position|destination_finale|               date|changement|\n",
      "+---+-------------------+--------+-----+------------------+-------------------+------------------+-------------------+----------+\n",
      "| 31|2018-01-01 00:01:00|   false|False|0.4391143174353239|(lon:1.76 lat:2.02)|             False|2018-01-01 00:01:00|         0|\n",
      "| 31|2018-01-01 00:02:00|   false|False|0.4391143174353239|(lon:1.76 lat:2.02)|             False|2018-01-01 00:02:00|         0|\n",
      "| 31|2018-01-01 00:03:00|   false|False|0.4391143174353239|(lon:1.76 lat:2.02)|             False|2018-01-01 00:03:00|         0|\n",
      "| 31|2018-01-01 00:04:00|   false|False|0.4391143174353239|(lon:1.76 lat:2.02)|             False|2018-01-01 00:04:00|         0|\n",
      "| 31|2018-01-01 00:05:00|   false|False|0.4391143174353239|(lon:1.76 lat:2.02)|             False|2018-01-01 00:05:00|         0|\n",
      "| 31|2018-01-01 00:06:00|   false|False|0.4391143174353239|(lon:1.76 lat:2.02)|             False|2018-01-01 00:06:00|         0|\n",
      "| 31|2018-01-01 00:07:00|   false|False|0.4391143174353239|(lon:1.76 lat:2.02)|             False|2018-01-01 00:07:00|         0|\n",
      "| 31|2018-01-01 00:08:00|   false|False|0.4391143174353239|(lon:1.76 lat:2.02)|             False|2018-01-01 00:08:00|         0|\n",
      "| 31|2018-01-01 00:09:00|   false|False|0.4391143174353239|(lon:1.76 lat:2.02)|             False|2018-01-01 00:09:00|         0|\n",
      "| 31|2018-01-01 00:10:00|   false|False|0.4391143174353239|(lon:1.76 lat:2.02)|             False|2018-01-01 00:10:00|         0|\n",
      "| 31|2018-01-01 00:11:00|   false|False|0.4391143174353239|(lon:1.76 lat:2.02)|             False|2018-01-01 00:11:00|         0|\n",
      "| 31|2018-01-01 00:12:00|   false|False|0.4391143174353239|(lon:1.76 lat:2.02)|             False|2018-01-01 00:12:00|         0|\n",
      "| 31|2018-01-01 00:13:00|   false|False|0.4391143174353239|(lon:1.76 lat:2.02)|             False|2018-01-01 00:13:00|         0|\n",
      "| 31|2018-01-01 00:14:00|   false|False|0.4391143174353239|(lon:1.76 lat:2.02)|             False|2018-01-01 00:14:00|         0|\n",
      "| 31|2018-01-01 00:15:00|   false|False|0.4391143174353239|(lon:1.76 lat:2.02)|             False|2018-01-01 00:15:00|         0|\n",
      "| 31|2018-01-01 00:16:00|   false|False|0.4391143174353239|(lon:1.76 lat:2.02)|             False|2018-01-01 00:16:00|         0|\n",
      "| 31|2018-01-01 00:17:00|   false|False|0.4391143174353239|(lon:1.76 lat:2.02)|             False|2018-01-01 00:17:00|         0|\n",
      "| 31|2018-01-01 00:18:00|   false|False|0.4391143174353239|(lon:1.76 lat:2.02)|             False|2018-01-01 00:18:00|         0|\n",
      "| 31|2018-01-01 00:19:00|   false|False|0.4391143174353239|(lon:1.76 lat:2.02)|             False|2018-01-01 00:19:00|         0|\n",
      "| 31|2018-01-01 00:20:00|   false|False|0.4391143174353239|(lon:1.76 lat:2.02)|             False|2018-01-01 00:20:00|         0|\n",
      "+---+-------------------+--------+-----+------------------+-------------------+------------------+-------------------+----------+\n",
      "only showing top 20 rows\n",
      "\n"
     ]
    }
   ],
   "source": [
    "df_lag = newDf.withColumn('velo_precedent', F.lag(newDf['sur_velo']).over(w))\n",
    "df_with_change = df_lag.withColumn(\n",
    "    'changement',\n",
    "    changement('sur_velo', 'velo_precedent'))\\\n",
    "    .drop('velo_precedent')\n",
    "df_with_change.show()"
   ]
  },
  {
   "cell_type": "markdown",
   "metadata": {},
   "source": [
    "collecter les données d'un id et verifier sa position lors des changements d'etats\n",
    "\n",
    "Pour chaque/un id sortir les positions quand changement = 1"
   ]
  },
  {
   "cell_type": "code",
   "execution_count": 16,
   "metadata": {},
   "outputs": [
    {
     "name": "stderr",
     "output_type": "stream",
     "text": [
      "                                                                                \r"
     ]
    },
    {
     "name": "stdout",
     "output_type": "stream",
     "text": [
      "+---+-------------------+--------+--------------------+------------------+-------------------+-------------------+-------------------+----------+\n",
      "| id|          timestamp|sur_velo|                velo|           vitesse|           position| destination_finale|               date|changement|\n",
      "+---+-------------------+--------+--------------------+------------------+-------------------+-------------------+-------------------+----------+\n",
      "| 31|2018-01-01 09:55:00|    true|velo_velo_150_per...| 0.995325786186734|(lon:2.00 lat:2.00)|(lon:1.02 lat:2.26)|2018-01-01 09:55:00|         1|\n",
      "| 31|2018-01-01 20:48:00|    true|velo_velo_150_per...| 0.995325786186734|(lon:1.00 lat:2.00)|(lon:1.76 lat:2.02)|2018-01-01 20:48:00|         1|\n",
      "| 31|2018-01-02 09:55:00|    true|velo_velo_62_perf...| 0.995325786186734|(lon:2.00 lat:2.00)|(lon:1.02 lat:2.26)|2018-01-02 09:55:00|         1|\n",
      "| 31|2018-01-02 20:48:00|    true|velo_velo_46_perf...| 0.995325786186734|(lon:1.00 lat:2.00)|(lon:1.76 lat:2.02)|2018-01-02 20:48:00|         1|\n",
      "| 31|2018-01-03 09:55:00|    true|velo_velo_46_perf...| 0.995325786186734|(lon:2.00 lat:2.00)|(lon:1.02 lat:2.26)|2018-01-03 09:55:00|         1|\n",
      "| 31|2018-01-03 20:52:00|    true|velo_velo_176_per...| 0.995325786186734|(lon:1.00 lat:3.00)|(lon:1.76 lat:2.02)|2018-01-03 20:52:00|         1|\n",
      "| 31|2018-01-04 09:59:00|    true|velo_velo_92_perf...|1.0181370302978379|(lon:2.00 lat:3.00)|(lon:1.02 lat:2.26)|2018-01-04 09:59:00|         1|\n",
      "| 31|2018-01-04 20:48:00|    true|velo_velo_43_perf...| 0.995325786186734|(lon:1.00 lat:2.00)|(lon:1.76 lat:2.02)|2018-01-04 20:48:00|         1|\n",
      "| 31|2018-01-05 09:55:00|    true|velo_velo_43_perf...| 0.995325786186734|(lon:2.00 lat:2.00)|(lon:1.02 lat:2.26)|2018-01-05 09:55:00|         1|\n",
      "| 31|2018-01-05 20:48:00|    true|velo_velo_43_perf...| 0.995325786186734|(lon:1.00 lat:2.00)|(lon:1.76 lat:2.02)|2018-01-05 20:48:00|         1|\n",
      "| 31|2018-01-08 09:55:00|    true|velo_velo_141_per...| 0.995325786186734|(lon:2.00 lat:2.00)|(lon:1.02 lat:2.26)|2018-01-08 09:55:00|         1|\n",
      "| 31|2018-01-08 20:48:00|    true|velo_velo_141_per...| 0.995325786186734|(lon:1.00 lat:2.00)|(lon:1.76 lat:2.02)|2018-01-08 20:48:00|         1|\n",
      "| 31|2018-01-09 09:59:00|    true|velo_velo_129_per...| 0.995325786186734|(lon:2.00 lat:3.00)|(lon:1.02 lat:2.26)|2018-01-09 09:59:00|         1|\n",
      "| 31|2018-01-09 20:48:00|    true|velo_velo_42_perf...| 0.995325786186734|(lon:1.00 lat:2.00)|(lon:1.76 lat:2.02)|2018-01-09 20:48:00|         1|\n",
      "| 31|2018-01-10 09:55:00|    true|velo_velo_110_per...| 0.995325786186734|(lon:2.00 lat:2.00)|(lon:1.02 lat:2.26)|2018-01-10 09:55:00|         1|\n",
      "| 31|2018-01-10 20:48:00|    true|velo_velo_94_perf...| 0.995325786186734|(lon:1.00 lat:2.00)|(lon:1.76 lat:2.02)|2018-01-10 20:48:00|         1|\n",
      "| 31|2018-01-11 09:55:00|    true|velo_velo_67_perf...| 0.995325786186734|(lon:2.00 lat:2.00)|(lon:1.02 lat:2.26)|2018-01-11 09:55:00|         1|\n",
      "| 31|2018-01-11 20:48:00|    true|velo_velo_64_perf...|1.0691909779447086|(lon:1.00 lat:2.00)|(lon:1.76 lat:2.02)|2018-01-11 20:48:00|         1|\n",
      "| 31|2018-01-12 09:55:00|    true|velo_velo_165_per...| 0.995325786186734|(lon:2.00 lat:2.00)|(lon:1.02 lat:2.26)|2018-01-12 09:55:00|         1|\n",
      "| 31|2018-01-12 20:48:00|    true|velo_velo_165_per...| 0.995325786186734|(lon:1.00 lat:2.00)|(lon:1.76 lat:2.02)|2018-01-12 20:48:00|         1|\n",
      "+---+-------------------+--------+--------------------+------------------+-------------------+-------------------+-------------------+----------+\n",
      "only showing top 20 rows\n",
      "\n"
     ]
    }
   ],
   "source": [
    "df_with_change.filter((df_with_change['changement'] == 1)).show()"
   ]
  },
  {
   "cell_type": "markdown",
   "metadata": {},
   "source": [
    "\n",
    "## 6.6) somme partielle par sous groupe : windows\n",
    "Grâce à la fonction window appliquez la fonction somme() sur la colonne changement pour numeroter les trajets pour chaque id et stocker les résulats dans une nouvelle colonne appelée numero_de_trajet.\n",
    "\n",
    "\n",
    "\n",
    "[windows fonctions](https://www.quantmetry.com/blog/window-functions-spark/)\n"
   ]
  },
  {
   "cell_type": "markdown",
   "metadata": {},
   "source": []
  },
  {
   "cell_type": "code",
   "execution_count": 17,
   "metadata": {},
   "outputs": [],
   "source": [
    "@udf(returnType = IntegerType())\n",
    "def somme(indice_actuel, indice_precedent):\n",
    "    if indice_precedent == None:\n",
    "        return 0\n",
    "    return indice_actuel + indice_precedent"
   ]
  },
  {
   "cell_type": "code",
   "execution_count": 18,
   "metadata": {},
   "outputs": [
    {
     "name": "stderr",
     "output_type": "stream",
     "text": [
      "                                                                                \r"
     ]
    },
    {
     "name": "stdout",
     "output_type": "stream",
     "text": [
      "+---+-------------------+--------+--------------------+-------------------+-------------------+-------------------+-------------------+----------+----------------+\n",
      "| id|          timestamp|sur_velo|                velo|            vitesse|           position| destination_finale|               date|changement|numero_de_trajet|\n",
      "+---+-------------------+--------+--------------------+-------------------+-------------------+-------------------+-------------------+----------+----------------+\n",
      "|  5|2018-01-06 12:35:00|    true|velo_velo_130_per...| 0.0681250240393424|(lon:3.00 lat:4.00)|(lon:3.38 lat:2.93)|2018-01-06 12:35:00|         1|               1|\n",
      "|  5|2018-01-06 15:51:00|    true|velo_velo_120_per...|              0.068|(lon:3.00 lat:3.00)|(lon:2.88 lat:3.78)|2018-01-06 15:51:00|         1|               2|\n",
      "|  5|2018-01-07 12:35:00|    true|velo_velo_77_perf...|              0.068|(lon:3.00 lat:4.00)|(lon:3.38 lat:2.93)|2018-01-07 12:35:00|         1|               3|\n",
      "|  5|2018-01-07 15:51:00|    true|velo_velo_109_per...|              0.068|(lon:3.00 lat:3.00)|(lon:2.88 lat:3.78)|2018-01-07 15:51:00|         1|               4|\n",
      "|  5|2018-01-13 14:52:00|    true|velo_velo_143_per...|              0.068|(lon:4.00 lat:0.00)|(lon:3.38 lat:2.93)|2018-01-13 14:52:00|         1|               5|\n",
      "|  5|2018-01-13 16:04:00|    true|velo_velo_51_perf...|              0.068|(lon:3.00 lat:3.00)|(lon:2.88 lat:3.78)|2018-01-13 16:04:00|         1|               6|\n",
      "|  5|2018-01-14 12:35:00|    true|velo_velo_194_per...|              0.068|(lon:3.00 lat:4.00)|(lon:3.38 lat:2.93)|2018-01-14 12:35:00|         1|               7|\n",
      "|  5|2018-01-14 15:51:00|    true|velo_velo_194_per...|              0.068|(lon:3.00 lat:3.00)|(lon:2.88 lat:3.78)|2018-01-14 15:51:00|         1|               8|\n",
      "|  5|2018-01-20 12:35:00|    true|velo_velo_35_perf...|              0.068|(lon:3.00 lat:4.00)|(lon:3.38 lat:2.93)|2018-01-20 12:35:00|         1|               9|\n",
      "|  5|2018-01-20 15:51:00|    true|velo_velo_95_perf...|               0.04|(lon:3.00 lat:3.00)|(lon:2.88 lat:3.78)|2018-01-20 15:51:00|         1|              10|\n",
      "|  5|2018-01-21 12:35:00|    true|velo_velo_132_per...|              0.068|(lon:3.00 lat:4.00)|(lon:3.38 lat:2.93)|2018-01-21 12:35:00|         1|              11|\n",
      "|  5|2018-01-21 15:51:00|    true|velo_velo_35_perf...|              0.068|(lon:3.00 lat:3.00)|(lon:2.88 lat:3.78)|2018-01-21 15:51:00|         1|              12|\n",
      "|  5|2018-01-27 12:35:00|    true|velo_velo_32_perf...|              0.068|(lon:3.00 lat:4.00)|(lon:3.38 lat:2.93)|2018-01-27 12:35:00|         1|              13|\n",
      "|  5|2018-01-27 15:51:00|    true|velo_velo_184_per...|0.05840950642137871|(lon:3.00 lat:3.00)|(lon:2.88 lat:3.78)|2018-01-27 15:51:00|         1|              14|\n",
      "|  5|2018-01-28 12:35:00|    true|velo_velo_141_per...|              0.068|(lon:3.00 lat:4.00)|(lon:3.38 lat:2.93)|2018-01-28 12:35:00|         1|              15|\n",
      "|  5|2018-01-28 15:51:00|    true|velo_velo_128_per...|0.07670097870641097|(lon:3.00 lat:3.00)|(lon:2.88 lat:3.78)|2018-01-28 15:51:00|         1|              16|\n",
      "+---+-------------------+--------+--------------------+-------------------+-------------------+-------------------+-------------------+----------+----------------+\n",
      "\n"
     ]
    }
   ],
   "source": [
    "z=Window.orderBy(\"id\",\"date\").partitionBy(\"id\").rowsBetween(Window.unboundedPreceding,0)\n",
    "cycliste3=df_with_change\\\n",
    "    .filter(df_with_change['sur_velo'] == \"True\")\\\n",
    "    .withColumn(\"numero_de_trajet\",F.sum(\"changement\").over(z))\n",
    "cycliste3.filter((df_with_change['id'] == 5) & (df_with_change['changement'] == 1)).show()"
   ]
  },
  {
   "cell_type": "code",
   "execution_count": null,
   "metadata": {},
   "outputs": [],
   "source": []
  },
  {
   "cell_type": "code",
   "execution_count": null,
   "metadata": {},
   "outputs": [],
   "source": []
  },
  {
   "cell_type": "markdown",
   "metadata": {},
   "source": [
    "## 6.7) Calculer la durée du trajet\n",
    "\n",
    "Il suffit maintenant de repêter la première étape, c'est a dire récupérer la début et la fin de chaque trajet pour chaque id. Puis calculer la durée des trajets."
   ]
  },
  {
   "cell_type": "markdown",
   "metadata": {},
   "source": []
  },
  {
   "cell_type": "code",
   "execution_count": 19,
   "metadata": {},
   "outputs": [
    {
     "name": "stderr",
     "output_type": "stream",
     "text": [
      "                                                                                \r"
     ]
    },
    {
     "name": "stdout",
     "output_type": "stream",
     "text": [
      "+---+----------------+--------+\n",
      "| id|numero_de_trajet|duration|\n",
      "+---+----------------+--------+\n",
      "|  5|               1|    15.0|\n",
      "|  5|               2|    15.0|\n",
      "|  5|               3|    15.0|\n",
      "|  5|               4|    15.0|\n",
      "|  5|               5|    47.0|\n",
      "|  5|               6|    15.0|\n",
      "|  5|               7|    15.0|\n",
      "|  5|               8|    15.0|\n",
      "|  5|               9|    15.0|\n",
      "|  5|              10|   127.0|\n",
      "|  5|              11|    15.0|\n",
      "|  5|              12|    15.0|\n",
      "|  5|              13|    15.0|\n",
      "|  5|              14|    17.0|\n",
      "|  5|              15|    15.0|\n",
      "|  5|              16|    13.0|\n",
      "+---+----------------+--------+\n",
      "\n"
     ]
    },
    {
     "name": "stderr",
     "output_type": "stream",
     "text": [
      "                                                                                \r"
     ]
    }
   ],
   "source": [
    "wn = Window.partitionBy(['id', 'numero_de_trajet']).orderBy('date')\n",
    "groupedCyc = cycliste3.groupby(['id', 'numero_de_trajet'])\n",
    "\n",
    "agreg = groupedCyc.agg(((F.unix_timestamp(F.last('date')) - F.unix_timestamp(F.first('date')))/60).alias('duration'))\n",
    "#agreg = groupedCyc.agg((F.last('date')) - (F.first('date')).alias('duration'))\n",
    "#agreg.select((agreg['id'] == 5)).show()\n",
    "agreg.filter(agreg['id'] == '5').show()"
   ]
  },
  {
   "cell_type": "code",
   "execution_count": 17,
   "metadata": {},
   "outputs": [],
   "source": []
  },
  {
   "cell_type": "code",
   "execution_count": null,
   "metadata": {},
   "outputs": [],
   "source": []
  },
  {
   "cell_type": "markdown",
   "metadata": {},
   "source": [
    "# 7) datavisualisation\n",
    "Convertissez votre dataframe pyspark en dataframe pandas."
   ]
  },
  {
   "cell_type": "code",
   "execution_count": 20,
   "metadata": {},
   "outputs": [
    {
     "name": "stderr",
     "output_type": "stream",
     "text": [
      "                                                                                \r"
     ]
    }
   ],
   "source": [
    "import pandas as pds\n",
    "agredpd = agreg.toPandas()"
   ]
  },
  {
   "cell_type": "code",
   "execution_count": 22,
   "metadata": {},
   "outputs": [
    {
     "name": "stdout",
     "output_type": "stream",
     "text": [
      "      id  numero_de_trajet  duration\n",
      "0     31                 1       2.0\n",
      "1     31                 2       2.0\n",
      "2     31                 3       2.0\n",
      "3     31                 4       2.0\n",
      "4     31                 5       2.0\n",
      "...   ..               ...       ...\n",
      "1759  36                32      31.0\n",
      "1760  36                33       0.0\n",
      "1761  36                34      31.0\n",
      "1762  36                35       0.0\n",
      "1763  36                36      35.0\n",
      "\n",
      "[1764 rows x 3 columns]\n"
     ]
    }
   ],
   "source": [
    "print(agredpd)"
   ]
  },
  {
   "cell_type": "markdown",
   "metadata": {},
   "source": [
    "A l'aide de la librairie seaborn, réalisez un graphique en barre montrant la durée de tout les trajets."
   ]
  },
  {
   "cell_type": "code",
   "execution_count": 23,
   "metadata": {},
   "outputs": [],
   "source": [
    "import seaborn as sns"
   ]
  },
  {
   "cell_type": "code",
   "execution_count": 24,
   "metadata": {
    "collapsed": false,
    "jupyter": {
     "outputs_hidden": false
    }
   },
   "outputs": [],
   "source": [
    "sns.set_theme()"
   ]
  },
  {
   "cell_type": "code",
   "execution_count": 25,
   "metadata": {},
   "outputs": [
    {
     "data": {
      "text/plain": [
       "<AxesSubplot: xlabel='id', ylabel='duration'>"
      ]
     },
     "execution_count": 25,
     "metadata": {},
     "output_type": "execute_result"
    },
    {
     "data": {
      "image/png": "[encoded data removed]",
      "text/plain": [
       "<Figure size 640x480 with 1 Axes>"
      ]
     },
     "metadata": {},
     "output_type": "display_data"
    }
   ],
   "source": [
    "#sns.relplot(\n",
    "    #data = agredpd,\n",
    "    #x=\"duration\", y=\"id\",\n",
    "#)\n",
    "\n",
    "sns.barplot(\n",
    "    data = agredpd,\n",
    "    y=\"duration\",\n",
    "    x=\"id\",\n",
    ")"
   ]
  },
  {
   "cell_type": "markdown",
   "metadata": {},
   "source": [
    "Faire le même graphique mais cette fois-ci, faire en sorte qu'on puisse choisir un id et afficher seulement les trajets de cet id."
   ]
  },
  {
   "cell_type": "code",
   "execution_count": 28,
   "metadata": {},
   "outputs": [
    {
     "data": {
      "text/plain": [
       "<AxesSubplot: xlabel='numero_de_trajet', ylabel='duration'>"
      ]
     },
     "execution_count": 28,
     "metadata": {},
     "output_type": "execute_result"
    },
    {
     "data": {
      "image/png": "[encoded data removed]",
      "text/plain": [
       "<Figure size 640x480 with 1 Axes>"
      ]
     },
     "metadata": {},
     "output_type": "display_data"
    }
   ],
   "source": [
    "c=int(input(\"entrer l'ID\"))\n",
    "tempsid=agredpd[agredpd['id'] == c]\n",
    "sns.barplot(x = 'numero_de_trajet',\n",
    "            y = 'duration',\n",
    "            data = tempsid)"
   ]
  },
  {
   "cell_type": "code",
   "execution_count": null,
   "metadata": {},
   "outputs": [],
   "source": [
    "\n"
   ]
  },
  {
   "cell_type": "markdown",
   "metadata": {},
   "source": [
    "Sauvegardez votre dataset trajets au format csv dans le dossier data."
   ]
  },
  {
   "cell_type": "code",
   "execution_count": 39,
   "metadata": {},
   "outputs": [],
   "source": [
    "from pathlib import Path\n",
    "filepath = Path('data/trajets.csv')\n",
    "filepath.parent.mkdir(parents=True, exist_ok=True)\n",
    "agredpd.to_csv(filepath, sep='\\t')"
   ]
  },
  {
   "cell_type": "code",
   "execution_count": null,
   "metadata": {
    "collapsed": false,
    "jupyter": {
     "outputs_hidden": false
    }
   },
   "outputs": [],
   "source": []
  }
 ],
 "metadata": {
  "kernelspec": {
   "display_name": "Python 3 (ipykernel)",
   "language": "python",
   "name": "python3"
  },
  "language_info": {
   "codemirror_mode": {
    "name": "ipython",
    "version": 3
   },
   "file_extension": ".py",
   "mimetype": "text/x-python",
   "name": "python",
   "nbconvert_exporter": "python",
   "pygments_lexer": "ipython3",
   "version": "3.10.6"
  },
  "varInspector": {
   "cols": {
    "lenName": 16,
    "lenType": 16,
    "lenVar": 40
   },
   "kernels_config": {
    "python": {
     "delete_cmd_postfix": "",
     "delete_cmd_prefix": "del ",
     "library": "var_list.py",
     "varRefreshCmd": "print(var_dic_list())"
    },
    "r": {
     "delete_cmd_postfix": ") ",
     "delete_cmd_prefix": "rm(",
     "library": "var_list.r",
     "varRefreshCmd": "cat(var_dic_list()) "
    }
   },
   "types_to_exclude": [
    "module",
    "function",
    "builtin_function_or_method",
    "instance",
    "_Feature"
   ],
   "window_display": false
  }
 },
 "nbformat": 4,
 "nbformat_minor": 4
}
